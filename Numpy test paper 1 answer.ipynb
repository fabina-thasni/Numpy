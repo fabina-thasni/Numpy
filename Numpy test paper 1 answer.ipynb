{
 "cells": [
  {
   "cell_type": "code",
   "execution_count": 151,
   "id": "38f4d6fb-a7ae-4155-9c23-8c9129068416",
   "metadata": {},
   "outputs": [],
   "source": [
    "import numpy as np"
   ]
  },
  {
   "cell_type": "markdown",
   "id": "f4bb49c9-2a00-4349-b962-e43b5fc68a63",
   "metadata": {},
   "source": [
    "1.\tExplain the difference between deep copy and shallow copy in NumPy arrays."
   ]
  },
  {
   "cell_type": "markdown",
   "id": "0785895f-4dd9-4fa5-a5d3-2e3ee2777ef5",
   "metadata": {},
   "source": [
    "### deep copy\n",
    "* deep copy is a copy where the any changes in the original does not change in copy.\n",
    "### shallow copy\n",
    "* shallow copy is a copy where the changes in original change in the copy."
   ]
  },
  {
   "cell_type": "markdown",
   "id": "945a651d-8607-4a28-a32c-5768086674fe",
   "metadata": {},
   "source": [
    "2.\tExplain the difference between array and list?"
   ]
  },
  {
   "cell_type": "markdown",
   "id": "52ccb47e-0da9-4047-bd6d-11dc163b9cf9",
   "metadata": {},
   "source": [
    "\n",
    "### array\n",
    "* array contain same data type\n",
    "* less memory usage\n",
    "* stored in contigenously location\n",
    "* item wise computetion is possible\n",
    "### list\n",
    "* a list contain different types of data types.\n",
    "* list have huge memory usage"
   ]
  },
  {
   "cell_type": "markdown",
   "id": "6c0d6649-fce1-4f39-958f-b6f4c3ca3931",
   "metadata": {},
   "source": [
    "3.\tGiven an array a = np.array([10, 20, 30]), how do you square every element in the array?"
   ]
  },
  {
   "cell_type": "code",
   "execution_count": 152,
   "id": "2776cad3-1428-4700-a8e4-d2d3b415e150",
   "metadata": {},
   "outputs": [],
   "source": [
    "arr=np.array([10, 20, 30])"
   ]
  },
  {
   "cell_type": "code",
   "execution_count": 153,
   "id": "6ff9ca40-b3c5-4805-a5e7-ebffdcbc0c1d",
   "metadata": {},
   "outputs": [
    {
     "data": {
      "text/plain": [
       "array([100, 400, 900])"
      ]
     },
     "execution_count": 153,
     "metadata": {},
     "output_type": "execute_result"
    }
   ],
   "source": [
    "square=np.square(arr)\n",
    "square"
   ]
  },
  {
   "cell_type": "markdown",
   "id": "3c926684-4c0f-4b74-8053-7f897571f843",
   "metadata": {},
   "source": [
    "4.\tHow do you create an array of zeros with shape (3, 4)?"
   ]
  },
  {
   "cell_type": "code",
   "execution_count": 154,
   "id": "58d27bbc-8969-4e42-b8bb-2d0ba5a950dd",
   "metadata": {},
   "outputs": [
    {
     "data": {
      "text/plain": [
       "array([[0., 0., 0., 0.],\n",
       "       [0., 0., 0., 0.],\n",
       "       [0., 0., 0., 0.]])"
      ]
     },
     "execution_count": 154,
     "metadata": {},
     "output_type": "execute_result"
    }
   ],
   "source": [
    "arr=np.zeros((3,4))\n",
    "arr"
   ]
  },
  {
   "cell_type": "markdown",
   "id": "d483429f-c5ad-4119-9df5-c2e201d893e7",
   "metadata": {},
   "source": [
    "5.\tGiven the 1D array a = np.array([1, 2, 3, 4, 5]), how do you calculate the cumulative sum of the elements?"
   ]
  },
  {
   "cell_type": "code",
   "execution_count": 155,
   "id": "fe4938b0-18ec-4b50-af1d-dda878953780",
   "metadata": {},
   "outputs": [],
   "source": [
    " a = np.array([1, 2, 3, 4, 5])"
   ]
  },
  {
   "cell_type": "code",
   "execution_count": 156,
   "id": "46c87b24-40d5-463d-8bdc-595bd38a21c5",
   "metadata": {},
   "outputs": [
    {
     "data": {
      "text/plain": [
       "15"
      ]
     },
     "execution_count": 156,
     "metadata": {},
     "output_type": "execute_result"
    }
   ],
   "source": [
    "sum=np.sum(a)\n",
    "sum"
   ]
  },
  {
   "cell_type": "markdown",
   "id": "499379e3-673a-4901-bf66-8d98a7e03499",
   "metadata": {},
   "source": [
    "6.\tHow do you reverse the elements in a NumPy array a = np.array([1, 2, 3, 4, 5])?"
   ]
  },
  {
   "cell_type": "code",
   "execution_count": 157,
   "id": "11a1adec-8ec2-4f76-99a4-ecfde4e4c552",
   "metadata": {},
   "outputs": [
    {
     "data": {
      "text/plain": [
       "array([5, 4, 3, 2, 1])"
      ]
     },
     "execution_count": 157,
     "metadata": {},
     "output_type": "execute_result"
    }
   ],
   "source": [
    " a = np.array([1, 2, 3, 4, 5])\n",
    "a[::-1]"
   ]
  },
  {
   "cell_type": "markdown",
   "id": "72b970f5-e6c1-4d59-a48e-636211825144",
   "metadata": {},
   "source": [
    "7.\tHow do you find the indices of elements that are greater than 4 in the array a = np.array([1, 2, 3, 4, 5, 6, 7])?"
   ]
  },
  {
   "cell_type": "code",
   "execution_count": 158,
   "id": "ea9e3380-cf5f-41b4-be3f-399b58c0fc49",
   "metadata": {},
   "outputs": [],
   "source": [
    " a = np.array([1, 2, 3, 4, 5, 6, 7])"
   ]
  },
  {
   "cell_type": "code",
   "execution_count": 159,
   "id": "f4e85462-720d-471f-b540-7b5121271400",
   "metadata": {},
   "outputs": [
    {
     "name": "stdout",
     "output_type": "stream",
     "text": [
      "(4,) 5\n",
      "(5,) 6\n",
      "(6,) 7\n"
     ]
    }
   ],
   "source": [
    "for idx,i in np.ndenumerate(a):\n",
    "    if i>4:\n",
    "       print(idx,i)"
   ]
  },
  {
   "cell_type": "markdown",
   "id": "159afc00-a9f8-4931-9144-c52a1054dc58",
   "metadata": {},
   "source": [
    "8.\tHow do you create a 2D array with random floating-point numbers between 0 and 1 of shape (3, 3)?"
   ]
  },
  {
   "cell_type": "code",
   "execution_count": 160,
   "id": "fe820e23-5d33-477c-a701-7e22cc953d4d",
   "metadata": {},
   "outputs": [],
   "source": [
    "arr=np.random.rand(3,3)"
   ]
  },
  {
   "cell_type": "code",
   "execution_count": 161,
   "id": "33b17467-8f81-4526-8c55-3384aa3d07c3",
   "metadata": {},
   "outputs": [
    {
     "data": {
      "text/plain": [
       "array([[0.65989286, 0.52160858, 0.33508355],\n",
       "       [0.72385318, 0.63871655, 0.64396557],\n",
       "       [0.38642008, 0.08261853, 0.42470223]])"
      ]
     },
     "execution_count": 161,
     "metadata": {},
     "output_type": "execute_result"
    }
   ],
   "source": [
    "arr"
   ]
  },
  {
   "cell_type": "markdown",
   "id": "ac37d7e2-d9e6-49d8-a6c2-30488a079f6b",
   "metadata": {},
   "source": [
    "9.\tExtract the elements at indices [0, 2, 4] from the array a = np.array([10, 20, 30, 40, 50])."
   ]
  },
  {
   "cell_type": "code",
   "execution_count": 162,
   "id": "0def676c-feb8-45dd-95ec-71916b2edc14",
   "metadata": {},
   "outputs": [],
   "source": [
    " a = np.array([10, 20, 30, 40, 50])"
   ]
  },
  {
   "cell_type": "code",
   "execution_count": 163,
   "id": "e07debf9-4eb6-4f60-8024-65d5ad6a2e55",
   "metadata": {},
   "outputs": [
    {
     "data": {
      "text/plain": [
       "array([10, 30, 50])"
      ]
     },
     "execution_count": 163,
     "metadata": {},
     "output_type": "execute_result"
    }
   ],
   "source": [
    "a[0::2]"
   ]
  },
  {
   "cell_type": "code",
   "execution_count": 164,
   "id": "18ab8a16-6d28-4d44-aa28-9343818787dc",
   "metadata": {},
   "outputs": [
    {
     "data": {
      "text/plain": [
       "10"
      ]
     },
     "execution_count": 164,
     "metadata": {},
     "output_type": "execute_result"
    }
   ],
   "source": [
    "a[0]"
   ]
  },
  {
   "cell_type": "code",
   "execution_count": 165,
   "id": "c802f0a5-c66e-43f7-bc4e-e0de4038ae0f",
   "metadata": {},
   "outputs": [
    {
     "data": {
      "text/plain": [
       "30"
      ]
     },
     "execution_count": 165,
     "metadata": {},
     "output_type": "execute_result"
    }
   ],
   "source": [
    "a[2]"
   ]
  },
  {
   "cell_type": "code",
   "execution_count": 166,
   "id": "31106615-0378-400b-a053-11d42ac65664",
   "metadata": {},
   "outputs": [
    {
     "data": {
      "text/plain": [
       "50"
      ]
     },
     "execution_count": 166,
     "metadata": {},
     "output_type": "execute_result"
    }
   ],
   "source": [
    "a[4]"
   ]
  },
  {
   "cell_type": "markdown",
   "id": "cc4dece5-0a1d-47fa-b1ba-c7082d5a0da6",
   "metadata": {},
   "source": [
    "10.\tGiven the array a = np.array([10, 20, 30, 40]), how do you normalize the array so that its values are between 0 and 1?"
   ]
  },
  {
   "cell_type": "code",
   "execution_count": 167,
   "id": "ef587d88-739b-401c-8b40-bf432003a54c",
   "metadata": {},
   "outputs": [],
   "source": [
    " a = np.array([10, 20, 30, 40])"
   ]
  },
  {
   "cell_type": "code",
   "execution_count": 168,
   "id": "6af71f82-3ce8-497b-811b-cc04c76f6beb",
   "metadata": {},
   "outputs": [
    {
     "data": {
      "text/plain": [
       "array([0.        , 0.33333333, 0.66666667, 1.        ])"
      ]
     },
     "execution_count": 168,
     "metadata": {},
     "output_type": "execute_result"
    }
   ],
   "source": [
    "normalize=(a-np.min(a))/(np.max(a)-np.min(a))\n",
    "normalize"
   ]
  },
  {
   "cell_type": "markdown",
   "id": "c9869be1-c26b-4aac-aeb3-9af9c4bf343d",
   "metadata": {},
   "source": [
    "11.\tHow do you concatenate two arrays a = np.array([1, 2, 3]) and b = np.array([4, 5, 6]) along the first axis?"
   ]
  },
  {
   "cell_type": "code",
   "execution_count": 169,
   "id": "f7ab5d76-4318-473c-b7f9-d9c5c4cfef2f",
   "metadata": {},
   "outputs": [
    {
     "data": {
      "text/plain": [
       "array([1, 2, 3, 4, 5, 6])"
      ]
     },
     "execution_count": 169,
     "metadata": {},
     "output_type": "execute_result"
    }
   ],
   "source": [
    " a = np.array([1, 2, 3])\n",
    " b = np.array([4, 5, 6])\n",
    "c=np.concatenate((a,b),axis=0)\n",
    "c"
   ]
  },
  {
   "cell_type": "markdown",
   "id": "8f17ff7e-8812-4b00-9b91-8d772b8c2550",
   "metadata": {},
   "source": [
    "12.\tHow do you find the dot product of two arrays a = np.array([1, 2, 3]) and b = np.array([4, 5, 6])?"
   ]
  },
  {
   "cell_type": "code",
   "execution_count": 170,
   "id": "5c9c0a4c-4eb1-47dc-bb63-2e6d96b955e4",
   "metadata": {},
   "outputs": [
    {
     "data": {
      "text/plain": [
       "32"
      ]
     },
     "execution_count": 170,
     "metadata": {},
     "output_type": "execute_result"
    }
   ],
   "source": [
    "a = np.array([1, 2, 3])\n",
    "b = np.array([4, 5, 6])\n",
    "c=np.dot(a,b)\n",
    "c"
   ]
  },
  {
   "cell_type": "markdown",
   "id": "08174cb1-6eb8-431d-97e1-6689e87448d0",
   "metadata": {},
   "source": [
    "13.\tHow do you create an identity matrix of size 4x4?"
   ]
  },
  {
   "cell_type": "code",
   "execution_count": 171,
   "id": "3dac9563-c59d-414f-95f3-c18fe494d1ca",
   "metadata": {},
   "outputs": [
    {
     "data": {
      "text/plain": [
       "array([[1., 0., 0., 0.],\n",
       "       [0., 1., 0., 0.],\n",
       "       [0., 0., 1., 0.],\n",
       "       [0., 0., 0., 1.]])"
      ]
     },
     "execution_count": 171,
     "metadata": {},
     "output_type": "execute_result"
    }
   ],
   "source": [
    "a=np.eye(4,4)\n",
    "a"
   ]
  },
  {
   "cell_type": "markdown",
   "id": "ee3b1085-01ed-4f84-9dac-00a66a3a8fda",
   "metadata": {},
   "source": [
    "14.\tHow do you generate an array with random integers between 1 and 100, of shape (4, 4)?"
   ]
  },
  {
   "cell_type": "code",
   "execution_count": 172,
   "id": "f71eafb7-c70e-4673-b884-1cc880e652f8",
   "metadata": {},
   "outputs": [
    {
     "data": {
      "text/plain": [
       "array([[74, 29, 58, 87],\n",
       "       [74, 71, 71, 55],\n",
       "       [88, 80,  7, 83],\n",
       "       [67, 64, 36, 52]])"
      ]
     },
     "execution_count": 172,
     "metadata": {},
     "output_type": "execute_result"
    }
   ],
   "source": [
    "a=np.random.randint(1,100,size=(4,4))\n",
    "a"
   ]
  },
  {
   "cell_type": "markdown",
   "id": "c0d230e1-2b37-44f0-b1d8-9070126df498",
   "metadata": {},
   "source": [
    "15.\tHow do you split a NumPy array a = np.array([1, 2, 3, 4, 5, 6]) into three sub-arrays?"
   ]
  },
  {
   "cell_type": "code",
   "execution_count": 173,
   "id": "64d029fc-88f6-4b66-af3c-8d5395f0e2a1",
   "metadata": {},
   "outputs": [
    {
     "data": {
      "text/plain": [
       "[array([1, 2]), array([3, 4]), array([5, 6])]"
      ]
     },
     "execution_count": 173,
     "metadata": {},
     "output_type": "execute_result"
    }
   ],
   "source": [
    " a = np.array([1, 2, 3, 4, 5, 6])\n",
    "b=np.split(a,3)\n",
    "b"
   ]
  },
  {
   "cell_type": "markdown",
   "id": "523c2fd6-8537-40a7-b34e-edac03213db7",
   "metadata": {},
   "source": [
    "16.\tGiven the 2D array a = np.array([[1, 2, 3], [4, 5, 6], [7, 8, 9]]), how do you compute the sum of all elements along the second axis?"
   ]
  },
  {
   "cell_type": "code",
   "execution_count": 174,
   "id": "acf823c7-d925-46c5-bd73-fc611ac5bf14",
   "metadata": {},
   "outputs": [
    {
     "data": {
      "text/plain": [
       "array([ 6, 15, 24])"
      ]
     },
     "execution_count": 174,
     "metadata": {},
     "output_type": "execute_result"
    }
   ],
   "source": [
    "a = np.array([[1, 2, 3], [4, 5, 6], [7, 8, 9]])\n",
    "b=np.sum(a,axis=1)\n",
    "b"
   ]
  },
  {
   "cell_type": "markdown",
   "id": "55dbd111-55cf-472a-868c-90b38e18b5d6",
   "metadata": {},
   "source": [
    "17.\tHow do you compute the element-wise maximum of two arrays a = np.array([1, 2, 3]) and b = np.array([3, 2, 1])?"
   ]
  },
  {
   "cell_type": "code",
   "execution_count": 175,
   "id": "b5544577-bb0b-4fed-9339-a986f186ec23",
   "metadata": {},
   "outputs": [
    {
     "data": {
      "text/plain": [
       "array([3, 2, 3])"
      ]
     },
     "execution_count": 175,
     "metadata": {},
     "output_type": "execute_result"
    }
   ],
   "source": [
    "a = np.array([1, 2, 3]) \n",
    "b = np.array([3, 2, 1])\n",
    "c=np.maximum(a,b)\n",
    "c"
   ]
  },
  {
   "cell_type": "markdown",
   "id": "24b41e4d-c708-4626-ac3e-8afda1e53a75",
   "metadata": {},
   "source": [
    "18.\tHow do you find the unique elements in the array a = np.array([1, 2, 2, 3, 3, 4, 5])?"
   ]
  },
  {
   "cell_type": "code",
   "execution_count": 176,
   "id": "d380ea23-8e92-49a3-a249-dcdbb5b71004",
   "metadata": {},
   "outputs": [
    {
     "data": {
      "text/plain": [
       "array([1, 2, 3, 4, 5])"
      ]
     },
     "execution_count": 176,
     "metadata": {},
     "output_type": "execute_result"
    }
   ],
   "source": [
    "a = np.array([1, 2, 2, 3, 3, 4, 5])\n",
    "b=np.unique(a)  \n",
    "b"
   ]
  },
  {
   "cell_type": "markdown",
   "id": "26d92256-f245-46b3-8368-27d0c58a9441",
   "metadata": {},
   "source": [
    "19.\tHow do you use np.arange to create an array of values between 1 and 50 with a step of 3, and then filter the elements that are divisible by 5?"
   ]
  },
  {
   "cell_type": "code",
   "execution_count": 187,
   "id": "b9b47fcc-19de-47f2-8492-3ef6412d7e2f",
   "metadata": {},
   "outputs": [
    {
     "name": "stdout",
     "output_type": "stream",
     "text": [
      "[10 25 40]\n"
     ]
    }
   ],
   "source": [
    "a=np.arange(1,50,3)\n",
    "list=a%5==0\n",
    "list=a[list]\n",
    "print(list)"
   ]
  },
  {
   "cell_type": "markdown",
   "id": "4159b069-5e81-4030-a7bf-3540a67c980d",
   "metadata": {},
   "source": [
    "20.\tGiven the array a = np.array([1, 2, 3, 4, 5]) and b = np.array([6, 7, 8, 9, 10]), use np.where to replace elements in a that are less than 3 with -3, then  horizontally stack a and b."
   ]
  },
  {
   "cell_type": "code",
   "execution_count": 196,
   "id": "df318bf4-c592-4428-a6fc-a99fe67ee200",
   "metadata": {},
   "outputs": [
    {
     "data": {
      "text/plain": [
       "array([-3, -3,  3,  4,  5,  6,  7,  8,  9, 10])"
      ]
     },
     "execution_count": 196,
     "metadata": {},
     "output_type": "execute_result"
    }
   ],
   "source": [
    "a = np.array([1, 2, 3, 4, 5]) \n",
    "b = np.array([6, 7, 8, 9, 10])\n",
    "a=np.where(a<3,-3,a)\n",
    "d=np.hstack((a,b))\n",
    "d"
   ]
  },
  {
   "cell_type": "markdown",
   "id": "9dc91d43-a7fd-42b1-866a-7e4dc9ffa9d1",
   "metadata": {},
   "source": [
    "21.\tHow do you generate a 3D array of shape (4, 3, 2) where each 2D slice (3x2) is filled with random values between 0 and 1, and then normalize the entire 3D array to values between 0 and 1 (with respect to the min and max of the array)?"
   ]
  },
  {
   "cell_type": "code",
   "execution_count": 211,
   "id": "56ffb7a3-3bb5-443a-8cc3-66ab38515681",
   "metadata": {},
   "outputs": [
    {
     "data": {
      "text/plain": [
       "array([[[0.37454012, 0.95071431],\n",
       "        [0.73199394, 0.59865848],\n",
       "        [0.15601864, 0.15599452]],\n",
       "\n",
       "       [[0.05808361, 0.86617615],\n",
       "        [0.60111501, 0.70807258],\n",
       "        [0.02058449, 0.96990985]],\n",
       "\n",
       "       [[0.83244264, 0.21233911],\n",
       "        [0.18182497, 0.18340451],\n",
       "        [0.30424224, 0.52475643]],\n",
       "\n",
       "       [[0.43194502, 0.29122914],\n",
       "        [0.61185289, 0.13949386],\n",
       "        [0.29214465, 0.36636184]]])"
      ]
     },
     "execution_count": 211,
     "metadata": {},
     "output_type": "execute_result"
    }
   ],
   "source": [
    "np.random.seed(42)\n",
    "a=np.random.rand(4,3,2)\n",
    "a"
   ]
  },
  {
   "cell_type": "code",
   "execution_count": 212,
   "id": "0a8f9578-46bd-4e07-8b6d-f6b6e5dcdb76",
   "metadata": {},
   "outputs": [
    {
     "data": {
      "text/plain": [
       "array([[[0.37284965, 0.9797798 ],\n",
       "        [0.74938422, 0.60893137],\n",
       "        [0.14266357, 0.14263816]],\n",
       "\n",
       "       [[0.03950081, 0.89072903],\n",
       "        [0.61151903, 0.72418595],\n",
       "        [0.        , 1.        ]],\n",
       "\n",
       "       [[0.85519484, 0.20199041],\n",
       "        [0.16984743, 0.17151129],\n",
       "        [0.2987993 , 0.53108445]],\n",
       "\n",
       "       [[0.4333188 , 0.28509156],\n",
       "        [0.62283009, 0.12525671],\n",
       "        [0.28605594, 0.36423482]]])"
      ]
     },
     "execution_count": 212,
     "metadata": {},
     "output_type": "execute_result"
    }
   ],
   "source": [
    "normalize=(a-np.min(a))/(np.max(a)-np.min(a))\n",
    "normalize"
   ]
  },
  {
   "cell_type": "markdown",
   "id": "80c247a3-0d93-47e4-8abb-2d06c289c694",
   "metadata": {},
   "source": [
    "22.\tGiven a 2D array of shape (5, 5) filled with random integers between 1 and 100, replace all odd numbers with -1 and all even numbers with 1."
   ]
  },
  {
   "cell_type": "code",
   "execution_count": 228,
   "id": "70587788-9770-4929-9c1d-fd2e6f0e25f8",
   "metadata": {},
   "outputs": [
    {
     "data": {
      "text/plain": [
       "array([[52, 93, 15, 72, 61],\n",
       "       [21, 83, 87, 75, 75],\n",
       "       [88, 24,  3, 22, 53],\n",
       "       [ 2, 88, 30, 38,  2],\n",
       "       [64, 60, 21, 33, 76]])"
      ]
     },
     "execution_count": 228,
     "metadata": {},
     "output_type": "execute_result"
    }
   ],
   "source": [
    "np.random.seed(42)\n",
    "a=np.random.randint(1,100,size=(5,5))\n",
    "a"
   ]
  },
  {
   "cell_type": "code",
   "execution_count": 231,
   "id": "483f6c4d-fc7f-459d-b386-ca9847506f8b",
   "metadata": {},
   "outputs": [
    {
     "data": {
      "text/plain": [
       "array([[ 1, -1, -1,  1, -1],\n",
       "       [-1, -1, -1, -1, -1],\n",
       "       [ 1,  1, -1,  1, -1],\n",
       "       [ 1,  1,  1,  1,  1],\n",
       "       [ 1,  1, -1, -1,  1]])"
      ]
     },
     "execution_count": 231,
     "metadata": {},
     "output_type": "execute_result"
    }
   ],
   "source": [
    "a=np.where(a%2!=0,-1,1)\n",
    "a"
   ]
  },
  {
   "cell_type": "markdown",
   "id": "012fee16-c0b6-420b-91e1-9150ecc0b85a",
   "metadata": {},
   "source": [
    "23.\tGiven a large 1D array of 10 million random floating-point numbers between 0 and 1, find the 10th and 90th percentile of the values."
   ]
  },
  {
   "cell_type": "code",
   "execution_count": 235,
   "id": "9100ee43-938d-4a25-b5cc-f7a689ab58c2",
   "metadata": {},
   "outputs": [
    {
     "data": {
      "text/plain": [
       "0.09991866435149882"
      ]
     },
     "execution_count": 235,
     "metadata": {},
     "output_type": "execute_result"
    }
   ],
   "source": [
    "a=np.random.rand(10000000)\n",
    "percentile= np.percentile(a,10)   \n",
    "percentile"
   ]
  },
  {
   "cell_type": "code",
   "execution_count": 236,
   "id": "a9fe01fd-7c06-44d3-b35d-ba18e5684d07",
   "metadata": {},
   "outputs": [
    {
     "data": {
      "text/plain": [
       "0.8999591777649296"
      ]
     },
     "execution_count": 236,
     "metadata": {},
     "output_type": "execute_result"
    }
   ],
   "source": [
    "percentile= np.percentile(a,90)   \n",
    "percentile"
   ]
  },
  {
   "cell_type": "markdown",
   "id": "5b233ea1-a478-47db-921c-acb3aaadf475",
   "metadata": {},
   "source": [
    "24.\tGiven a 5x5 matrix arr, use np.where to:\n",
    "•\tReplace all elements greater than 10 with the value 100.\n",
    "•\tReplace all elements less than or equal to 10 with the value -100\n"
   ]
  },
  {
   "cell_type": "code",
   "execution_count": 248,
   "id": "471614d9-ec3a-41b4-b585-45c03adfe819",
   "metadata": {},
   "outputs": [],
   "source": [
    "a=np.arange(0,25)\n",
    "a=a.reshape(5,5)"
   ]
  },
  {
   "cell_type": "code",
   "execution_count": 249,
   "id": "ee0e5afc-da34-4864-b536-e574772142bb",
   "metadata": {},
   "outputs": [],
   "source": [
    "a=np.where(a>10,100,-100)"
   ]
  },
  {
   "cell_type": "code",
   "execution_count": 250,
   "id": "2f9931e7-cb14-41bd-b4e6-c457c7bf8ed3",
   "metadata": {},
   "outputs": [
    {
     "data": {
      "text/plain": [
       "array([[-100, -100, -100, -100, -100],\n",
       "       [-100, -100, -100, -100, -100],\n",
       "       [-100,  100,  100,  100,  100],\n",
       "       [ 100,  100,  100,  100,  100],\n",
       "       [ 100,  100,  100,  100,  100]])"
      ]
     },
     "execution_count": 250,
     "metadata": {},
     "output_type": "execute_result"
    }
   ],
   "source": [
    "a"
   ]
  },
  {
   "cell_type": "markdown",
   "id": "f1511c6e-0c66-4099-9246-e5883d79f513",
   "metadata": {},
   "source": [
    "25.\tGiven a 2D array arr = np.array([[1, 2, 3, 4], [5, 6, 7, 8], [9, 10, 11, 12]]), perform the following operations:\n",
    "•\tHorizontally split the array into two equal parts.\n",
    "•\tVertically split the array into three equal parts.\n",
    "•\tStack the split parts vertically and horizontally.\n"
   ]
  },
  {
   "cell_type": "code",
   "execution_count": null,
   "id": "5d9fe8cc-f3b2-4772-824f-92024b89d503",
   "metadata": {},
   "outputs": [],
   "source": [
    "arr = np.array([[1, 2, 3, 4], [5, 6, 7, 8], [9, 10, 11, 12]])"
   ]
  },
  {
   "cell_type": "code",
   "execution_count": 264,
   "id": "101409d0-2133-4e9d-9e36-2a39d050f566",
   "metadata": {},
   "outputs": [
    {
     "data": {
      "text/plain": [
       "[array([[0.65989286, 0.52160858],\n",
       "        [0.72385318, 0.63871655],\n",
       "        [0.38642008, 0.08261853]]),\n",
       " array([[0.33508355],\n",
       "        [0.64396557],\n",
       "        [0.42470223]])]"
      ]
     },
     "execution_count": 264,
     "metadata": {},
     "output_type": "execute_result"
    }
   ],
   "source": [
    "h=np.array_split(arr,2,axis=1)\n",
    "h"
   ]
  },
  {
   "cell_type": "code",
   "execution_count": 254,
   "id": "ca6a1877-e8d8-4825-bf94-d7e50f8c8c25",
   "metadata": {},
   "outputs": [
    {
     "data": {
      "text/plain": [
       "[array([[0.65989286, 0.52160858, 0.33508355]]),\n",
       " array([[0.72385318, 0.63871655, 0.64396557]]),\n",
       " array([[0.38642008, 0.08261853, 0.42470223]])]"
      ]
     },
     "execution_count": 254,
     "metadata": {},
     "output_type": "execute_result"
    }
   ],
   "source": [
    "v=np.array_split(arr,3)\n",
    "v"
   ]
  },
  {
   "cell_type": "code",
   "execution_count": null,
   "id": "62b4ef0f-b3c6-4cdb-8b57-2398485bc634",
   "metadata": {},
   "outputs": [],
   "source": []
  }
 ],
 "metadata": {
  "kernelspec": {
   "display_name": "Python 3 (ipykernel)",
   "language": "python",
   "name": "python3"
  },
  "language_info": {
   "codemirror_mode": {
    "name": "ipython",
    "version": 3
   },
   "file_extension": ".py",
   "mimetype": "text/x-python",
   "name": "python",
   "nbconvert_exporter": "python",
   "pygments_lexer": "ipython3",
   "version": "3.12.4"
  }
 },
 "nbformat": 4,
 "nbformat_minor": 5
}
