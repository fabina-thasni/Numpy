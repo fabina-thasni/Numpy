{
 "cells": [
  {
   "cell_type": "code",
   "execution_count": 1,
   "id": "f7263653-c37c-46a2-8a09-aea4ab9e79f8",
   "metadata": {},
   "outputs": [],
   "source": [
    "import numpy as np"
   ]
  },
  {
   "cell_type": "markdown",
   "id": "f9cc86c1-c9ef-447a-a45c-1a014baa84c0",
   "metadata": {},
   "source": [
    "## Introduction to NumPy\n",
    "•\tNumPy (Numerical Python) is a library for the Python programming language that provides support for large, multi-dimensional arrays and matrices, along with a collection of mathematical functions to operate on these arrays."
   ]
  },
  {
   "cell_type": "markdown",
   "id": "01c3ed08-b705-48ce-8a51-3ef3f4ff2da0",
   "metadata": {},
   "source": [
    "### What is an Array in Python?\n",
    "\n",
    "* An array is a collection of items stored at contiguous memory locations. \n",
    "* The idea is to store multiple items of the same type together."
   ]
  },
  {
   "cell_type": "markdown",
   "id": "9ce0f9d7-1491-4780-b871-8dc22bb895bb",
   "metadata": {},
   "source": [
    "### Why Use NumPy?\n",
    "•\tIn Python we have lists that serve the purpose of arrays, but they are slow to process.\n",
    "\n",
    "•\tNumPy aims to provide an array object that is up to 50x faster than traditional Python lists.\n",
    "\n",
    "•\tThe array object in NumPy is called ndarray, it provides a lot of supporting functions that make working with ndarray very easy.\n",
    "\n",
    "•\tArrays are very frequently used in data science, where speed and resources are very important.\r\n",
    "ilable."
   ]
  },
  {
   "cell_type": "markdown",
   "id": "53093dcd-7b1c-4d1b-a9aa-2bd105e6efc4",
   "metadata": {},
   "source": [
    "### Why is NumPy Faster Than Lists?\n",
    "\n",
    "•\tNumPy arrays are stored at one continuous place in memory unlike lists, so processes can access and manipulate them very efficiently.\n",
    "\n",
    "•\tThis behaviour is called locality of reference in computer science.\n",
    "\n",
    "•\tThis is the main reason why NumPy is faster than lists. Also, it is optimized to work with latest CPU architectures.\n",
    "\n",
    "•\tNo need for data type checking.\n",
    "\n",
    "•\tItem wise computations available."
   ]
  },
  {
   "cell_type": "markdown",
   "id": "2c63cb3e-8447-43f3-a640-4deb559aece3",
   "metadata": {},
   "source": [
    "## Create numpy ndarray object"
   ]
  },
  {
   "cell_type": "markdown",
   "id": "f763405c-c415-483f-a589-aafb058e45c3",
   "metadata": {},
   "source": [
    "#### 0 dimensional array\n",
    "\n",
    "* A 0-dimensional array (also known as a scalar) in NumPy is an array with no dimensions.\n",
    "* It simply holds a single value."
   ]
  },
  {
   "cell_type": "code",
   "execution_count": 2,
   "id": "463b92af-d0b5-412b-83a4-40badf4974bf",
   "metadata": {},
   "outputs": [
    {
     "data": {
      "text/plain": [
       "array(34)"
      ]
     },
     "execution_count": 2,
     "metadata": {},
     "output_type": "execute_result"
    }
   ],
   "source": [
    "arr=np.array(34)\n",
    "arr"
   ]
  },
  {
   "cell_type": "markdown",
   "id": "ba5ea8e6-715c-444b-aa1f-b258aeada8bc",
   "metadata": {},
   "source": [
    "#### One dimensional array\n",
    "* A 1-dimensional array in NumPy is essentially a simple list of values (also called a vector).\n",
    "* It has only one axis, which is typically referred to as the length of the array.\n"
   ]
  },
  {
   "cell_type": "code",
   "execution_count": 3,
   "id": "2f361ac1-c7c3-4006-b26e-462c7aed40cb",
   "metadata": {},
   "outputs": [
    {
     "data": {
      "text/plain": [
       "array([1, 2, 3, 4])"
      ]
     },
     "execution_count": 3,
     "metadata": {},
     "output_type": "execute_result"
    }
   ],
   "source": [
    "oned=np.array([1,2,3,4])\n",
    "oned"
   ]
  },
  {
   "cell_type": "markdown",
   "id": "b451322f-01c1-4b22-bae7-4ec23343f6f9",
   "metadata": {},
   "source": [
    "#### Two dimensional array\n",
    "\n",
    "* An array that has 1-D arrays as its elements is called a 2-D array"
   ]
  },
  {
   "cell_type": "code",
   "execution_count": 4,
   "id": "94674417-a8c7-494e-ba9b-61f40e90979a",
   "metadata": {},
   "outputs": [
    {
     "data": {
      "text/plain": [
       "array([[1, 2, 3],\n",
       "       [4, 5, 6]])"
      ]
     },
     "execution_count": 4,
     "metadata": {},
     "output_type": "execute_result"
    }
   ],
   "source": [
    "twod=np.array([[1,2,3],[4,5,6]])\n",
    "twod"
   ]
  },
  {
   "cell_type": "markdown",
   "id": "73a8dfa3-43a7-41f8-afcc-abe640e28e0a",
   "metadata": {},
   "source": [
    "#### 4*4 matrix"
   ]
  },
  {
   "cell_type": "code",
   "execution_count": 5,
   "id": "a730fc0d-0cf7-4cc5-b529-1e2da545fd76",
   "metadata": {},
   "outputs": [
    {
     "data": {
      "text/plain": [
       "array([[ 1,  2,  3,  4],\n",
       "       [ 5,  6,  7,  8],\n",
       "       [ 9, 10, 11, 12],\n",
       "       [13, 14, 15, 16]])"
      ]
     },
     "execution_count": 5,
     "metadata": {},
     "output_type": "execute_result"
    }
   ],
   "source": [
    "frfr=np.array([[1,2,3,4],[5,6,7,8],[9,10,11,12],[13,14,15,16]])\n",
    "frfr"
   ]
  },
  {
   "cell_type": "markdown",
   "id": "b6674eeb-3df2-4593-ab49-2cb506ad04d4",
   "metadata": {},
   "source": [
    "#### 3*4 matrix"
   ]
  },
  {
   "cell_type": "code",
   "execution_count": 6,
   "id": "88178024-f09e-4aac-bc28-7ff7bfdf489e",
   "metadata": {},
   "outputs": [
    {
     "data": {
      "text/plain": [
       "array([[ 1,  2,  3,  4],\n",
       "       [ 5,  6,  7,  8],\n",
       "       [ 9, 10, 11, 12]])"
      ]
     },
     "execution_count": 6,
     "metadata": {},
     "output_type": "execute_result"
    }
   ],
   "source": [
    "thfr=np.array([[1,2,3,4],[5,6,7,8],[9,10,11,12]])\n",
    "thfr"
   ]
  },
  {
   "cell_type": "code",
   "execution_count": 7,
   "id": "c1679e0e-34b5-4dba-bee2-6a5c51760dfe",
   "metadata": {},
   "outputs": [
    {
     "name": "stdout",
     "output_type": "stream",
     "text": [
      "<class 'numpy.ndarray'>\n"
     ]
    }
   ],
   "source": [
    "print(type(thfr))"
   ]
  },
  {
   "cell_type": "markdown",
   "id": "330c3944-1ec5-4516-8713-0ccf60a90413",
   "metadata": {},
   "source": [
    "#### 3 dimensional array\n",
    "\n",
    "* An array that has 2-D arrays(matrices) as its elements is called a 3-D array"
   ]
  },
  {
   "cell_type": "code",
   "execution_count": 8,
   "id": "c82c5233-49c4-45bb-acc9-52feaf151144",
   "metadata": {},
   "outputs": [
    {
     "data": {
      "text/plain": [
       "array([[[ 1,  2,  3],\n",
       "        [ 4,  5,  6]],\n",
       "\n",
       "       [[ 7,  8,  9],\n",
       "        [10, 11, 12]]])"
      ]
     },
     "execution_count": 8,
     "metadata": {},
     "output_type": "execute_result"
    }
   ],
   "source": [
    "threed=np.array([[[1, 2, 3],[4, 5, 6]], [[7, 8, 9],[10, 11, 12]]])\n",
    "threed"
   ]
  },
  {
   "cell_type": "code",
   "execution_count": 9,
   "id": "094bc0e2-6827-48a2-bdc1-1fcedd346d0c",
   "metadata": {},
   "outputs": [
    {
     "data": {
      "text/plain": [
       "array([[[ 1,  2,  3],\n",
       "        [ 4,  5,  6],\n",
       "        [ 1,  2,  3]],\n",
       "\n",
       "       [[ 7,  8,  9],\n",
       "        [10, 11, 12],\n",
       "        [ 4,  6,  5]]])"
      ]
     },
     "execution_count": 9,
     "metadata": {},
     "output_type": "execute_result"
    }
   ],
   "source": [
    "three=np.array([\n",
    "    [[1, 2, 3],[4, 5, 6],[1,2,3]],\n",
    "    [[7, 8, 9],[10, 11, 12],[4,6,5]]\n",
    "])\n",
    "three"
   ]
  },
  {
   "cell_type": "markdown",
   "id": "a8bfa91c-9864-46b9-9eec-e1c553ab0362",
   "metadata": {},
   "source": [
    "# Properties of ndarray\n",
    "•\tndim: Number of dimensions (axes) of the array.\n",
    "\n",
    "•\tshape: A tuple of integers indicating the size of the array in each dimension.\n",
    "\n",
    "•\tsize: Total number of elements in the array.\n",
    "\n",
    "•\tdtype: Data type of the array elements\n"
   ]
  },
  {
   "cell_type": "markdown",
   "id": "9bc1ee5f-fe54-410e-992d-7fe698a707ac",
   "metadata": {},
   "source": [
    "# Check Number of Dimensions?\n",
    "\n",
    "•\tNumPy Arrays provides the ndim attribute that returns an integer that tells us how many dimensions the array have.\n"
   ]
  },
  {
   "cell_type": "code",
   "execution_count": 10,
   "id": "fbf6e659-fa2d-4d34-b8ba-f49b0636ff64",
   "metadata": {},
   "outputs": [
    {
     "data": {
      "text/plain": [
       "3"
      ]
     },
     "execution_count": 10,
     "metadata": {},
     "output_type": "execute_result"
    }
   ],
   "source": [
    "#### To check dimensions\n",
    "three.ndim"
   ]
  },
  {
   "cell_type": "code",
   "execution_count": 11,
   "id": "aa8bed73-28d9-4999-8ad5-23f3e914a987",
   "metadata": {},
   "outputs": [
    {
     "data": {
      "text/plain": [
       "(2, 3, 3)"
      ]
     },
     "execution_count": 11,
     "metadata": {},
     "output_type": "execute_result"
    }
   ],
   "source": [
    "three.shape"
   ]
  },
  {
   "cell_type": "code",
   "execution_count": 12,
   "id": "0db6479a-00ec-400e-8e14-ef39b95739c2",
   "metadata": {},
   "outputs": [
    {
     "data": {
      "text/plain": [
       "18"
      ]
     },
     "execution_count": 12,
     "metadata": {},
     "output_type": "execute_result"
    }
   ],
   "source": [
    "three.size"
   ]
  },
  {
   "cell_type": "code",
   "execution_count": 13,
   "id": "3ccb18b7-c6cb-432a-974f-abfd65a2104c",
   "metadata": {},
   "outputs": [
    {
     "name": "stdout",
     "output_type": "stream",
     "text": [
      "<class 'numpy.ndarray'>\n"
     ]
    }
   ],
   "source": [
    "print(type(three))"
   ]
  },
  {
   "cell_type": "code",
   "execution_count": 14,
   "id": "ec7599fb-fad1-40fe-8de5-5416018866ba",
   "metadata": {},
   "outputs": [
    {
     "data": {
      "text/plain": [
       "array([[[  1,   3,   4,   5,   7],\n",
       "        [  4,   3,   2,   0,   7],\n",
       "        [ 67,  80, 100,   5,   8]],\n",
       "\n",
       "       [[  4,   8,   5,   8,   9],\n",
       "        [ 34,  56,  78,  56,  98],\n",
       "        [ 23,  56,  32,  12,  11]]])"
      ]
     },
     "execution_count": 14,
     "metadata": {},
     "output_type": "execute_result"
    }
   ],
   "source": [
    "three1=np.array([\n",
    "    [[1,3,4,5,7],[4,3,2,0,7],[67,80,100,5,8]],\n",
    "    [[4,8,5,8,9],[34,56,78,56,98],[23,56,32,12,11]]\n",
    "])\n",
    "three1"
   ]
  },
  {
   "cell_type": "code",
   "execution_count": 15,
   "id": "47125da1-a2c2-4ccb-aaca-366e540f9fb0",
   "metadata": {},
   "outputs": [
    {
     "data": {
      "text/plain": [
       "30"
      ]
     },
     "execution_count": 15,
     "metadata": {},
     "output_type": "execute_result"
    }
   ],
   "source": [
    "three1.size"
   ]
  },
  {
   "cell_type": "code",
   "execution_count": 16,
   "id": "a77ea8ac-41f3-4666-9a19-a4fb58cdc3d8",
   "metadata": {},
   "outputs": [
    {
     "data": {
      "text/plain": [
       "(2, 3, 5)"
      ]
     },
     "execution_count": 16,
     "metadata": {},
     "output_type": "execute_result"
    }
   ],
   "source": [
    "three1.shape"
   ]
  },
  {
   "cell_type": "code",
   "execution_count": 17,
   "id": "be6aba62-9a63-4e94-bc18-12d4de97591e",
   "metadata": {},
   "outputs": [
    {
     "data": {
      "text/plain": [
       "3"
      ]
     },
     "execution_count": 17,
     "metadata": {},
     "output_type": "execute_result"
    }
   ],
   "source": [
    "three1.ndim"
   ]
  },
  {
   "cell_type": "code",
   "execution_count": 18,
   "id": "816ba54e-3423-472d-ae88-4c719ee34f77",
   "metadata": {},
   "outputs": [
    {
     "data": {
      "text/plain": [
       "array([[[ 1,  3,  4,  5,  7],\n",
       "        [ 4,  3,  2,  0,  7]],\n",
       "\n",
       "       [[ 4,  8,  5,  8,  9],\n",
       "        [34, 56, 78, 56, 98]],\n",
       "\n",
       "       [[ 1,  3,  4,  5,  7],\n",
       "        [ 4,  3,  2,  0,  7]]])"
      ]
     },
     "execution_count": 18,
     "metadata": {},
     "output_type": "execute_result"
    }
   ],
   "source": [
    "three2=np.array([\n",
    "    [[1,3,4,5,7],[4,3,2,0,7]],\n",
    "    [[4,8,5,8,9],[34,56,78,56,98]],\n",
    "    [[1,3,4,5,7],[4,3,2,0,7]]\n",
    "])\n",
    "three2"
   ]
  },
  {
   "cell_type": "code",
   "execution_count": 19,
   "id": "63dd4b29-7a64-4b15-bc72-fd2d5207c4d5",
   "metadata": {},
   "outputs": [
    {
     "data": {
      "text/plain": [
       "30"
      ]
     },
     "execution_count": 19,
     "metadata": {},
     "output_type": "execute_result"
    }
   ],
   "source": [
    "three2.size"
   ]
  },
  {
   "cell_type": "code",
   "execution_count": 20,
   "id": "20c80bb9-fcd9-4c64-a25a-587b1b71021d",
   "metadata": {},
   "outputs": [
    {
     "data": {
      "text/plain": [
       "3"
      ]
     },
     "execution_count": 20,
     "metadata": {},
     "output_type": "execute_result"
    }
   ],
   "source": [
    "three2.ndim"
   ]
  },
  {
   "cell_type": "code",
   "execution_count": 21,
   "id": "59a748d1-10fc-4103-b776-b74119b4a434",
   "metadata": {},
   "outputs": [
    {
     "data": {
      "text/plain": [
       "(3, 2, 5)"
      ]
     },
     "execution_count": 21,
     "metadata": {},
     "output_type": "execute_result"
    }
   ],
   "source": [
    "three2.shape"
   ]
  },
  {
   "cell_type": "code",
   "execution_count": 22,
   "id": "2d58bdfa-abb7-474e-86f3-662c0a9ae06b",
   "metadata": {},
   "outputs": [
    {
     "data": {
      "text/plain": [
       "dtype('int32')"
      ]
     },
     "execution_count": 22,
     "metadata": {},
     "output_type": "execute_result"
    }
   ],
   "source": [
    "three2.dtype"
   ]
  },
  {
   "cell_type": "markdown",
   "id": "09c6f20a-b86e-4c31-ac2d-bfcfe3709b5c",
   "metadata": {},
   "source": [
    "## Accessing an element"
   ]
  },
  {
   "cell_type": "code",
   "execution_count": 23,
   "id": "fc533314-a0dd-435c-a993-b54100efd081",
   "metadata": {},
   "outputs": [
    {
     "data": {
      "text/plain": [
       "array([1, 2, 3, 4])"
      ]
     },
     "execution_count": 23,
     "metadata": {},
     "output_type": "execute_result"
    }
   ],
   "source": [
    "arr=np.array([1,2,3,4])\n",
    "arr"
   ]
  },
  {
   "cell_type": "code",
   "execution_count": 24,
   "id": "9d659480-36dd-4ca7-bb61-c4d30466221b",
   "metadata": {},
   "outputs": [
    {
     "data": {
      "text/plain": [
       "1"
      ]
     },
     "execution_count": 24,
     "metadata": {},
     "output_type": "execute_result"
    }
   ],
   "source": [
    "arr[0]"
   ]
  },
  {
   "cell_type": "code",
   "execution_count": 25,
   "id": "5d3304e1-96ff-4037-928c-4d9c958385f4",
   "metadata": {},
   "outputs": [
    {
     "data": {
      "text/plain": [
       "4"
      ]
     },
     "execution_count": 25,
     "metadata": {},
     "output_type": "execute_result"
    }
   ],
   "source": [
    "arr[3]"
   ]
  },
  {
   "cell_type": "code",
   "execution_count": 26,
   "id": "f57d0cb1-155d-4a96-bdd0-a9d5123c2784",
   "metadata": {},
   "outputs": [
    {
     "data": {
      "text/plain": [
       "array([[1, 2, 3, 4],\n",
       "       [5, 6, 7, 8]])"
      ]
     },
     "execution_count": 26,
     "metadata": {},
     "output_type": "execute_result"
    }
   ],
   "source": [
    "arr2=np.array([\n",
    "    [1,2,3,4],\n",
    "    [5,6,7,8]    \n",
    "])\n",
    "arr2"
   ]
  },
  {
   "cell_type": "code",
   "execution_count": 27,
   "id": "6f3d9f54-05ca-4898-9eb6-999484f4320d",
   "metadata": {},
   "outputs": [
    {
     "data": {
      "text/plain": [
       "1"
      ]
     },
     "execution_count": 27,
     "metadata": {},
     "output_type": "execute_result"
    }
   ],
   "source": [
    "arr2[0,0]"
   ]
  },
  {
   "cell_type": "code",
   "execution_count": 28,
   "id": "19abc292-61a1-46eb-b44f-14ad436d88a0",
   "metadata": {},
   "outputs": [
    {
     "data": {
      "text/plain": [
       "2"
      ]
     },
     "execution_count": 28,
     "metadata": {},
     "output_type": "execute_result"
    }
   ],
   "source": [
    "arr2[0,1]"
   ]
  },
  {
   "cell_type": "code",
   "execution_count": 29,
   "id": "30f8fb4a-a714-45bb-b902-7f5e3a8631f0",
   "metadata": {},
   "outputs": [
    {
     "data": {
      "text/plain": [
       "3"
      ]
     },
     "execution_count": 29,
     "metadata": {},
     "output_type": "execute_result"
    }
   ],
   "source": [
    "arr2[0,2]"
   ]
  },
  {
   "cell_type": "code",
   "execution_count": 30,
   "id": "24e4fd97-d602-435a-984c-45028d5d381e",
   "metadata": {},
   "outputs": [
    {
     "data": {
      "text/plain": [
       "array([[[ 1,  2,  3,  4],\n",
       "        [ 5,  6,  7,  8]],\n",
       "\n",
       "       [[11, 21, 31, 41],\n",
       "        [51, 61, 71, 81]]])"
      ]
     },
     "execution_count": 30,
     "metadata": {},
     "output_type": "execute_result"
    }
   ],
   "source": [
    "arr3=np.array([\n",
    "    [[1,2,3,4],[5,6,7,8]]  ,\n",
    "    [[11,21,31,41],[51,61,71,81]] \n",
    "])\n",
    "arr3"
   ]
  },
  {
   "cell_type": "code",
   "execution_count": 31,
   "id": "d888fb90-9535-4db0-9dca-ccd29a7539e3",
   "metadata": {},
   "outputs": [
    {
     "data": {
      "text/plain": [
       "7"
      ]
     },
     "execution_count": 31,
     "metadata": {},
     "output_type": "execute_result"
    }
   ],
   "source": [
    "# Accessing element 7\n",
    "arr3[0,1,2]"
   ]
  },
  {
   "cell_type": "code",
   "execution_count": 32,
   "id": "145aa8e7-31d7-4ea3-a62f-b413359becda",
   "metadata": {},
   "outputs": [
    {
     "data": {
      "text/plain": [
       "81"
      ]
     },
     "execution_count": 32,
     "metadata": {},
     "output_type": "execute_result"
    }
   ],
   "source": [
    "#Accessing element 81\n",
    "arr3[1,1,3]"
   ]
  },
  {
   "cell_type": "code",
   "execution_count": 33,
   "id": "468ab5d3-857b-4c74-aa90-ac918a8cc6fe",
   "metadata": {},
   "outputs": [],
   "source": [
    "threedim=np.array([\n",
    "      [[1,2,3],[4,5,6]],\n",
    "\n",
    "      [[4,5,6],[7,6,8]]\n",
    "])"
   ]
  },
  {
   "cell_type": "code",
   "execution_count": 34,
   "id": "bad81e33-25c5-42f5-98c1-f95e150ba223",
   "metadata": {},
   "outputs": [
    {
     "data": {
      "text/plain": [
       "array([[[1, 2, 3],\n",
       "        [4, 5, 6]],\n",
       "\n",
       "       [[4, 5, 6],\n",
       "        [7, 6, 8]]])"
      ]
     },
     "execution_count": 34,
     "metadata": {},
     "output_type": "execute_result"
    }
   ],
   "source": [
    "threedim"
   ]
  },
  {
   "cell_type": "markdown",
   "id": "4e0f9b68-498c-4bf4-a289-c83d5322c23e",
   "metadata": {},
   "source": [
    "### WORK "
   ]
  },
  {
   "cell_type": "markdown",
   "id": "671869cc-0bf3-4ef7-ac62-01d6c2d18480",
   "metadata": {},
   "source": [
    "### Zero dimension"
   ]
  },
  {
   "cell_type": "code",
   "execution_count": 35,
   "id": "111618a9-4a5f-4d6a-ad78-3f448b40c65f",
   "metadata": {},
   "outputs": [
    {
     "data": {
      "text/plain": [
       "array(25)"
      ]
     },
     "execution_count": 35,
     "metadata": {},
     "output_type": "execute_result"
    }
   ],
   "source": [
    "zero=np.array(25)\n",
    "zero"
   ]
  },
  {
   "cell_type": "code",
   "execution_count": 36,
   "id": "3924f9b7-13bb-4ff3-ae48-1166ff5df22b",
   "metadata": {},
   "outputs": [
    {
     "name": "stdout",
     "output_type": "stream",
     "text": [
      "<class 'numpy.ndarray'>\n"
     ]
    }
   ],
   "source": [
    "print(type(zero))"
   ]
  },
  {
   "cell_type": "code",
   "execution_count": 37,
   "id": "dcbd5577-2889-4272-a964-6600e40a0842",
   "metadata": {},
   "outputs": [
    {
     "data": {
      "text/plain": [
       "0"
      ]
     },
     "execution_count": 37,
     "metadata": {},
     "output_type": "execute_result"
    }
   ],
   "source": [
    "zero.ndim"
   ]
  },
  {
   "cell_type": "code",
   "execution_count": 38,
   "id": "7da6e7b2-d499-4a5b-90dd-5604fbf85682",
   "metadata": {},
   "outputs": [
    {
     "data": {
      "text/plain": [
       "1"
      ]
     },
     "execution_count": 38,
     "metadata": {},
     "output_type": "execute_result"
    }
   ],
   "source": [
    "zero.size"
   ]
  },
  {
   "cell_type": "markdown",
   "id": "8a06a4b3-9e36-4d0c-b6d9-ed09a3d98395",
   "metadata": {},
   "source": [
    "### One dimension"
   ]
  },
  {
   "cell_type": "code",
   "execution_count": 39,
   "id": "2c5f5e44-96f6-4c54-8688-d68d5b466341",
   "metadata": {},
   "outputs": [
    {
     "data": {
      "text/plain": [
       "array([1, 2, 3, 4, 5, 6, 7, 8])"
      ]
     },
     "execution_count": 39,
     "metadata": {},
     "output_type": "execute_result"
    }
   ],
   "source": [
    "one=np.array([1,2,3,4,5,6,7,8])\n",
    "one\n"
   ]
  },
  {
   "cell_type": "code",
   "execution_count": 40,
   "id": "4482813b-eb7c-4989-9da8-976789775615",
   "metadata": {},
   "outputs": [
    {
     "data": {
      "text/plain": [
       "1"
      ]
     },
     "execution_count": 40,
     "metadata": {},
     "output_type": "execute_result"
    }
   ],
   "source": [
    "one.ndim"
   ]
  },
  {
   "cell_type": "code",
   "execution_count": 41,
   "id": "56e22eaf-0ee6-4bcb-b298-4842df0b6414",
   "metadata": {},
   "outputs": [
    {
     "data": {
      "text/plain": [
       "8"
      ]
     },
     "execution_count": 41,
     "metadata": {},
     "output_type": "execute_result"
    }
   ],
   "source": [
    "one.size"
   ]
  },
  {
   "cell_type": "code",
   "execution_count": 42,
   "id": "bedc02da-7e5a-423b-aadc-856639239237",
   "metadata": {},
   "outputs": [
    {
     "data": {
      "text/plain": [
       "(8,)"
      ]
     },
     "execution_count": 42,
     "metadata": {},
     "output_type": "execute_result"
    }
   ],
   "source": [
    "one.shape"
   ]
  },
  {
   "cell_type": "markdown",
   "id": "17ebeef7-74ef-4a89-a026-d0a2f158be91",
   "metadata": {},
   "source": [
    "### Two dimension"
   ]
  },
  {
   "cell_type": "code",
   "execution_count": 43,
   "id": "a6f99a26-755c-4b15-98f6-61e4cfd9d149",
   "metadata": {},
   "outputs": [
    {
     "data": {
      "text/plain": [
       "array([[1, 2, 3],\n",
       "       [4, 3, 2]])"
      ]
     },
     "execution_count": 43,
     "metadata": {},
     "output_type": "execute_result"
    }
   ],
   "source": [
    "two=np.array([[1,2,3],[4,3,2]])\n",
    "two"
   ]
  },
  {
   "cell_type": "code",
   "execution_count": 44,
   "id": "7d793e92-4ace-440f-b0a4-d39196da4e35",
   "metadata": {},
   "outputs": [
    {
     "data": {
      "text/plain": [
       "(2, 3)"
      ]
     },
     "execution_count": 44,
     "metadata": {},
     "output_type": "execute_result"
    }
   ],
   "source": [
    "two.shape"
   ]
  },
  {
   "cell_type": "code",
   "execution_count": 45,
   "id": "4d3fc752-4e17-4f31-880c-f693c40e5af0",
   "metadata": {},
   "outputs": [
    {
     "data": {
      "text/plain": [
       "6"
      ]
     },
     "execution_count": 45,
     "metadata": {},
     "output_type": "execute_result"
    }
   ],
   "source": [
    "two.size"
   ]
  },
  {
   "cell_type": "code",
   "execution_count": 46,
   "id": "e946073b-ac95-4ced-afe5-ca9b8b30f424",
   "metadata": {},
   "outputs": [
    {
     "data": {
      "text/plain": [
       "2"
      ]
     },
     "execution_count": 46,
     "metadata": {},
     "output_type": "execute_result"
    }
   ],
   "source": [
    "two.ndim"
   ]
  },
  {
   "cell_type": "markdown",
   "id": "80d302b4-6e02-49d1-b7eb-234ec65e7948",
   "metadata": {},
   "source": [
    "### Three dimension"
   ]
  },
  {
   "cell_type": "code",
   "execution_count": 47,
   "id": "041aa4ca-f766-47c0-9066-a4de85c57a18",
   "metadata": {},
   "outputs": [],
   "source": [
    "three=np.array([\n",
    "    [[1,2,3,4,5,6,7],[9,8,7,6,5,4,3]],\n",
    "    [[1,23,34,45,56,2,7],[89,43,67,21,26,22,18]]\n",
    "])"
   ]
  },
  {
   "cell_type": "code",
   "execution_count": 48,
   "id": "cbdc9759-ecb9-428b-9663-2f709a174364",
   "metadata": {},
   "outputs": [
    {
     "data": {
      "text/plain": [
       "array([[[ 1,  2,  3,  4,  5,  6,  7],\n",
       "        [ 9,  8,  7,  6,  5,  4,  3]],\n",
       "\n",
       "       [[ 1, 23, 34, 45, 56,  2,  7],\n",
       "        [89, 43, 67, 21, 26, 22, 18]]])"
      ]
     },
     "execution_count": 48,
     "metadata": {},
     "output_type": "execute_result"
    }
   ],
   "source": [
    "three"
   ]
  },
  {
   "cell_type": "code",
   "execution_count": 49,
   "id": "c88a0c53-6ff2-41a8-af99-046c2f79dcd3",
   "metadata": {},
   "outputs": [
    {
     "data": {
      "text/plain": [
       "28"
      ]
     },
     "execution_count": 49,
     "metadata": {},
     "output_type": "execute_result"
    }
   ],
   "source": [
    "three.size"
   ]
  },
  {
   "cell_type": "code",
   "execution_count": 50,
   "id": "1d53db49-ba6f-47f1-a2b1-c59fc7510121",
   "metadata": {},
   "outputs": [
    {
     "data": {
      "text/plain": [
       "3"
      ]
     },
     "execution_count": 50,
     "metadata": {},
     "output_type": "execute_result"
    }
   ],
   "source": [
    "three.ndim"
   ]
  },
  {
   "cell_type": "code",
   "execution_count": 51,
   "id": "feb25b9d-2a27-4bbb-b493-277bab04fb74",
   "metadata": {},
   "outputs": [
    {
     "data": {
      "text/plain": [
       "(2, 2, 7)"
      ]
     },
     "execution_count": 51,
     "metadata": {},
     "output_type": "execute_result"
    }
   ],
   "source": [
    "three.shape"
   ]
  },
  {
   "cell_type": "code",
   "execution_count": 52,
   "id": "00863d45-7a96-4e55-8b72-b4078206c09e",
   "metadata": {},
   "outputs": [
    {
     "data": {
      "text/plain": [
       "45"
      ]
     },
     "execution_count": 52,
     "metadata": {},
     "output_type": "execute_result"
    }
   ],
   "source": [
    "# Accessing the element 45\n",
    "three[1,0,3]"
   ]
  },
  {
   "cell_type": "code",
   "execution_count": 53,
   "id": "f2c86c75-d73b-49f2-ae50-a0e32f060a4a",
   "metadata": {},
   "outputs": [
    {
     "data": {
      "text/plain": [
       "8"
      ]
     },
     "execution_count": 53,
     "metadata": {},
     "output_type": "execute_result"
    }
   ],
   "source": [
    "# Accessing element 8\n",
    "three[0,1,1]"
   ]
  },
  {
   "cell_type": "code",
   "execution_count": 54,
   "id": "1d35e1e8-0a45-4837-b95f-d123d507b532",
   "metadata": {},
   "outputs": [
    {
     "data": {
      "text/plain": [
       "array([8, 7, 6, 5])"
      ]
     },
     "execution_count": 54,
     "metadata": {},
     "output_type": "execute_result"
    }
   ],
   "source": [
    "#Accessing elements from 8 to 4\n",
    "three[0,1,1:5]"
   ]
  },
  {
   "cell_type": "code",
   "execution_count": 55,
   "id": "5d2e8f11-0021-48eb-aa46-a0eedb6fbfa4",
   "metadata": {},
   "outputs": [
    {
     "data": {
      "text/plain": [
       "array([[[1, 2, 3],\n",
       "        [2, 3, 3]],\n",
       "\n",
       "       [[1, 5, 3],\n",
       "        [2, 3, 3]],\n",
       "\n",
       "       [[3, 2, 7],\n",
       "        [0, 3, 5]],\n",
       "\n",
       "       [[4, 2, 3],\n",
       "        [8, 3, 6]]])"
      ]
     },
     "execution_count": 55,
     "metadata": {},
     "output_type": "execute_result"
    }
   ],
   "source": [
    "four_two_three=np.array([\n",
    "    [[1,2,3],[2,3,3]],\n",
    "    [[1,5,3],[2,3,3]],\n",
    "    [[3,2,7],[0,3,5]],\n",
    "    [[4,2,3],[8,3,6]]\n",
    "])\n",
    "four_two_three"
   ]
  },
  {
   "cell_type": "code",
   "execution_count": 56,
   "id": "fb5d3d76-b6bc-41d7-88ec-24ee65ff6abb",
   "metadata": {},
   "outputs": [
    {
     "data": {
      "text/plain": [
       "(4, 2, 3)"
      ]
     },
     "execution_count": 56,
     "metadata": {},
     "output_type": "execute_result"
    }
   ],
   "source": [
    "four_two_three.shape"
   ]
  },
  {
   "cell_type": "code",
   "execution_count": 57,
   "id": "81c46bc0-d920-4da4-9127-f110d81d5bca",
   "metadata": {},
   "outputs": [
    {
     "data": {
      "text/plain": [
       "3"
      ]
     },
     "execution_count": 57,
     "metadata": {},
     "output_type": "execute_result"
    }
   ],
   "source": [
    "four_two_three.ndim"
   ]
  },
  {
   "cell_type": "code",
   "execution_count": 58,
   "id": "653e12d1-47e0-4c23-a65d-39165c659e61",
   "metadata": {},
   "outputs": [
    {
     "data": {
      "text/plain": [
       "24"
      ]
     },
     "execution_count": 58,
     "metadata": {},
     "output_type": "execute_result"
    }
   ],
   "source": [
    "four_two_three.size"
   ]
  },
  {
   "cell_type": "code",
   "execution_count": 59,
   "id": "f61aafba-2605-4c5a-92f2-214f45928e4d",
   "metadata": {},
   "outputs": [
    {
     "data": {
      "text/plain": [
       "5"
      ]
     },
     "execution_count": 59,
     "metadata": {},
     "output_type": "execute_result"
    }
   ],
   "source": [
    "#Accessing element 7\n",
    "four_two_three[2,1,2]"
   ]
  },
  {
   "cell_type": "code",
   "execution_count": 60,
   "id": "0e26ce95-0215-4b7a-b2cb-e1d4a642f646",
   "metadata": {},
   "outputs": [
    {
     "data": {
      "text/plain": [
       "0"
      ]
     },
     "execution_count": 60,
     "metadata": {},
     "output_type": "execute_result"
    }
   ],
   "source": [
    "# Accessing element 0\n",
    "four_two_three[2,1,0]"
   ]
  },
  {
   "cell_type": "code",
   "execution_count": 61,
   "id": "af925810-e60d-4449-9cac-fdf679a77696",
   "metadata": {},
   "outputs": [],
   "source": [
    "arra=np.array([\n",
    "    [[1,2,3,4],[3,4,5,6]],\n",
    "    \n",
    "    [[11,12,13,14],[15,16,17,18]]\n",
    "])"
   ]
  },
  {
   "cell_type": "code",
   "execution_count": 62,
   "id": "fe3fa12e-c0c6-4dab-b4e4-573ee973e3bf",
   "metadata": {},
   "outputs": [
    {
     "data": {
      "text/plain": [
       "(2, 2, 4)"
      ]
     },
     "execution_count": 62,
     "metadata": {},
     "output_type": "execute_result"
    }
   ],
   "source": [
    "arra.shape"
   ]
  },
  {
   "cell_type": "code",
   "execution_count": 63,
   "id": "ccaa9c1c-304c-4217-872f-6d380a44f814",
   "metadata": {},
   "outputs": [
    {
     "data": {
      "text/plain": [
       "16"
      ]
     },
     "execution_count": 63,
     "metadata": {},
     "output_type": "execute_result"
    }
   ],
   "source": [
    "arra.size"
   ]
  },
  {
   "cell_type": "code",
   "execution_count": 64,
   "id": "3ad880cf-f185-4d4b-a963-40cfe328e77a",
   "metadata": {},
   "outputs": [
    {
     "data": {
      "text/plain": [
       "3"
      ]
     },
     "execution_count": 64,
     "metadata": {},
     "output_type": "execute_result"
    }
   ],
   "source": [
    "arra.ndim"
   ]
  },
  {
   "cell_type": "code",
   "execution_count": 65,
   "id": "e51a243b-6c07-40a2-94a8-47a52b678b12",
   "metadata": {},
   "outputs": [
    {
     "data": {
      "text/plain": [
       "5"
      ]
     },
     "execution_count": 65,
     "metadata": {},
     "output_type": "execute_result"
    }
   ],
   "source": [
    "#Accessing element 5\n",
    "arra[0,1,2]"
   ]
  },
  {
   "cell_type": "markdown",
   "id": "783feff6-4413-4285-9cd7-f1c265794c33",
   "metadata": {},
   "source": [
    "# Negative slicing"
   ]
  },
  {
   "cell_type": "code",
   "execution_count": 66,
   "id": "3502dbac-f27a-4461-aeae-0c90365a0a11",
   "metadata": {},
   "outputs": [
    {
     "data": {
      "text/plain": [
       "array([1, 2, 3, 4])"
      ]
     },
     "execution_count": 66,
     "metadata": {},
     "output_type": "execute_result"
    }
   ],
   "source": [
    "arr1=np.array([1,2,3,4])\n",
    "arr1"
   ]
  },
  {
   "cell_type": "code",
   "execution_count": 67,
   "id": "f23444ea-e5af-48d0-994a-7beccc6132d4",
   "metadata": {},
   "outputs": [
    {
     "data": {
      "text/plain": [
       "4"
      ]
     },
     "execution_count": 67,
     "metadata": {},
     "output_type": "execute_result"
    }
   ],
   "source": [
    "arr1[-1]"
   ]
  },
  {
   "cell_type": "code",
   "execution_count": 68,
   "id": "04dd56c1-3729-4e40-b593-84a430402400",
   "metadata": {},
   "outputs": [
    {
     "data": {
      "text/plain": [
       "array([[1, 2, 3, 4, 5],\n",
       "       [1, 2, 3, 6, 7]])"
      ]
     },
     "execution_count": 68,
     "metadata": {},
     "output_type": "execute_result"
    }
   ],
   "source": [
    "arr2=np.array([[1,2,3,4,5],\n",
    "               [1,2,3,6,7]\n",
    "              ])\n",
    "arr2"
   ]
  },
  {
   "cell_type": "code",
   "execution_count": 69,
   "id": "dc983bc1-70f6-4cbf-be04-84f0c7aacdc4",
   "metadata": {},
   "outputs": [
    {
     "data": {
      "text/plain": [
       "6"
      ]
     },
     "execution_count": 69,
     "metadata": {},
     "output_type": "execute_result"
    }
   ],
   "source": [
    "arr2[-1,-2]"
   ]
  },
  {
   "cell_type": "code",
   "execution_count": 70,
   "id": "ba234835-e78e-467b-b681-d7391af50d00",
   "metadata": {},
   "outputs": [
    {
     "data": {
      "text/plain": [
       "5"
      ]
     },
     "execution_count": 70,
     "metadata": {},
     "output_type": "execute_result"
    }
   ],
   "source": [
    "arr2[-2,-1]"
   ]
  },
  {
   "cell_type": "code",
   "execution_count": 71,
   "id": "c4b68b39-e6a4-4e34-9ce4-3e3881b5cebb",
   "metadata": {},
   "outputs": [
    {
     "data": {
      "text/plain": [
       "array([[[1, 2, 3, 4],\n",
       "        [1, 2, 3, 4]],\n",
       "\n",
       "       [[1, 2, 3, 4],\n",
       "        [1, 2, 3, 4]]])"
      ]
     },
     "execution_count": 71,
     "metadata": {},
     "output_type": "execute_result"
    }
   ],
   "source": [
    "arr3=np.array([\n",
    "    [[1,2,3,4],[1,2,3,4]],\n",
    "    [[1,2,3,4],[1,2,3,4]]\n",
    "])\n",
    "arr3"
   ]
  },
  {
   "cell_type": "code",
   "execution_count": 72,
   "id": "be20a213-aeae-4955-b83e-0d3abb7312c0",
   "metadata": {},
   "outputs": [
    {
     "data": {
      "text/plain": [
       "3"
      ]
     },
     "execution_count": 72,
     "metadata": {},
     "output_type": "execute_result"
    }
   ],
   "source": [
    "arr3.ndim"
   ]
  },
  {
   "cell_type": "code",
   "execution_count": 73,
   "id": "31230cec-b5a0-45b2-bb92-6238958fb314",
   "metadata": {},
   "outputs": [
    {
     "data": {
      "text/plain": [
       "(2, 2, 4)"
      ]
     },
     "execution_count": 73,
     "metadata": {},
     "output_type": "execute_result"
    }
   ],
   "source": [
    "arr3.shape"
   ]
  },
  {
   "cell_type": "code",
   "execution_count": 74,
   "id": "091d727e-bd25-4f70-b1a4-a94de7ed4346",
   "metadata": {},
   "outputs": [
    {
     "data": {
      "text/plain": [
       "16"
      ]
     },
     "execution_count": 74,
     "metadata": {},
     "output_type": "execute_result"
    }
   ],
   "source": [
    "arr3.size"
   ]
  },
  {
   "cell_type": "code",
   "execution_count": 75,
   "id": "4576a65b-ae69-4bc3-9243-b757b56c8c37",
   "metadata": {},
   "outputs": [
    {
     "data": {
      "text/plain": [
       "2"
      ]
     },
     "execution_count": 75,
     "metadata": {},
     "output_type": "execute_result"
    }
   ],
   "source": [
    "#Accessing element 2\n",
    "arr3[0,0,-3]"
   ]
  },
  {
   "cell_type": "code",
   "execution_count": 76,
   "id": "23406443-1a07-4b5d-a1e2-11a7771d8590",
   "metadata": {},
   "outputs": [],
   "source": [
    "two_three=np.array([\n",
    "    [1,2,3,4],[4,5,6,7]\n",
    "    ])"
   ]
  },
  {
   "cell_type": "code",
   "execution_count": 77,
   "id": "9acc9fbe-d77c-4186-8bb5-b19066b3e849",
   "metadata": {},
   "outputs": [
    {
     "data": {
      "text/plain": [
       "(2, 4)"
      ]
     },
     "execution_count": 77,
     "metadata": {},
     "output_type": "execute_result"
    }
   ],
   "source": [
    "two_three.shape"
   ]
  },
  {
   "cell_type": "code",
   "execution_count": 78,
   "id": "de8a9666-5900-41d8-aed7-c94886992e03",
   "metadata": {},
   "outputs": [
    {
     "data": {
      "text/plain": [
       "2"
      ]
     },
     "execution_count": 78,
     "metadata": {},
     "output_type": "execute_result"
    }
   ],
   "source": [
    "two_three.ndim"
   ]
  },
  {
   "cell_type": "code",
   "execution_count": 79,
   "id": "8876e04f-62ef-4715-98e5-8fa1df1d5b2e",
   "metadata": {},
   "outputs": [
    {
     "data": {
      "text/plain": [
       "8"
      ]
     },
     "execution_count": 79,
     "metadata": {},
     "output_type": "execute_result"
    }
   ],
   "source": [
    "two_three.size"
   ]
  },
  {
   "cell_type": "code",
   "execution_count": 80,
   "id": "61a61828-f875-415d-b5f3-8939779b1a39",
   "metadata": {},
   "outputs": [
    {
     "data": {
      "text/plain": [
       "7"
      ]
     },
     "execution_count": 80,
     "metadata": {},
     "output_type": "execute_result"
    }
   ],
   "source": [
    "# Accessing element 7\n",
    "two_three[1,-1]"
   ]
  },
  {
   "cell_type": "code",
   "execution_count": 81,
   "id": "1868d2ba-3984-4699-8152-8b8ef7d3d279",
   "metadata": {},
   "outputs": [
    {
     "data": {
      "text/plain": [
       "6"
      ]
     },
     "execution_count": 81,
     "metadata": {},
     "output_type": "execute_result"
    }
   ],
   "source": [
    "# Accessing element 6\n",
    "two_three[1,-2]"
   ]
  },
  {
   "cell_type": "code",
   "execution_count": 82,
   "id": "cd8243be-ad5b-4195-ad55-88e5c6fec59c",
   "metadata": {},
   "outputs": [
    {
     "data": {
      "text/plain": [
       "6"
      ]
     },
     "execution_count": 82,
     "metadata": {},
     "output_type": "execute_result"
    }
   ],
   "source": [
    "two_three[-1,-2]"
   ]
  },
  {
   "cell_type": "markdown",
   "id": "622ffa47-c71e-4253-b5fe-d95b78f101d6",
   "metadata": {},
   "source": [
    "# Slicing arrays"
   ]
  },
  {
   "cell_type": "code",
   "execution_count": 83,
   "id": "f8bc8ef1-83ae-4c78-92b7-c91f9173c5c8",
   "metadata": {},
   "outputs": [
    {
     "data": {
      "text/plain": [
       "array([[1, 2, 3, 4],\n",
       "       [4, 5, 6, 7]])"
      ]
     },
     "execution_count": 83,
     "metadata": {},
     "output_type": "execute_result"
    }
   ],
   "source": [
    "two_three=np.array([\n",
    "    [1,2,3,4],[4,5,6,7]\n",
    "    ])\n",
    "two_three"
   ]
  },
  {
   "cell_type": "code",
   "execution_count": 84,
   "id": "64d394bb-475d-41ec-8bae-ac559b270be5",
   "metadata": {},
   "outputs": [
    {
     "data": {
      "text/plain": [
       "array([2, 3, 4])"
      ]
     },
     "execution_count": 84,
     "metadata": {},
     "output_type": "execute_result"
    }
   ],
   "source": [
    "#Print 2,3,4\n",
    "two_three[0,1:]"
   ]
  },
  {
   "cell_type": "code",
   "execution_count": 85,
   "id": "2278fce5-5d9d-4e79-9b74-c06610f6f17f",
   "metadata": {},
   "outputs": [],
   "source": [
    "three_six=np.array([\n",
    "    [1,2,3,4,5,6],[6,7,8,9,0,1],\n",
    "    [1,2,4,5,3,7]\n",
    "])"
   ]
  },
  {
   "cell_type": "code",
   "execution_count": 86,
   "id": "f7c9da85-4596-44df-9022-a5a0980b759e",
   "metadata": {},
   "outputs": [
    {
     "data": {
      "text/plain": [
       "array([[1, 2, 3, 4, 5, 6],\n",
       "       [6, 7, 8, 9, 0, 1],\n",
       "       [1, 2, 4, 5, 3, 7]])"
      ]
     },
     "execution_count": 86,
     "metadata": {},
     "output_type": "execute_result"
    }
   ],
   "source": [
    "three_six"
   ]
  },
  {
   "cell_type": "code",
   "execution_count": 87,
   "id": "31292813-519a-41e4-a097-72ade2d4c4ac",
   "metadata": {},
   "outputs": [
    {
     "data": {
      "text/plain": [
       "(3, 6)"
      ]
     },
     "execution_count": 87,
     "metadata": {},
     "output_type": "execute_result"
    }
   ],
   "source": [
    "three_six.shape"
   ]
  },
  {
   "cell_type": "code",
   "execution_count": 88,
   "id": "55c22fa3-81eb-49f7-8681-62330294a3dc",
   "metadata": {},
   "outputs": [
    {
     "data": {
      "text/plain": [
       "18"
      ]
     },
     "execution_count": 88,
     "metadata": {},
     "output_type": "execute_result"
    }
   ],
   "source": [
    "three_six.size"
   ]
  },
  {
   "cell_type": "code",
   "execution_count": 89,
   "id": "62411750-89cf-47e1-b721-dc1083ce3a0c",
   "metadata": {},
   "outputs": [
    {
     "data": {
      "text/plain": [
       "2"
      ]
     },
     "execution_count": 89,
     "metadata": {},
     "output_type": "execute_result"
    }
   ],
   "source": [
    "three_six.ndim"
   ]
  },
  {
   "cell_type": "code",
   "execution_count": 90,
   "id": "aa25fda8-0eb7-4e20-b96a-4952ed33e28b",
   "metadata": {},
   "outputs": [
    {
     "data": {
      "text/plain": [
       "array([[3, 4, 5],\n",
       "       [8, 9, 0],\n",
       "       [4, 5, 3]])"
      ]
     },
     "execution_count": 90,
     "metadata": {},
     "output_type": "execute_result"
    }
   ],
   "source": [
    "three_six[:,2:5]"
   ]
  },
  {
   "cell_type": "code",
   "execution_count": 91,
   "id": "378c4719-5d8e-4ec9-ba18-f6f808905f68",
   "metadata": {},
   "outputs": [
    {
     "data": {
      "text/plain": [
       "array([2, 4, 5, 3])"
      ]
     },
     "execution_count": 91,
     "metadata": {},
     "output_type": "execute_result"
    }
   ],
   "source": [
    "three_six[-1,-5:-1]"
   ]
  },
  {
   "cell_type": "code",
   "execution_count": 92,
   "id": "dba5befd-f3e2-4055-b51b-43c3ab690409",
   "metadata": {},
   "outputs": [
    {
     "data": {
      "text/plain": [
       "array([[[ 1,  2,  3,  4,  5,  6],\n",
       "        [11, 41, 51, 61, 71, 81],\n",
       "        [12, 22, 32, 42, 52, 62],\n",
       "        [13, 43, 53, 63, 73,  8]],\n",
       "\n",
       "       [[15, 25, 35, 45, 55, 65],\n",
       "        [15, 45, 55, 65, 75, 85],\n",
       "        [16, 26, 36, 46, 56, 66],\n",
       "        [17, 47, 57, 67, 77, 87]]])"
      ]
     },
     "execution_count": 92,
     "metadata": {},
     "output_type": "execute_result"
    }
   ],
   "source": [
    "arr3=np.array([\n",
    "    [[1,2,3,4,5,6],[11,41,51,61,71,81],[12,22,32,42,52,62],[13,43,53,63,73,8]],\n",
    "    [[15,25,35,45,55,65],[15,45,55,65,75,85],[16,26,36,46,56,66],[17,47,57,67,77,87]],\n",
    "   \n",
    "])\n",
    "arr3"
   ]
  },
  {
   "cell_type": "code",
   "execution_count": 93,
   "id": "9b2f6bdd-ae63-431c-bfc2-0c9d770c3044",
   "metadata": {},
   "outputs": [
    {
     "data": {
      "text/plain": [
       "(2, 4, 6)"
      ]
     },
     "execution_count": 93,
     "metadata": {},
     "output_type": "execute_result"
    }
   ],
   "source": [
    "arr3.shape"
   ]
  },
  {
   "cell_type": "code",
   "execution_count": 94,
   "id": "4afc453b-7a0f-4201-bfd7-aa836763042c",
   "metadata": {},
   "outputs": [
    {
     "data": {
      "text/plain": [
       "array([[ 1,  2,  3],\n",
       "       [11, 41, 51],\n",
       "       [12, 22, 32],\n",
       "       [13, 43, 53]])"
      ]
     },
     "execution_count": 94,
     "metadata": {},
     "output_type": "execute_result"
    }
   ],
   "source": [
    "arr3[0,:,:3]"
   ]
  },
  {
   "cell_type": "code",
   "execution_count": 95,
   "id": "c0bcfcb8-5884-45fc-9fcd-d8487e419e44",
   "metadata": {},
   "outputs": [
    {
     "data": {
      "text/plain": [
       "array([1, 2, 3, 4, 5, 6, 7, 8, 9])"
      ]
     },
     "execution_count": 95,
     "metadata": {},
     "output_type": "execute_result"
    }
   ],
   "source": [
    "arr=np.array([1,2,3,4,5,6,7,8,9])\n",
    "arr"
   ]
  },
  {
   "cell_type": "code",
   "execution_count": 96,
   "id": "0afcb69c-a271-4fcf-a89b-1334e8c30ffb",
   "metadata": {},
   "outputs": [
    {
     "data": {
      "text/plain": [
       "array([1, 3, 5, 7, 9])"
      ]
     },
     "execution_count": 96,
     "metadata": {},
     "output_type": "execute_result"
    }
   ],
   "source": [
    "arr[::2]"
   ]
  },
  {
   "cell_type": "code",
   "execution_count": 97,
   "id": "3f9b9ae7-7248-4b11-9a0e-b5487a87bf75",
   "metadata": {},
   "outputs": [
    {
     "data": {
      "text/plain": [
       "array([1, 4, 7])"
      ]
     },
     "execution_count": 97,
     "metadata": {},
     "output_type": "execute_result"
    }
   ],
   "source": [
    "arr[::3]"
   ]
  },
  {
   "cell_type": "code",
   "execution_count": 98,
   "id": "a6e9f36f-b6a3-4845-840e-76e5f2d53211",
   "metadata": {},
   "outputs": [
    {
     "data": {
      "text/plain": [
       "array([[1, 2, 3, 4, 5, 6, 7],\n",
       "       [4, 5, 6, 7, 4, 8, 9]])"
      ]
     },
     "execution_count": 98,
     "metadata": {},
     "output_type": "execute_result"
    }
   ],
   "source": [
    "arr2=np.array([[1,2,3,4,5,6,7],[4,5,6,7,4,8,9]])\n",
    "arr2"
   ]
  },
  {
   "cell_type": "code",
   "execution_count": 99,
   "id": "a2390bef-8fe1-4d50-a086-dce22035cb6b",
   "metadata": {},
   "outputs": [
    {
     "data": {
      "text/plain": [
       "array([[1, 3, 5],\n",
       "       [4, 6, 4]])"
      ]
     },
     "execution_count": 99,
     "metadata": {},
     "output_type": "execute_result"
    }
   ],
   "source": [
    "arr2[:,:6:2]"
   ]
  },
  {
   "cell_type": "code",
   "execution_count": 100,
   "id": "d0395c76-fe4e-4315-b5bd-fb7369b04ff4",
   "metadata": {},
   "outputs": [
    {
     "data": {
      "text/plain": [
       "array([[ 1,  2,  3,  4,  5,  6],\n",
       "       [ 7,  8,  9, 10, 11, 12],\n",
       "       [13, 14, 15, 16, 17, 18]])"
      ]
     },
     "execution_count": 100,
     "metadata": {},
     "output_type": "execute_result"
    }
   ],
   "source": [
    "thsix=np.array([[1,2,3,4,5,6],\n",
    "          [7,8,9,10,11,12],\n",
    "          [13,14,15,16,17,18]])\n",
    "thsix"
   ]
  },
  {
   "cell_type": "code",
   "execution_count": 101,
   "id": "a961b30d-7e0f-4bbf-8275-94473c4be2c6",
   "metadata": {},
   "outputs": [
    {
     "data": {
      "text/plain": [
       "array([[ 3,  6],\n",
       "       [ 9, 12],\n",
       "       [15, 18]])"
      ]
     },
     "execution_count": 101,
     "metadata": {},
     "output_type": "execute_result"
    }
   ],
   "source": [
    "thsix[:,2::3]"
   ]
  },
  {
   "cell_type": "code",
   "execution_count": 102,
   "id": "8d33ce95-fffc-4a32-8c3c-2bb1bbaade05",
   "metadata": {},
   "outputs": [
    {
     "data": {
      "text/plain": [
       "array([[ 1,  4],\n",
       "       [ 7, 10],\n",
       "       [13, 16]])"
      ]
     },
     "execution_count": 102,
     "metadata": {},
     "output_type": "execute_result"
    }
   ],
   "source": [
    "thsix[:,::3]"
   ]
  },
  {
   "cell_type": "code",
   "execution_count": 103,
   "id": "63571996-723c-42f7-944f-584703e4b2a2",
   "metadata": {},
   "outputs": [
    {
     "data": {
      "text/plain": [
       "array([[1, 2, 3, 4, 5, 6],\n",
       "       [6, 7, 8, 9, 0, 1],\n",
       "       [1, 2, 4, 5, 3, 7],\n",
       "       [6, 7, 8, 9, 0, 1]])"
      ]
     },
     "execution_count": 103,
     "metadata": {},
     "output_type": "execute_result"
    }
   ],
   "source": [
    "fs=np.array([[1,2,3,4,5,6],[6,7,8,9,0,1],\n",
    "    [1,2,4,5,3,7],[6,7,8,9,0,1]])\n",
    "fs"
   ]
  },
  {
   "cell_type": "code",
   "execution_count": 104,
   "id": "2118e4ec-62eb-4388-8b39-788ba16207d2",
   "metadata": {},
   "outputs": [
    {
     "data": {
      "text/plain": [
       "(4, 6)"
      ]
     },
     "execution_count": 104,
     "metadata": {},
     "output_type": "execute_result"
    }
   ],
   "source": [
    "fs.shape"
   ]
  },
  {
   "cell_type": "code",
   "execution_count": 105,
   "id": "873232b6-6024-454c-acdd-5a1dd3fbfb81",
   "metadata": {},
   "outputs": [
    {
     "data": {
      "text/plain": [
       "array([[6, 9],\n",
       "       [1, 5],\n",
       "       [6, 9]])"
      ]
     },
     "execution_count": 105,
     "metadata": {},
     "output_type": "execute_result"
    }
   ],
   "source": [
    "fs[1:,::3]"
   ]
  },
  {
   "cell_type": "markdown",
   "id": "6514bd3f-06f8-464d-97fa-c4093eca5bda",
   "metadata": {},
   "source": [
    "# Data Types in Python\n",
    "\n",
    "By default Python have these data types:\n",
    "\n",
    "•\tstrings - used to represent text data, the text is given under quote marks. Eg: \"ABCD\"\n",
    "\n",
    "•\tinteger - used to represent integer numbers. Eg: -1, -2, -3\n",
    "\n",
    "•\tfloat - used to represent real numbers. Eg: 1.2, 42.42\n",
    "\n",
    "•\tboolean - used to represent True or False.\n",
    "\n",
    "•\tcomplex - used to represent complex numbers. Eg: 1.0 + 2.0j, 1.5 + 2.5j"
   ]
  },
  {
   "cell_type": "markdown",
   "id": "0e28fdbc-0c88-40a0-92c7-3b9ec83b6519",
   "metadata": {},
   "source": [
    "# Data Types in NumPy\n",
    "\n",
    "## NumPy has some extra data types, and refer to data types with one character, like i for integers, u for unsigned integers etc.\n",
    "## Below is a list of all data types in NumPy and the characters used to represent them.\n",
    "\n",
    "•\ti - integer\n",
    "\n",
    "•\tb - boolean\n",
    "\n",
    "•\tu - unsigned integer (i.e., zero and positive integers).astype(np.uint32)\n",
    "\n",
    "•\tf - float\n",
    "\n",
    "•\tc - complex float(Real+ imaginary part)\n",
    "\n",
    "•\tm - timedelta \n",
    "( The timedelta class in Python is part of the datetime module and represents the difference between two dates, times, or datetime objects. It is useful for performing arithmetic with date and time objects, such as adding or subtracting time intervals.)\n",
    "\n",
    "•\tM - datetime\n",
    "\n",
    "•\tO - object- (object data type is a general-purpose type that can hold any kind of data. It is often used in libraries like NumPy to handle heterogeneous data, such as arrays containing elements of different types or ragged arrays where sub-arrays have different lengths.)\n",
    "\n",
    "•\tS - string\n",
    "\n",
    "•\tU - unicode string\n",
    "\n",
    "* ### \tIn Python 3.x and modern programming environments, strings are Unicode by default. This means that when you define a string in Python, it can contain characters from any language or symbol set supported by Unicode.\n",
    "\n",
    "* ### Strings in these contexts can only represent characters from a limited set, often limited to the ASCII character set (128 characters).\n",
    "\n",
    "* ### Unicode strings, on the other hand, are designed to handle text from all writing systems around the world.\n"
   ]
  },
  {
   "cell_type": "markdown",
   "id": "cf79fc77-f57c-4646-a55f-e14264952aac",
   "metadata": {},
   "source": [
    "## Creating Arrays With a Defined Data Type\r\n",
    "•\tWe use the array() function to create arrays, this function can take an optional argument: dtype that allows us to define the expected data type of the array elements\r\n"
   ]
  },
  {
   "cell_type": "code",
   "execution_count": 106,
   "id": "5478537f-d1a3-4850-8030-2dabb27c762f",
   "metadata": {},
   "outputs": [
    {
     "data": {
      "text/plain": [
       "array([1, 2, 3, 4])"
      ]
     },
     "execution_count": 106,
     "metadata": {},
     "output_type": "execute_result"
    }
   ],
   "source": [
    "int=np.array([1,2,3,4])\n",
    "int"
   ]
  },
  {
   "cell_type": "code",
   "execution_count": 107,
   "id": "9c90e7e7-4844-48d4-80a6-3fdfd7f55e88",
   "metadata": {},
   "outputs": [
    {
     "name": "stdout",
     "output_type": "stream",
     "text": [
      "int32\n"
     ]
    }
   ],
   "source": [
    "print(int.dtype)"
   ]
  },
  {
   "cell_type": "code",
   "execution_count": 108,
   "id": "8db7e5c3-0c4a-4194-b29d-c2bfda3bd5e5",
   "metadata": {},
   "outputs": [
    {
     "data": {
      "text/plain": [
       "array([b'1', b'2', b'3', b'4'], dtype='|S1')"
      ]
     },
     "execution_count": 108,
     "metadata": {},
     "output_type": "execute_result"
    }
   ],
   "source": [
    "int=np.array([1,2,3,4],dtype=\"S\")\n",
    "int"
   ]
  },
  {
   "cell_type": "markdown",
   "id": "aaea163c-84df-4b18-8433-f2deb57735f0",
   "metadata": {},
   "source": [
    "# Converting Data Type on Existing Arrays\n",
    "•\tThe best way to change the data type of an existing array, is to make a copy of the array with the astype() method.\n",
    "\n",
    "•\tThe astype() function creates a copy of the array, and allows you to specify the data type as a parameter.\n",
    "\n",
    "•\tThe data type can be specified using a string, like 'f' for float, 'i' for integer etc. or you can use the data type directly like float for float and int for integer.\n",
    "\n",
    "•\tEg:   arr=np.array([1.1, 2.1, 3.1])\n",
    "\n",
    "     newarr=arr.astype('i')\n",
    "     \n",
    "     print(newarr)\n",
    "     \n",
    "     print(newarr.dtype)\n"
   ]
  },
  {
   "cell_type": "code",
   "execution_count": 109,
   "id": "03713951-49ee-43ac-a851-560795f6021a",
   "metadata": {},
   "outputs": [
    {
     "data": {
      "text/plain": [
       "array([1., 2., 3., 4.], dtype=float32)"
      ]
     },
     "execution_count": 109,
     "metadata": {},
     "output_type": "execute_result"
    }
   ],
   "source": [
    "int=np.array([1,2,3,4],dtype=\"f\")\n",
    "int"
   ]
  },
  {
   "cell_type": "code",
   "execution_count": 110,
   "id": "f6a291c1-891a-4640-b308-96fd6c72fa2a",
   "metadata": {
    "scrolled": true
   },
   "outputs": [
    {
     "name": "stdout",
     "output_type": "stream",
     "text": [
      "[1 2 3 4]\n",
      "int32\n"
     ]
    }
   ],
   "source": [
    "arr=np.array([1.1,2.1,3.1,4.1])\n",
    "newarr=arr.astype(\"i\")\n",
    "print(newarr)\n",
    "print(newarr.dtype)"
   ]
  },
  {
   "cell_type": "code",
   "execution_count": 111,
   "id": "c5703d32-3a5c-4f7c-8981-a33d8867ff45",
   "metadata": {},
   "outputs": [
    {
     "name": "stdout",
     "output_type": "stream",
     "text": [
      "[1. 2. 3. 4.]\n"
     ]
    },
    {
     "data": {
      "text/plain": [
       "dtype('float32')"
      ]
     },
     "execution_count": 111,
     "metadata": {},
     "output_type": "execute_result"
    }
   ],
   "source": [
    "int=np.array([1,2,3,4],dtype=\"f\")\n",
    "float=int.astype(\"f\")\n",
    "print(float)\n",
    "float.dtype"
   ]
  },
  {
   "cell_type": "markdown",
   "id": "5950970e-466b-4c3d-af93-3c5eec83ea05",
   "metadata": {},
   "source": [
    "# The Difference Between Copy and View\n",
    "\n",
    "•\tThe main difference between a copy and a view of an array is that the copy is a new array, and the view is just a view of the original array.\n",
    "•\tThe copy owns the data and any changes made to the copy will not affect original array, and any changes made to the original array will not affect the copy.\n",
    "•\tThe view does not own the data and any changes made to the view will affect the original array, and any changes made to the original array will affect the view.\n"
   ]
  },
  {
   "cell_type": "markdown",
   "id": "b1e1e00c-ec76-42a9-b127-b46ace45c66f",
   "metadata": {},
   "source": [
    "## Copy"
   ]
  },
  {
   "cell_type": "code",
   "execution_count": 112,
   "id": "637af6f6-99f2-4679-89fe-475667d6d96c",
   "metadata": {},
   "outputs": [],
   "source": [
    "arr=np.array([1,2,3,4,5])\n",
    "x=arr.copy()"
   ]
  },
  {
   "cell_type": "code",
   "execution_count": 113,
   "id": "f1aea836-19d4-4a83-87e4-9605b3906577",
   "metadata": {},
   "outputs": [
    {
     "name": "stdout",
     "output_type": "stream",
     "text": [
      "[1 2 3 4 5]\n",
      "[1 2 3 4 5]\n"
     ]
    }
   ],
   "source": [
    "print(arr)\n",
    "print(x)"
   ]
  },
  {
   "cell_type": "code",
   "execution_count": 114,
   "id": "1bd4b5ef-d8e4-4e1f-b447-e6f2d3891406",
   "metadata": {},
   "outputs": [
    {
     "data": {
      "text/plain": [
       "array([42,  2,  3,  4,  5])"
      ]
     },
     "execution_count": 114,
     "metadata": {},
     "output_type": "execute_result"
    }
   ],
   "source": [
    "arr[0]=42\n",
    "arr"
   ]
  },
  {
   "cell_type": "code",
   "execution_count": 115,
   "id": "a10d81d8-8012-4d3f-8587-a01338c44978",
   "metadata": {},
   "outputs": [
    {
     "name": "stdout",
     "output_type": "stream",
     "text": [
      "[1 2 3 4 5]\n"
     ]
    }
   ],
   "source": [
    "print(x)"
   ]
  },
  {
   "cell_type": "code",
   "execution_count": 116,
   "id": "113e8dd4-592b-41fb-91c2-5fbd76f868db",
   "metadata": {},
   "outputs": [
    {
     "data": {
      "text/plain": [
       "array([11, 12, 13, 14, 15])"
      ]
     },
     "execution_count": 116,
     "metadata": {},
     "output_type": "execute_result"
    }
   ],
   "source": [
    "arr1=np.array([11,12,13,14,15])\n",
    "arr1"
   ]
  },
  {
   "cell_type": "code",
   "execution_count": 117,
   "id": "c2329e3d-817a-4df6-b6bf-992abec79db5",
   "metadata": {},
   "outputs": [],
   "source": [
    "arr1[1]=32"
   ]
  },
  {
   "cell_type": "code",
   "execution_count": 118,
   "id": "783484d9-80e8-4c52-a19a-ba116fbcd1e3",
   "metadata": {},
   "outputs": [],
   "source": [
    "y=arr1.copy()"
   ]
  },
  {
   "cell_type": "code",
   "execution_count": 119,
   "id": "cbe459b4-f4d1-448b-bd43-535756cb4ac6",
   "metadata": {},
   "outputs": [
    {
     "name": "stdout",
     "output_type": "stream",
     "text": [
      "[11 32 13 14 15]\n",
      "[11 32 13 14 15]\n"
     ]
    }
   ],
   "source": [
    "print(arr1)\n",
    "print(y)"
   ]
  },
  {
   "cell_type": "markdown",
   "id": "4a347948-1b76-4aff-ab42-744d06900afa",
   "metadata": {},
   "source": [
    "## View"
   ]
  },
  {
   "cell_type": "code",
   "execution_count": 120,
   "id": "f1d5a4e7-d045-450c-99a2-ea3ae1e48782",
   "metadata": {},
   "outputs": [
    {
     "name": "stdout",
     "output_type": "stream",
     "text": [
      "[1 2 3 4 5]\n",
      "[1 2 3 4 5]\n"
     ]
    }
   ],
   "source": [
    "arr=np.array([1,2,3,4,5])\n",
    "x=arr.view()\n",
    "print(arr)\n",
    "print(x)"
   ]
  },
  {
   "cell_type": "code",
   "execution_count": 121,
   "id": "fd28961d-4fa5-4631-b358-82c3a99e75d5",
   "metadata": {},
   "outputs": [],
   "source": [
    "arr[0]=42"
   ]
  },
  {
   "cell_type": "code",
   "execution_count": 122,
   "id": "0af391b3-54c8-418e-b2ad-6ac895a58525",
   "metadata": {},
   "outputs": [
    {
     "name": "stdout",
     "output_type": "stream",
     "text": [
      "[42  2  3  4  5]\n"
     ]
    }
   ],
   "source": [
    "print(arr)"
   ]
  },
  {
   "cell_type": "code",
   "execution_count": 123,
   "id": "6eeb0771-e615-415e-8362-c2c70a0c7251",
   "metadata": {},
   "outputs": [
    {
     "name": "stdout",
     "output_type": "stream",
     "text": [
      "[42  2  3  4  5]\n"
     ]
    }
   ],
   "source": [
    "print(x)"
   ]
  },
  {
   "cell_type": "code",
   "execution_count": 124,
   "id": "2caf37a5-b273-45a8-aa3d-aaed4014f837",
   "metadata": {},
   "outputs": [],
   "source": [
    "x[2]=32"
   ]
  },
  {
   "cell_type": "code",
   "execution_count": 125,
   "id": "e4ea62e6-146e-4d41-8db0-cbdb32e104b5",
   "metadata": {},
   "outputs": [
    {
     "name": "stdout",
     "output_type": "stream",
     "text": [
      "[42  2 32  4  5]\n"
     ]
    }
   ],
   "source": [
    "print(x)"
   ]
  },
  {
   "cell_type": "code",
   "execution_count": 126,
   "id": "0dce2c30-da19-46e9-a97c-f5e0c0c83340",
   "metadata": {},
   "outputs": [
    {
     "name": "stdout",
     "output_type": "stream",
     "text": [
      "[42  2 32  4  5]\n"
     ]
    }
   ],
   "source": [
    "print(arr)"
   ]
  },
  {
   "cell_type": "markdown",
   "id": "7e1b15ee-d9a9-443e-b6c9-27ade61373dd",
   "metadata": {},
   "source": [
    "# Check if Array Owns its Data\n",
    "•\tAs mentioned above, copies own the data, and views does not own the data, but how can we check this?\n",
    "\n",
    "•\tEvery NumPy array has the attribute base that returns None if the array owns the data.\n",
    "\n",
    "•\tOtherwise, the base  attribute refers to the original object.\n",
    "\n"
   ]
  },
  {
   "cell_type": "markdown",
   "id": "e44cc6a4-b867-4114-b7b5-263afa3274aa",
   "metadata": {},
   "source": [
    "## base()"
   ]
  },
  {
   "cell_type": "code",
   "execution_count": 127,
   "id": "8894ed31-b412-4b2d-8992-2ca8e8cfc06a",
   "metadata": {},
   "outputs": [],
   "source": [
    "arr=np.array([1,2,3,4,5,6,7])"
   ]
  },
  {
   "cell_type": "code",
   "execution_count": 128,
   "id": "59c7aab8-1253-4c50-9885-e3d45ffccbdb",
   "metadata": {},
   "outputs": [],
   "source": [
    "x=arr.copy()"
   ]
  },
  {
   "cell_type": "code",
   "execution_count": 129,
   "id": "6b4ac93b-177f-48e9-9bb2-9fae14ee1b51",
   "metadata": {},
   "outputs": [],
   "source": [
    "y=arr.view()"
   ]
  },
  {
   "cell_type": "code",
   "execution_count": 130,
   "id": "3a08dd84-5a85-42e7-8df3-28a5d5d9cfef",
   "metadata": {},
   "outputs": [
    {
     "name": "stdout",
     "output_type": "stream",
     "text": [
      "None\n"
     ]
    }
   ],
   "source": [
    "# if \"none\",that means copy of original\n",
    "print(x.base)"
   ]
  },
  {
   "cell_type": "code",
   "execution_count": 131,
   "id": "c44cb6e6-ab97-4df7-95db-8cf1ac5ac981",
   "metadata": {},
   "outputs": [
    {
     "name": "stdout",
     "output_type": "stream",
     "text": [
      "[1 2 3 4 5 6 7]\n"
     ]
    }
   ],
   "source": [
    "# if \"dataframe\",that means view of original\n",
    "print(y.base)"
   ]
  },
  {
   "cell_type": "markdown",
   "id": "c6c4a5a9-ca55-431d-b433-6d43a385c221",
   "metadata": {},
   "source": [
    "•\tThe copy returns None.\n",
    "\n",
    "•\tThe view returns the original array.\n"
   ]
  },
  {
   "cell_type": "markdown",
   "id": "293e795f-53c4-4a49-83de-eb2f22266716",
   "metadata": {},
   "source": [
    "# Shape of an Array\n",
    "•\tThe shape of an array is the number of elements in each dimension.\n",
    "\n",
    "•\tNumPy arrays have an attribute called shape that returns a tuple with each index having the number of corresponding elements.\n"
   ]
  },
  {
   "cell_type": "code",
   "execution_count": 132,
   "id": "bbdc4200-5543-485d-91bb-f496f351ba21",
   "metadata": {},
   "outputs": [
    {
     "data": {
      "text/plain": [
       "array([[1, 2],\n",
       "       [3, 4],\n",
       "       [5, 6]])"
      ]
     },
     "execution_count": 132,
     "metadata": {},
     "output_type": "execute_result"
    }
   ],
   "source": [
    "threetwo=np.array([[1,2],[3,4],[5,6]])\n",
    "threetwo"
   ]
  },
  {
   "cell_type": "code",
   "execution_count": 133,
   "id": "6cf297be-7c4f-4480-a584-61931cbfc135",
   "metadata": {},
   "outputs": [
    {
     "data": {
      "text/plain": [
       "(3, 2)"
      ]
     },
     "execution_count": 133,
     "metadata": {},
     "output_type": "execute_result"
    }
   ],
   "source": [
    "threetwo.shape"
   ]
  },
  {
   "cell_type": "code",
   "execution_count": 134,
   "id": "6981a005-fd6f-4bb0-98e4-24f071005514",
   "metadata": {},
   "outputs": [
    {
     "name": "stdout",
     "output_type": "stream",
     "text": [
      "(3, 2)\n"
     ]
    }
   ],
   "source": [
    "print(threetwo.shape)"
   ]
  },
  {
   "cell_type": "code",
   "execution_count": 135,
   "id": "8ec8096c-dd7d-4569-86dc-9b48b8daa8a1",
   "metadata": {},
   "outputs": [],
   "source": [
    "frfr=np.array([[1,2,3,4],[5,6,7,8],[9,10,11,12],[13,14,15,16]])"
   ]
  },
  {
   "cell_type": "code",
   "execution_count": 136,
   "id": "cbd86bb5-8f35-43ff-a67e-97512f4841f9",
   "metadata": {},
   "outputs": [
    {
     "data": {
      "text/plain": [
       "array([[ 1,  2,  3,  4],\n",
       "       [ 5,  6,  7,  8],\n",
       "       [ 9, 10, 11, 12],\n",
       "       [13, 14, 15, 16]])"
      ]
     },
     "execution_count": 136,
     "metadata": {},
     "output_type": "execute_result"
    }
   ],
   "source": [
    "frfr"
   ]
  },
  {
   "cell_type": "code",
   "execution_count": 137,
   "id": "91199773-4f33-4e20-a6cf-923af04db561",
   "metadata": {},
   "outputs": [
    {
     "name": "stdout",
     "output_type": "stream",
     "text": [
      "(4, 4)\n"
     ]
    }
   ],
   "source": [
    "print(frfr.shape)"
   ]
  },
  {
   "cell_type": "code",
   "execution_count": 138,
   "id": "6cb162c7-c1c5-463b-b667-71bb3e358546",
   "metadata": {},
   "outputs": [
    {
     "data": {
      "text/plain": [
       "2"
      ]
     },
     "execution_count": 138,
     "metadata": {},
     "output_type": "execute_result"
    }
   ],
   "source": [
    "frfr.ndim"
   ]
  },
  {
   "cell_type": "code",
   "execution_count": 139,
   "id": "cdd4dbd4-18f6-42b2-b86f-63cc6cf90f44",
   "metadata": {},
   "outputs": [],
   "source": [
    "## reshaping arrays\n",
    "frfr=np.array([[1,2,3,4],[5,6,7,8],[9,10,11,12],[13,14,15,16]],ndmin=4)"
   ]
  },
  {
   "cell_type": "code",
   "execution_count": 140,
   "id": "cd545264-5cf5-43fd-9443-5bc8ca7c1928",
   "metadata": {},
   "outputs": [
    {
     "data": {
      "text/plain": [
       "array([[[[ 1,  2,  3,  4],\n",
       "         [ 5,  6,  7,  8],\n",
       "         [ 9, 10, 11, 12],\n",
       "         [13, 14, 15, 16]]]])"
      ]
     },
     "execution_count": 140,
     "metadata": {},
     "output_type": "execute_result"
    }
   ],
   "source": [
    "frfr"
   ]
  },
  {
   "cell_type": "code",
   "execution_count": 141,
   "id": "69375701-09ec-4483-9556-779514ac09b9",
   "metadata": {},
   "outputs": [
    {
     "data": {
      "text/plain": [
       "(1, 1, 4, 4)"
      ]
     },
     "execution_count": 141,
     "metadata": {},
     "output_type": "execute_result"
    }
   ],
   "source": [
    "frfr.shape"
   ]
  },
  {
   "cell_type": "markdown",
   "id": "87dca17c-331c-4141-819f-753a71e16c32",
   "metadata": {},
   "source": [
    "# Reshaping arrays"
   ]
  },
  {
   "cell_type": "code",
   "execution_count": 142,
   "id": "a8a021c7-645a-4f22-a19b-6424cf1f0f3f",
   "metadata": {},
   "outputs": [],
   "source": [
    "arr=np.array([1,2,3,4,5,6,7,8,9,10,11,12])"
   ]
  },
  {
   "cell_type": "code",
   "execution_count": 143,
   "id": "3495e026-7464-4d87-adc4-91caaab1115b",
   "metadata": {},
   "outputs": [],
   "source": [
    "newarr=arr.reshape(4,3)"
   ]
  },
  {
   "cell_type": "code",
   "execution_count": 144,
   "id": "0dbec8a8-114a-485b-aa39-494752b49f32",
   "metadata": {},
   "outputs": [
    {
     "data": {
      "text/plain": [
       "array([[ 1,  2,  3],\n",
       "       [ 4,  5,  6],\n",
       "       [ 7,  8,  9],\n",
       "       [10, 11, 12]])"
      ]
     },
     "execution_count": 144,
     "metadata": {},
     "output_type": "execute_result"
    }
   ],
   "source": [
    "newarr"
   ]
  },
  {
   "cell_type": "code",
   "execution_count": 145,
   "id": "ce4a6000-acbf-408d-bb39-bf0e92db65c1",
   "metadata": {},
   "outputs": [
    {
     "data": {
      "text/plain": [
       "array([[[ 1,  2],\n",
       "        [ 3,  4],\n",
       "        [ 5,  6]],\n",
       "\n",
       "       [[ 7,  8],\n",
       "        [ 9, 10],\n",
       "        [11, 12]]])"
      ]
     },
     "execution_count": 145,
     "metadata": {},
     "output_type": "execute_result"
    }
   ],
   "source": [
    "new1=arr.reshape(2,3,2)\n",
    "new1"
   ]
  },
  {
   "cell_type": "code",
   "execution_count": 146,
   "id": "78795b81-5406-401c-9b7e-245d1e027f4c",
   "metadata": {},
   "outputs": [
    {
     "data": {
      "text/plain": [
       "array([ 1,  2,  3,  4,  5,  6,  7,  8,  9, 10, 11, 12])"
      ]
     },
     "execution_count": 146,
     "metadata": {},
     "output_type": "execute_result"
    }
   ],
   "source": [
    "new1.base"
   ]
  },
  {
   "cell_type": "code",
   "execution_count": 147,
   "id": "be7ebe1a-2609-47c8-9eea-55b96197f99a",
   "metadata": {},
   "outputs": [],
   "source": [
    "# 2,3,5\n",
    "ttf=np.array([[\n",
    "    [1,2,3,4,5],[6,7,8,9,10],[11,12,13,14,15]],\n",
    "    [[1,2,3,4,5],[6,7,8,9,10],[11,12,13,14,15]\n",
    "]])"
   ]
  },
  {
   "cell_type": "code",
   "execution_count": 148,
   "id": "b17930c0-6438-428a-a241-c176282fc46d",
   "metadata": {},
   "outputs": [
    {
     "data": {
      "text/plain": [
       "(2, 3, 5)"
      ]
     },
     "execution_count": 148,
     "metadata": {},
     "output_type": "execute_result"
    }
   ],
   "source": [
    "ttf.shape"
   ]
  },
  {
   "cell_type": "code",
   "execution_count": 149,
   "id": "8a992bf9-1040-4168-bd06-873cae3d5f4a",
   "metadata": {},
   "outputs": [
    {
     "data": {
      "text/plain": [
       "array([[ 1,  2,  3,  4,  5,  6,  7,  8,  9, 10],\n",
       "       [11, 12, 13, 14, 15,  1,  2,  3,  4,  5],\n",
       "       [ 6,  7,  8,  9, 10, 11, 12, 13, 14, 15]])"
      ]
     },
     "execution_count": 149,
     "metadata": {},
     "output_type": "execute_result"
    }
   ],
   "source": [
    "reshape=ttf.reshape(3,10)\n",
    "reshape"
   ]
  },
  {
   "cell_type": "code",
   "execution_count": 150,
   "id": "51b71458-9373-4488-a4c7-2c72d14d66d3",
   "metadata": {},
   "outputs": [
    {
     "data": {
      "text/plain": [
       "array([[[[ 1,  2,  3,  4,  5],\n",
       "         [ 6,  7,  8,  9, 10]]],\n",
       "\n",
       "\n",
       "       [[[11, 12, 13, 14, 15],\n",
       "         [ 1,  2,  3,  4,  5]]],\n",
       "\n",
       "\n",
       "       [[[ 6,  7,  8,  9, 10],\n",
       "         [11, 12, 13, 14, 15]]]])"
      ]
     },
     "execution_count": 150,
     "metadata": {},
     "output_type": "execute_result"
    }
   ],
   "source": [
    "reshape1=ttf.reshape(3,1,2,5)\n",
    "reshape1"
   ]
  },
  {
   "cell_type": "code",
   "execution_count": 151,
   "id": "43fa83f4-4e6e-4da3-92ff-ece0df9eec46",
   "metadata": {},
   "outputs": [],
   "source": [
    "one=np.array([1,2,3,4],ndmin=6)"
   ]
  },
  {
   "cell_type": "code",
   "execution_count": 152,
   "id": "c4b831e1-65b2-42dc-a67f-0422560a4f45",
   "metadata": {},
   "outputs": [
    {
     "data": {
      "text/plain": [
       "array([[[[[[1, 2, 3, 4]]]]]])"
      ]
     },
     "execution_count": 152,
     "metadata": {},
     "output_type": "execute_result"
    }
   ],
   "source": [
    "one"
   ]
  },
  {
   "cell_type": "markdown",
   "id": "f52657b0-826e-40b7-8ff5-6e0b8d5d3ec5",
   "metadata": {},
   "source": [
    "# Other functions that commonly used for array creation"
   ]
  },
  {
   "cell_type": "markdown",
   "id": "24ba8e65-b423-4cf2-95a2-62e7f1d53e33",
   "metadata": {},
   "source": [
    "## Arange()\n",
    "* numpy.arange: Create an array with a range of values."
   ]
  },
  {
   "cell_type": "code",
   "execution_count": 153,
   "id": "3834b9f3-2e44-4842-ae34-54b27eb0453d",
   "metadata": {},
   "outputs": [
    {
     "data": {
      "text/plain": [
       "array([0, 2, 4, 6, 8])"
      ]
     },
     "execution_count": 153,
     "metadata": {},
     "output_type": "execute_result"
    }
   ],
   "source": [
    "one=np.arange(0,10,2)\n",
    "one"
   ]
  },
  {
   "cell_type": "code",
   "execution_count": 154,
   "id": "19980a2f-9e0e-4c54-896b-5bf903ba0bd4",
   "metadata": {},
   "outputs": [
    {
     "data": {
      "text/plain": [
       "array([10, 11, 12, 13, 14, 15, 16, 17, 18, 19, 20, 21, 22, 23, 24, 25, 26,\n",
       "       27, 28, 29])"
      ]
     },
     "execution_count": 154,
     "metadata": {},
     "output_type": "execute_result"
    }
   ],
   "source": [
    "one=np.arange(10,30)\n",
    "one"
   ]
  },
  {
   "cell_type": "code",
   "execution_count": 155,
   "id": "72d33522-7fb3-45d1-a889-bd6c9c85bb02",
   "metadata": {},
   "outputs": [],
   "source": [
    "re=one.reshape(2,10)"
   ]
  },
  {
   "cell_type": "code",
   "execution_count": 156,
   "id": "119032cd-f564-4d4d-ba9c-6b9e2279817a",
   "metadata": {},
   "outputs": [
    {
     "data": {
      "text/plain": [
       "array([[10, 11, 12, 13, 14, 15, 16, 17, 18, 19],\n",
       "       [20, 21, 22, 23, 24, 25, 26, 27, 28, 29]])"
      ]
     },
     "execution_count": 156,
     "metadata": {},
     "output_type": "execute_result"
    }
   ],
   "source": [
    "re"
   ]
  },
  {
   "cell_type": "markdown",
   "id": "5d09835c-8e52-4186-a858-0275d95c83f5",
   "metadata": {},
   "source": [
    "## ones()"
   ]
  },
  {
   "cell_type": "code",
   "execution_count": 157,
   "id": "c2ac7f22-812d-4055-8191-a536ba8be41d",
   "metadata": {},
   "outputs": [
    {
     "data": {
      "text/plain": [
       "array([1, 1, 1, 1, 1, 1])"
      ]
     },
     "execution_count": 157,
     "metadata": {},
     "output_type": "execute_result"
    }
   ],
   "source": [
    "one=np.ones(6,dtype=\"int\")\n",
    "one"
   ]
  },
  {
   "cell_type": "code",
   "execution_count": 158,
   "id": "17074f94-1054-464f-8af7-b35b6fa48dea",
   "metadata": {},
   "outputs": [],
   "source": [
    "arr=np.ones((3,4),dtype='int')"
   ]
  },
  {
   "cell_type": "code",
   "execution_count": 159,
   "id": "0182209b-8012-4386-92c4-4f36f84975d2",
   "metadata": {},
   "outputs": [
    {
     "data": {
      "text/plain": [
       "array([[1, 1, 1, 1],\n",
       "       [1, 1, 1, 1],\n",
       "       [1, 1, 1, 1]])"
      ]
     },
     "execution_count": 159,
     "metadata": {},
     "output_type": "execute_result"
    }
   ],
   "source": [
    "arr"
   ]
  },
  {
   "cell_type": "code",
   "execution_count": 160,
   "id": "b38004fb-50ec-4035-95d4-05a0cb5db785",
   "metadata": {},
   "outputs": [],
   "source": [
    "arr=np.ones((2,2,3),dtype=\"f\")"
   ]
  },
  {
   "cell_type": "code",
   "execution_count": 161,
   "id": "1b545d0c-1497-474e-88a4-6c327454900b",
   "metadata": {},
   "outputs": [
    {
     "data": {
      "text/plain": [
       "array([[[1., 1., 1.],\n",
       "        [1., 1., 1.]],\n",
       "\n",
       "       [[1., 1., 1.],\n",
       "        [1., 1., 1.]]], dtype=float32)"
      ]
     },
     "execution_count": 161,
     "metadata": {},
     "output_type": "execute_result"
    }
   ],
   "source": [
    "arr"
   ]
  },
  {
   "cell_type": "code",
   "execution_count": 162,
   "id": "7111bb24-43a6-4ebf-b33a-05e4a9538900",
   "metadata": {},
   "outputs": [],
   "source": [
    "arr=np.ones((2,2,3),dtype=\"S\")"
   ]
  },
  {
   "cell_type": "code",
   "execution_count": 163,
   "id": "d28915b6-8b67-4b30-837a-45f31326988e",
   "metadata": {},
   "outputs": [
    {
     "data": {
      "text/plain": [
       "array([[[b'1', b'1', b'1'],\n",
       "        [b'1', b'1', b'1']],\n",
       "\n",
       "       [[b'1', b'1', b'1'],\n",
       "        [b'1', b'1', b'1']]], dtype='|S1')"
      ]
     },
     "execution_count": 163,
     "metadata": {},
     "output_type": "execute_result"
    }
   ],
   "source": [
    "arr"
   ]
  },
  {
   "cell_type": "code",
   "execution_count": 164,
   "id": "bf83e827-b2a0-49f8-9069-f17ab6e832ec",
   "metadata": {},
   "outputs": [],
   "source": [
    "arr=np.ones((2,4,2),dtype=\"b\")"
   ]
  },
  {
   "cell_type": "code",
   "execution_count": 165,
   "id": "595a042b-0727-4c78-8626-bc3fe857b08a",
   "metadata": {},
   "outputs": [
    {
     "data": {
      "text/plain": [
       "array([[[1, 1],\n",
       "        [1, 1],\n",
       "        [1, 1],\n",
       "        [1, 1]],\n",
       "\n",
       "       [[1, 1],\n",
       "        [1, 1],\n",
       "        [1, 1],\n",
       "        [1, 1]]], dtype=int8)"
      ]
     },
     "execution_count": 165,
     "metadata": {},
     "output_type": "execute_result"
    }
   ],
   "source": [
    "arr"
   ]
  },
  {
   "cell_type": "markdown",
   "id": "2823cc3c-628b-4b25-9604-db30c83316f5",
   "metadata": {},
   "source": [
    "## Zeros()"
   ]
  },
  {
   "cell_type": "code",
   "execution_count": 166,
   "id": "b929142e-52a1-4e14-ab04-611c5867b4fd",
   "metadata": {},
   "outputs": [
    {
     "data": {
      "text/plain": [
       "array([0, 0, 0, 0, 0, 0])"
      ]
     },
     "execution_count": 166,
     "metadata": {},
     "output_type": "execute_result"
    }
   ],
   "source": [
    "z=np.zeros(6,dtype=\"int\")\n",
    "z"
   ]
  },
  {
   "cell_type": "code",
   "execution_count": 167,
   "id": "63f64d94-753f-42c1-a703-57164def873e",
   "metadata": {},
   "outputs": [
    {
     "data": {
      "text/plain": [
       "array([[0, 0, 0, 0],\n",
       "       [0, 0, 0, 0],\n",
       "       [0, 0, 0, 0]])"
      ]
     },
     "execution_count": 167,
     "metadata": {},
     "output_type": "execute_result"
    }
   ],
   "source": [
    "zero=np.zeros((3,4),dtype=\"int\")\n",
    "zero"
   ]
  },
  {
   "cell_type": "code",
   "execution_count": 168,
   "id": "be2f7eb1-dec8-45a8-979e-8f20a80b84e0",
   "metadata": {},
   "outputs": [
    {
     "data": {
      "text/plain": [
       "array([[[0., 0., 0., 0., 0., 0., 0., 0.],\n",
       "        [0., 0., 0., 0., 0., 0., 0., 0.]],\n",
       "\n",
       "       [[0., 0., 0., 0., 0., 0., 0., 0.],\n",
       "        [0., 0., 0., 0., 0., 0., 0., 0.]],\n",
       "\n",
       "       [[0., 0., 0., 0., 0., 0., 0., 0.],\n",
       "        [0., 0., 0., 0., 0., 0., 0., 0.]]], dtype=float32)"
      ]
     },
     "execution_count": 168,
     "metadata": {},
     "output_type": "execute_result"
    }
   ],
   "source": [
    "zero=np.zeros((3,2,8),dtype=\"f\")\n",
    "zero"
   ]
  },
  {
   "cell_type": "markdown",
   "id": "f2c4b582-2928-4b8b-acb9-2b49cbb86caa",
   "metadata": {},
   "source": [
    "## Linspace()"
   ]
  },
  {
   "cell_type": "code",
   "execution_count": 169,
   "id": "b1f931b2-0afb-46a0-b7b0-1630e6e5670a",
   "metadata": {},
   "outputs": [
    {
     "data": {
      "text/plain": [
       "array([0.  , 0.25, 0.5 , 0.75, 1.  ])"
      ]
     },
     "execution_count": 169,
     "metadata": {},
     "output_type": "execute_result"
    }
   ],
   "source": [
    "arr=np.linspace(0,1,5)\n",
    "arr"
   ]
  },
  {
   "cell_type": "code",
   "execution_count": 170,
   "id": "b31aaa4a-e3b9-4e50-a1b5-1368eb2c1cf2",
   "metadata": {},
   "outputs": [
    {
     "data": {
      "text/plain": [
       "array([ 0. , 12.5, 25. , 37.5, 50. ])"
      ]
     },
     "execution_count": 170,
     "metadata": {},
     "output_type": "execute_result"
    }
   ],
   "source": [
    "arr1=np.linspace(0,50,5)\n",
    "arr1"
   ]
  },
  {
   "cell_type": "code",
   "execution_count": 171,
   "id": "25631021-d547-4371-976e-c34f6c3c27af",
   "metadata": {},
   "outputs": [
    {
     "data": {
      "text/plain": [
       "array([ 0., 50.])"
      ]
     },
     "execution_count": 171,
     "metadata": {},
     "output_type": "execute_result"
    }
   ],
   "source": [
    "arr2=np.linspace(0,50,2)\n",
    "arr2"
   ]
  },
  {
   "cell_type": "markdown",
   "id": "693ddb97-7bd5-4be7-b9bc-642e2825e43a",
   "metadata": {},
   "source": [
    "## diag()"
   ]
  },
  {
   "cell_type": "code",
   "execution_count": 172,
   "id": "804cb9de-5bb9-4da6-956e-eaa7ae03a6b8",
   "metadata": {},
   "outputs": [],
   "source": [
    "f=np.diag([3,4,5,6,7,8])"
   ]
  },
  {
   "cell_type": "code",
   "execution_count": 173,
   "id": "f1b66ef2-74ac-468a-aec6-61d110e07704",
   "metadata": {},
   "outputs": [
    {
     "data": {
      "text/plain": [
       "array([[3, 0, 0, 0, 0, 0],\n",
       "       [0, 4, 0, 0, 0, 0],\n",
       "       [0, 0, 5, 0, 0, 0],\n",
       "       [0, 0, 0, 6, 0, 0],\n",
       "       [0, 0, 0, 0, 7, 0],\n",
       "       [0, 0, 0, 0, 0, 8]])"
      ]
     },
     "execution_count": 173,
     "metadata": {},
     "output_type": "execute_result"
    }
   ],
   "source": [
    "f"
   ]
  },
  {
   "cell_type": "markdown",
   "id": "0a22b13a-8242-468e-8f41-c64dae62527f",
   "metadata": {},
   "source": [
    "## eye()"
   ]
  },
  {
   "cell_type": "code",
   "execution_count": 174,
   "id": "c5e87e71-d1c7-44ff-941d-881b1a279c49",
   "metadata": {},
   "outputs": [],
   "source": [
    "three=np.eye(3,dtype=\"int\")"
   ]
  },
  {
   "cell_type": "code",
   "execution_count": 175,
   "id": "d30bcfc3-234b-4d4a-9f60-35d7fd4c5a98",
   "metadata": {},
   "outputs": [
    {
     "data": {
      "text/plain": [
       "array([[1, 0, 0],\n",
       "       [0, 1, 0],\n",
       "       [0, 0, 1]])"
      ]
     },
     "execution_count": 175,
     "metadata": {},
     "output_type": "execute_result"
    }
   ],
   "source": [
    "three"
   ]
  },
  {
   "cell_type": "markdown",
   "id": "486f57bc-d78e-420f-b8d8-19b5980bd4c6",
   "metadata": {},
   "source": [
    "# mathematical operations"
   ]
  },
  {
   "cell_type": "code",
   "execution_count": 176,
   "id": "8bac750a-3f34-478c-8993-45b95398892e",
   "metadata": {},
   "outputs": [
    {
     "data": {
      "text/plain": [
       "array([20, 21, 22, 23, 24, 25, 26, 27, 28, 29, 30, 31, 32, 33, 34])"
      ]
     },
     "execution_count": 176,
     "metadata": {},
     "output_type": "execute_result"
    }
   ],
   "source": [
    "arrange=np.arange(20,35)\n",
    "arrange"
   ]
  },
  {
   "cell_type": "code",
   "execution_count": 177,
   "id": "75a8f92a-dfd0-4161-8651-1382596dfbc2",
   "metadata": {},
   "outputs": [],
   "source": [
    "re=arrange.reshape(3,5)"
   ]
  },
  {
   "cell_type": "code",
   "execution_count": 178,
   "id": "cbe0c073-5fa1-4f68-b0a7-d22e961bc024",
   "metadata": {},
   "outputs": [
    {
     "data": {
      "text/plain": [
       "array([[20, 21, 22, 23, 24],\n",
       "       [25, 26, 27, 28, 29],\n",
       "       [30, 31, 32, 33, 34]])"
      ]
     },
     "execution_count": 178,
     "metadata": {},
     "output_type": "execute_result"
    }
   ],
   "source": [
    "re"
   ]
  },
  {
   "cell_type": "code",
   "execution_count": 179,
   "id": "af047acb-a1a6-495e-a132-f740f81d7b3a",
   "metadata": {},
   "outputs": [
    {
     "data": {
      "text/plain": [
       "array([ 0,  1,  2,  3,  4,  5,  6,  7,  8,  9, 10, 11, 12, 13, 14])"
      ]
     },
     "execution_count": 179,
     "metadata": {},
     "output_type": "execute_result"
    }
   ],
   "source": [
    "a=np.arange(0,15)\n",
    "a"
   ]
  },
  {
   "cell_type": "markdown",
   "id": "91627b0f-97d9-475b-bb12-1c43f8651e04",
   "metadata": {},
   "source": [
    "# •\tnumpy.add: Add two arrays element-wise"
   ]
  },
  {
   "cell_type": "code",
   "execution_count": 180,
   "id": "55229aa3-6f36-485c-a01e-5165e32b3667",
   "metadata": {},
   "outputs": [],
   "source": [
    "add=np.add(arrange,a)"
   ]
  },
  {
   "cell_type": "code",
   "execution_count": 181,
   "id": "9df1816d-a333-462e-99b2-97b017a1ece7",
   "metadata": {},
   "outputs": [
    {
     "data": {
      "text/plain": [
       "array([20, 22, 24, 26, 28, 30, 32, 34, 36, 38, 40, 42, 44, 46, 48])"
      ]
     },
     "execution_count": 181,
     "metadata": {},
     "output_type": "execute_result"
    }
   ],
   "source": [
    "add"
   ]
  },
  {
   "cell_type": "markdown",
   "id": "09df5580-6751-4638-92b8-7c1c6b9e9ec9",
   "metadata": {},
   "source": [
    "# •\tnumpy.subtract: Subtract one array from another element-wise."
   ]
  },
  {
   "cell_type": "code",
   "execution_count": 182,
   "id": "c3c9c7ce-a408-404b-b0c9-9bd150ef2a29",
   "metadata": {},
   "outputs": [],
   "source": [
    "subtract=np.subtract(arrange,a)"
   ]
  },
  {
   "cell_type": "code",
   "execution_count": 183,
   "id": "e88b9ba9-a192-4b7c-a6fb-251ed3234a29",
   "metadata": {},
   "outputs": [
    {
     "data": {
      "text/plain": [
       "array([20, 20, 20, 20, 20, 20, 20, 20, 20, 20, 20, 20, 20, 20, 20])"
      ]
     },
     "execution_count": 183,
     "metadata": {},
     "output_type": "execute_result"
    }
   ],
   "source": [
    "subtract"
   ]
  },
  {
   "cell_type": "markdown",
   "id": "e8cf0b0a-6e5a-43d4-846f-3c178987acb1",
   "metadata": {},
   "source": [
    "# •\tnumpy.multiply: Multiply two arrays element-wise."
   ]
  },
  {
   "cell_type": "code",
   "execution_count": 184,
   "id": "f5381b89-8316-4343-82c0-1cc168da1d96",
   "metadata": {},
   "outputs": [],
   "source": [
    "multiply=np.multiply(arrange,a)"
   ]
  },
  {
   "cell_type": "code",
   "execution_count": 185,
   "id": "ebeaf9bb-1a82-46d9-be46-c90980f744b4",
   "metadata": {},
   "outputs": [
    {
     "data": {
      "text/plain": [
       "array([  0,  21,  44,  69,  96, 125, 156, 189, 224, 261, 300, 341, 384,\n",
       "       429, 476])"
      ]
     },
     "execution_count": 185,
     "metadata": {},
     "output_type": "execute_result"
    }
   ],
   "source": [
    "multiply"
   ]
  },
  {
   "cell_type": "markdown",
   "id": "a9d339c5-5571-41f5-a7e8-d93ba0be4bb9",
   "metadata": {},
   "source": [
    "# •\tnumpy.dot: Dot product of two arrays."
   ]
  },
  {
   "cell_type": "code",
   "execution_count": 186,
   "id": "a8420ed5-7026-436b-b52c-73f05b24e34e",
   "metadata": {},
   "outputs": [],
   "source": [
    "dot=np.dot(arrange,a)"
   ]
  },
  {
   "cell_type": "code",
   "execution_count": 187,
   "id": "4bfa7f22-3e11-4459-947d-f9e4adc68a37",
   "metadata": {},
   "outputs": [
    {
     "data": {
      "text/plain": [
       "3115"
      ]
     },
     "execution_count": 187,
     "metadata": {},
     "output_type": "execute_result"
    }
   ],
   "source": [
    "dot"
   ]
  },
  {
   "cell_type": "markdown",
   "id": "cd7601a5-1da6-466c-847a-f23811cab578",
   "metadata": {},
   "source": [
    "# •\tnumpy.sum: Sum of array elements."
   ]
  },
  {
   "cell_type": "code",
   "execution_count": 188,
   "id": "2de8e87f-8164-4cca-a491-bd844f592603",
   "metadata": {},
   "outputs": [
    {
     "data": {
      "text/plain": [
       "405"
      ]
     },
     "execution_count": 188,
     "metadata": {},
     "output_type": "execute_result"
    }
   ],
   "source": [
    "sum=np.sum(arrange)\n",
    "sum"
   ]
  },
  {
   "cell_type": "markdown",
   "id": "d6f001a5-5dbd-409d-b031-18f468ed6eac",
   "metadata": {},
   "source": [
    "# •\tnumpy.mean: Mean of array elements."
   ]
  },
  {
   "cell_type": "code",
   "execution_count": 189,
   "id": "89bff0af-761b-41b1-9313-f39455655914",
   "metadata": {},
   "outputs": [
    {
     "data": {
      "text/plain": [
       "27.0"
      ]
     },
     "execution_count": 189,
     "metadata": {},
     "output_type": "execute_result"
    }
   ],
   "source": [
    "mean=np.mean(arrange)\n",
    "mean"
   ]
  },
  {
   "cell_type": "markdown",
   "id": "f174e932-59d7-4f64-9e82-4ebfd3195f94",
   "metadata": {},
   "source": [
    "# •\tVariance (np.var): Calculates the variance of the elements in the array."
   ]
  },
  {
   "cell_type": "code",
   "execution_count": 190,
   "id": "6ecc5831-ff57-4006-9194-f5055eb65821",
   "metadata": {},
   "outputs": [
    {
     "data": {
      "text/plain": [
       "18.666666666666668"
      ]
     },
     "execution_count": 190,
     "metadata": {},
     "output_type": "execute_result"
    }
   ],
   "source": [
    "var=np.var(arrange)\n",
    "var"
   ]
  },
  {
   "cell_type": "markdown",
   "id": "5426a1dc-fb68-4e66-ae45-4129a64294c9",
   "metadata": {},
   "source": [
    "# •\tnumpy.std: Standard deviation of array elements."
   ]
  },
  {
   "cell_type": "code",
   "execution_count": 191,
   "id": "d02f62b9-4ab1-463e-8213-90338f77c37a",
   "metadata": {},
   "outputs": [
    {
     "data": {
      "text/plain": [
       "4.320493798938574"
      ]
     },
     "execution_count": 191,
     "metadata": {},
     "output_type": "execute_result"
    }
   ],
   "source": [
    "std=np.std(arrange)\n",
    "std"
   ]
  },
  {
   "cell_type": "markdown",
   "id": "ce86f1d2-1e62-4587-8ac8-9b13ca7f839c",
   "metadata": {},
   "source": [
    "# •\tnumpy.max: Maximum value in an array."
   ]
  },
  {
   "cell_type": "code",
   "execution_count": 192,
   "id": "97354841-3866-4f63-8d57-d185cbc1bc81",
   "metadata": {},
   "outputs": [
    {
     "data": {
      "text/plain": [
       "34"
      ]
     },
     "execution_count": 192,
     "metadata": {},
     "output_type": "execute_result"
    }
   ],
   "source": [
    "max=np.max(arrange)\n",
    "max"
   ]
  },
  {
   "cell_type": "markdown",
   "id": "a1fb559c-1f6c-4f6f-8a79-49da7396fe95",
   "metadata": {},
   "source": [
    "# •\tnumpy.max: Maximum value in an array."
   ]
  },
  {
   "cell_type": "code",
   "execution_count": 193,
   "id": "281594f6-231a-4a14-bd37-9970f70a0390",
   "metadata": {},
   "outputs": [
    {
     "data": {
      "text/plain": [
       "20"
      ]
     },
     "execution_count": 193,
     "metadata": {},
     "output_type": "execute_result"
    }
   ],
   "source": [
    "min=np.min(arrange)\n",
    "min"
   ]
  },
  {
   "cell_type": "code",
   "execution_count": 194,
   "id": "70e962cb-9435-4752-a973-6cb6c5d66a3e",
   "metadata": {},
   "outputs": [
    {
     "data": {
      "text/plain": [
       "array([ 0.        ,  2.85714286,  5.71428571,  8.57142857, 11.42857143,\n",
       "       14.28571429, 17.14285714, 20.        ])"
      ]
     },
     "execution_count": 194,
     "metadata": {},
     "output_type": "execute_result"
    }
   ],
   "source": [
    "lin=np.linspace(0,20,8)\n",
    "lin"
   ]
  },
  {
   "cell_type": "code",
   "execution_count": 195,
   "id": "867274fe-54ed-4105-b950-b5ec5ff9f180",
   "metadata": {},
   "outputs": [
    {
     "data": {
      "text/plain": [
       "array([[ 0.        ,  2.85714286,  5.71428571,  8.57142857],\n",
       "       [11.42857143, 14.28571429, 17.14285714, 20.        ]])"
      ]
     },
     "execution_count": 195,
     "metadata": {},
     "output_type": "execute_result"
    }
   ],
   "source": [
    "re=lin.reshape(2,4)\n",
    "re"
   ]
  },
  {
   "cell_type": "code",
   "execution_count": 196,
   "id": "9e9deaac-4190-46e0-b078-bf72fe3928a2",
   "metadata": {},
   "outputs": [
    {
     "data": {
      "text/plain": [
       "array([ 0.        ,  2.85714286,  5.71428571,  8.57142857, 11.42857143,\n",
       "       14.28571429, 17.14285714, 20.        ])"
      ]
     },
     "execution_count": 196,
     "metadata": {},
     "output_type": "execute_result"
    }
   ],
   "source": [
    "flatten=re.reshape(-1)\n",
    "flatten"
   ]
  },
  {
   "cell_type": "code",
   "execution_count": 197,
   "id": "552a7342-7f26-450c-803f-e4232cd8004b",
   "metadata": {},
   "outputs": [],
   "source": [
    "maxlin=np.max(lin)\n",
    "minlin=np.min(lin)\n",
    "stdlin=np.std(lin)\n",
    "varlin=np.var(lin)\n",
    "meanlin=np.mean(lin)\n",
    "sumlin=np.sum(lin)\n",
    "\n"
   ]
  },
  {
   "cell_type": "code",
   "execution_count": 198,
   "id": "7f1b4010-5508-4224-b697-000871e3d027",
   "metadata": {},
   "outputs": [
    {
     "data": {
      "text/plain": [
       "20.0"
      ]
     },
     "execution_count": 198,
     "metadata": {},
     "output_type": "execute_result"
    }
   ],
   "source": [
    "maxlin"
   ]
  },
  {
   "cell_type": "code",
   "execution_count": 199,
   "id": "fe9468c9-1028-4a97-8cc8-532e6b67b121",
   "metadata": {},
   "outputs": [
    {
     "data": {
      "text/plain": [
       "0.0"
      ]
     },
     "execution_count": 199,
     "metadata": {},
     "output_type": "execute_result"
    }
   ],
   "source": [
    "minlin"
   ]
  },
  {
   "cell_type": "code",
   "execution_count": 200,
   "id": "4a778b56-d7af-4b9c-b3ab-4510a5d0130c",
   "metadata": {},
   "outputs": [
    {
     "data": {
      "text/plain": [
       "6.546536707079771"
      ]
     },
     "execution_count": 200,
     "metadata": {},
     "output_type": "execute_result"
    }
   ],
   "source": [
    "stdlin"
   ]
  },
  {
   "cell_type": "code",
   "execution_count": 201,
   "id": "6dcf583e-07e2-42c1-b366-bcfb9926d8b8",
   "metadata": {},
   "outputs": [
    {
     "data": {
      "text/plain": [
       "42.85714285714286"
      ]
     },
     "execution_count": 201,
     "metadata": {},
     "output_type": "execute_result"
    }
   ],
   "source": [
    "varlin"
   ]
  },
  {
   "cell_type": "code",
   "execution_count": 202,
   "id": "1b97ea14-74df-413d-89e6-352b51ece614",
   "metadata": {},
   "outputs": [
    {
     "data": {
      "text/plain": [
       "80.0"
      ]
     },
     "execution_count": 202,
     "metadata": {},
     "output_type": "execute_result"
    }
   ],
   "source": [
    "sumlin"
   ]
  },
  {
   "cell_type": "code",
   "execution_count": 203,
   "id": "bab97f6d-febd-45a4-9563-d9954573c339",
   "metadata": {},
   "outputs": [
    {
     "data": {
      "text/plain": [
       "10.0"
      ]
     },
     "execution_count": 203,
     "metadata": {},
     "output_type": "execute_result"
    }
   ],
   "source": [
    "meanlin"
   ]
  },
  {
   "cell_type": "code",
   "execution_count": 204,
   "id": "0db6bcb3-2419-42d6-b27a-2c6fe7b1705a",
   "metadata": {},
   "outputs": [],
   "source": [
    "one18=np.arange(1,19)"
   ]
  },
  {
   "cell_type": "code",
   "execution_count": 205,
   "id": "72f10b95-5d17-4d29-8484-a51ecd03bde6",
   "metadata": {},
   "outputs": [
    {
     "data": {
      "text/plain": [
       "array([ 1,  2,  3,  4,  5,  6,  7,  8,  9, 10, 11, 12, 13, 14, 15, 16, 17,\n",
       "       18])"
      ]
     },
     "execution_count": 205,
     "metadata": {},
     "output_type": "execute_result"
    }
   ],
   "source": [
    "one18"
   ]
  },
  {
   "cell_type": "code",
   "execution_count": 206,
   "id": "2ed7156f-e597-4398-8ea1-e9dda6b8d440",
   "metadata": {},
   "outputs": [],
   "source": [
    "three=one18.reshape(3,2,3)"
   ]
  },
  {
   "cell_type": "code",
   "execution_count": 207,
   "id": "32681bad-4e46-479f-a1b0-9c0bbf6b8968",
   "metadata": {},
   "outputs": [
    {
     "data": {
      "text/plain": [
       "array([[[ 1,  2,  3],\n",
       "        [ 4,  5,  6]],\n",
       "\n",
       "       [[ 7,  8,  9],\n",
       "        [10, 11, 12]],\n",
       "\n",
       "       [[13, 14, 15],\n",
       "        [16, 17, 18]]])"
      ]
     },
     "execution_count": 207,
     "metadata": {},
     "output_type": "execute_result"
    }
   ],
   "source": [
    "three"
   ]
  },
  {
   "cell_type": "code",
   "execution_count": 208,
   "id": "40d7b0d4-7e0d-465b-a220-37fe52cc5cde",
   "metadata": {},
   "outputs": [],
   "source": [
    "one=three.reshape(-1)"
   ]
  },
  {
   "cell_type": "code",
   "execution_count": 209,
   "id": "6dbc073c-a466-49ec-832e-cf5a33c38db8",
   "metadata": {},
   "outputs": [
    {
     "data": {
      "text/plain": [
       "array([ 1,  2,  3,  4,  5,  6,  7,  8,  9, 10, 11, 12, 13, 14, 15, 16, 17,\n",
       "       18])"
      ]
     },
     "execution_count": 209,
     "metadata": {},
     "output_type": "execute_result"
    }
   ],
   "source": [
    "one"
   ]
  },
  {
   "cell_type": "code",
   "execution_count": 210,
   "id": "11742195-b06a-4215-8272-5503978f958e",
   "metadata": {},
   "outputs": [],
   "source": [
    "max=np.max(one)\n",
    "min=np.min(one)\n",
    "std=np.std(one)\n",
    "var=np.var(one)\n",
    "mean=np.mean(one)\n",
    "sum=np.sum(one)"
   ]
  },
  {
   "cell_type": "code",
   "execution_count": 211,
   "id": "d9d3cabd-52e4-4d41-a44b-29e09a29fa92",
   "metadata": {},
   "outputs": [
    {
     "data": {
      "text/plain": [
       "18"
      ]
     },
     "execution_count": 211,
     "metadata": {},
     "output_type": "execute_result"
    }
   ],
   "source": [
    "max"
   ]
  },
  {
   "cell_type": "code",
   "execution_count": 212,
   "id": "b92cf020-16a1-483a-92c2-b6cba53bcec9",
   "metadata": {},
   "outputs": [
    {
     "data": {
      "text/plain": [
       "1"
      ]
     },
     "execution_count": 212,
     "metadata": {},
     "output_type": "execute_result"
    }
   ],
   "source": [
    "min"
   ]
  },
  {
   "cell_type": "code",
   "execution_count": 213,
   "id": "268fa4a7-d04e-4585-b819-f33f73d3e025",
   "metadata": {},
   "outputs": [
    {
     "data": {
      "text/plain": [
       "5.188127472091127"
      ]
     },
     "execution_count": 213,
     "metadata": {},
     "output_type": "execute_result"
    }
   ],
   "source": [
    "std"
   ]
  },
  {
   "cell_type": "code",
   "execution_count": 214,
   "id": "80819f11-ddf4-488a-8d1a-bbcad50a59d6",
   "metadata": {},
   "outputs": [
    {
     "data": {
      "text/plain": [
       "26.916666666666668"
      ]
     },
     "execution_count": 214,
     "metadata": {},
     "output_type": "execute_result"
    }
   ],
   "source": [
    "var"
   ]
  },
  {
   "cell_type": "code",
   "execution_count": 215,
   "id": "ee2563bf-5729-4e42-9c19-fa59f38fb6a4",
   "metadata": {},
   "outputs": [
    {
     "data": {
      "text/plain": [
       "9.5"
      ]
     },
     "execution_count": 215,
     "metadata": {},
     "output_type": "execute_result"
    }
   ],
   "source": [
    "mean"
   ]
  },
  {
   "cell_type": "code",
   "execution_count": 216,
   "id": "8ab3df5e-87a9-4225-8ec0-fb1d520d6e1d",
   "metadata": {},
   "outputs": [
    {
     "data": {
      "text/plain": [
       "171"
      ]
     },
     "execution_count": 216,
     "metadata": {},
     "output_type": "execute_result"
    }
   ],
   "source": [
    "sum"
   ]
  },
  {
   "cell_type": "markdown",
   "id": "03a57f09-4ac7-4a37-90d4-7321be6cff78",
   "metadata": {},
   "source": [
    "### Iterating means going through elements one by one.\n",
    "  \n",
    "### As we deal with multi-dimensional arrays in numpy, we can do this using basic for loop of python.\n",
    "  \n",
    "### If we iterate on a 1-D array it will go through each element one by one."
   ]
  },
  {
   "cell_type": "code",
   "execution_count": 217,
   "id": "35a3d32d-414b-4c52-8f37-20c2421969bd",
   "metadata": {},
   "outputs": [
    {
     "name": "stdout",
     "output_type": "stream",
     "text": [
      "1,2,3,4,5,6,7,8,9,10,11,12,13,14,15,16,17,18,"
     ]
    }
   ],
   "source": [
    "for i in one:\n",
    "    print(i ,end=\",\")"
   ]
  },
  {
   "cell_type": "code",
   "execution_count": 218,
   "id": "f94d9af4-05fc-4b71-ba62-9b7bda74e2a1",
   "metadata": {},
   "outputs": [
    {
     "data": {
      "text/plain": [
       "array([0, 1, 2, 3, 4, 5, 6, 7, 8, 9])"
      ]
     },
     "execution_count": 218,
     "metadata": {},
     "output_type": "execute_result"
    }
   ],
   "source": [
    "two=np.arange(0,10)\n",
    "two"
   ]
  },
  {
   "cell_type": "code",
   "execution_count": 219,
   "id": "6fa90280-9ffb-494d-b24d-7869067334e2",
   "metadata": {},
   "outputs": [
    {
     "data": {
      "text/plain": [
       "array([[0, 1, 2, 3, 4],\n",
       "       [5, 6, 7, 8, 9]])"
      ]
     },
     "execution_count": 219,
     "metadata": {},
     "output_type": "execute_result"
    }
   ],
   "source": [
    "twod=two.reshape(2,5)\n",
    "twod"
   ]
  },
  {
   "cell_type": "code",
   "execution_count": 220,
   "id": "54f2d1e6-4844-4f44-ae21-af24e3ad1547",
   "metadata": {},
   "outputs": [
    {
     "name": "stdout",
     "output_type": "stream",
     "text": [
      "[0 1 2 3 4]\n",
      "[5 6 7 8 9]\n"
     ]
    }
   ],
   "source": [
    "for i in twod:\n",
    "    print(i)"
   ]
  },
  {
   "cell_type": "code",
   "execution_count": 221,
   "id": "9b0899bf-a45f-4572-8ae4-33952730a2d4",
   "metadata": {},
   "outputs": [
    {
     "name": "stdout",
     "output_type": "stream",
     "text": [
      "0\n",
      "1\n",
      "2\n",
      "3\n",
      "4\n",
      "5\n",
      "6\n",
      "7\n",
      "8\n",
      "9\n"
     ]
    }
   ],
   "source": [
    "for i in twod:\n",
    "    for x in i:\n",
    "         print(x)"
   ]
  },
  {
   "cell_type": "code",
   "execution_count": 222,
   "id": "cd7d54cb-83d2-4dff-a28f-a8cfe3b6cf7c",
   "metadata": {},
   "outputs": [
    {
     "data": {
      "text/plain": [
       "array([[[0, 1, 2, 3, 4]],\n",
       "\n",
       "       [[5, 6, 7, 8, 9]]])"
      ]
     },
     "execution_count": 222,
     "metadata": {},
     "output_type": "execute_result"
    }
   ],
   "source": [
    "threed=two.reshape(2,1,5)\n",
    "threed"
   ]
  },
  {
   "cell_type": "code",
   "execution_count": 223,
   "id": "93e7ba35-f988-498c-a98d-2b5a89e27dbe",
   "metadata": {},
   "outputs": [
    {
     "name": "stdout",
     "output_type": "stream",
     "text": [
      "0 1 2 3 4 5 6 7 8 9 "
     ]
    }
   ],
   "source": [
    "for i in threed:\n",
    "    for x in i:\n",
    "        for y in x:\n",
    "            print(y,end=\" \")"
   ]
  },
  {
   "cell_type": "markdown",
   "id": "97a4b04d-a7cb-4c9e-8610-d812afd0d7ed",
   "metadata": {},
   "source": [
    "# ITERATING ARRAYS USING nditer()"
   ]
  },
  {
   "cell_type": "markdown",
   "id": "32573fd3-db46-4d2f-87c0-10cc9250bfea",
   "metadata": {},
   "source": [
    "## •\tThe function nditer() is a helping function that can be used from very basic to very advanced iterations. It solves some basic issues which we face in iteration"
   ]
  },
  {
   "cell_type": "code",
   "execution_count": 224,
   "id": "ab03d7f5-e39d-48d0-8151-1944b7d9ee8d",
   "metadata": {},
   "outputs": [],
   "source": [
    "arr=np.array([[[1,2],[3,4],[5,6],[7,8]]])"
   ]
  },
  {
   "cell_type": "code",
   "execution_count": 225,
   "id": "033d8b6a-9125-482b-803a-46546cb4283d",
   "metadata": {},
   "outputs": [
    {
     "data": {
      "text/plain": [
       "array([[[1, 2],\n",
       "        [3, 4],\n",
       "        [5, 6],\n",
       "        [7, 8]]])"
      ]
     },
     "execution_count": 225,
     "metadata": {},
     "output_type": "execute_result"
    }
   ],
   "source": [
    "arr\n"
   ]
  },
  {
   "cell_type": "code",
   "execution_count": 226,
   "id": "51fc868c-283e-480b-8d7e-b4674fa0293c",
   "metadata": {},
   "outputs": [
    {
     "name": "stdout",
     "output_type": "stream",
     "text": [
      "1\n",
      "2\n",
      "3\n",
      "4\n",
      "5\n",
      "6\n",
      "7\n",
      "8\n"
     ]
    }
   ],
   "source": [
    "for i in np.nditer(arr):\n",
    "    print(i)"
   ]
  },
  {
   "cell_type": "code",
   "execution_count": 227,
   "id": "37e1368b-7745-4180-9cc8-9dbd2caec4c3",
   "metadata": {},
   "outputs": [
    {
     "name": "stdout",
     "output_type": "stream",
     "text": [
      "1\n",
      "2\n",
      "3\n",
      "4\n",
      "5\n",
      "6\n",
      "7\n",
      "8\n",
      "9\n",
      "10\n",
      "11\n",
      "12\n",
      "13\n",
      "14\n",
      "15\n",
      "16\n",
      "17\n",
      "18\n"
     ]
    }
   ],
   "source": [
    "for i in np.nditer(one):\n",
    "    print(i)"
   ]
  },
  {
   "cell_type": "markdown",
   "id": "ff546bb0-4538-4d5b-aa72-b6e02a787f49",
   "metadata": {},
   "source": [
    "# Enumerated Iteration Using ndenumerate()\n",
    "\r",
    "* ## \tEnumeration means mentioning sequence number of somethings one by one\n",
    "* ## Sometimes we require corresponding index of the element while iterating, the ndenumerate() method can be used for those use cases.s.\r\n"
   ]
  },
  {
   "cell_type": "markdown",
   "id": "51cc7afb-fb88-486f-a0f3-660ced91984e",
   "metadata": {},
   "source": [
    "## Enumerate on following 1D array's elements"
   ]
  },
  {
   "cell_type": "code",
   "execution_count": 228,
   "id": "53b818ff-74a8-4954-a03a-f959b5997bcc",
   "metadata": {},
   "outputs": [],
   "source": [
    "arr1=np.array([1,2,3,4,5,6])"
   ]
  },
  {
   "cell_type": "code",
   "execution_count": 229,
   "id": "f4bb0f83-b14e-4646-be2c-3a2da8c51131",
   "metadata": {},
   "outputs": [
    {
     "name": "stdout",
     "output_type": "stream",
     "text": [
      "(0,) 1\n",
      "(1,) 2\n",
      "(2,) 3\n",
      "(3,) 4\n",
      "(4,) 5\n",
      "(5,) 6\n"
     ]
    }
   ],
   "source": [
    "for index,i in np.ndenumerate(arr1):\n",
    "    print(index,i)\n",
    "    "
   ]
  },
  {
   "cell_type": "markdown",
   "id": "9db5c208-78ba-44f8-aef8-f0ca5f3ffdf2",
   "metadata": {},
   "source": [
    "## Enumerate on following 2D array's elements"
   ]
  },
  {
   "cell_type": "code",
   "execution_count": 230,
   "id": "8bdf6e09-bde5-42c1-ac0e-790372ae8454",
   "metadata": {},
   "outputs": [
    {
     "name": "stdout",
     "output_type": "stream",
     "text": [
      "(0, 0) 1\n",
      "(0, 1) 2\n",
      "(0, 2) 3\n",
      "(0, 3) 4\n",
      "(1, 0) 5\n",
      "(1, 1) 6\n",
      "(1, 2) 7\n",
      "(1, 3) 8\n"
     ]
    }
   ],
   "source": [
    "arr = np.array([[1, 2, 3, 4], [5, 6, 7, 8]])\n",
    "\n",
    "for idx, x in np.ndenumerate(arr):\n",
    "  print(idx, x)\n"
   ]
  },
  {
   "cell_type": "markdown",
   "id": "634e2eef-8707-4f90-b6c6-5d5c9994a46c",
   "metadata": {},
   "source": [
    "## Enumerate on following 3D array's elements"
   ]
  },
  {
   "cell_type": "code",
   "execution_count": 231,
   "id": "be476696-8237-4997-86d3-8573ca713651",
   "metadata": {},
   "outputs": [],
   "source": [
    "arr3=np.array([[[1,2],[3,4],[5,6],[7,8]]])"
   ]
  },
  {
   "cell_type": "code",
   "execution_count": 232,
   "id": "526b5e32-f803-407c-8c88-e9cab98d9b0b",
   "metadata": {},
   "outputs": [
    {
     "name": "stdout",
     "output_type": "stream",
     "text": [
      "(0, 0, 0) 1\n",
      "(0, 0, 1) 2\n",
      "(0, 1, 0) 3\n",
      "(0, 1, 1) 4\n",
      "(0, 2, 0) 5\n",
      "(0, 2, 1) 6\n",
      "(0, 3, 0) 7\n",
      "(0, 3, 1) 8\n"
     ]
    }
   ],
   "source": [
    "for index,i in np.ndenumerate(arr3):\n",
    "    print(index,i)\n",
    "    "
   ]
  },
  {
   "cell_type": "markdown",
   "id": "d48b99f9-a765-4230-876b-f8e8cba97b91",
   "metadata": {},
   "source": [
    "# Joining NumPy Arrays\n",
    "\r",
    "* ## \tJoining means putting contents of two or more arrays in a single array. You're joining them along an existing dimension (length of the table\n",
    "* ##  We pass a sequence of arrays that we want to join to the concatenate() function, along with the axis. If axis is not explicitly passed, it is taken as 0..\r\n"
   ]
  },
  {
   "cell_type": "code",
   "execution_count": 233,
   "id": "082cb0b3-91bf-486b-b92c-247ab4ad914f",
   "metadata": {},
   "outputs": [],
   "source": [
    "arr1=np.array([1,2,3])\n",
    "arr2=np.array([4,5,6])"
   ]
  },
  {
   "cell_type": "code",
   "execution_count": 234,
   "id": "db1b6afc-721e-4596-99e6-c042d32c8997",
   "metadata": {},
   "outputs": [],
   "source": [
    "arr=np.concatenate((arr1,arr2))"
   ]
  },
  {
   "cell_type": "code",
   "execution_count": 235,
   "id": "a8b1159f-180a-436d-8fd7-d4daf005afe4",
   "metadata": {},
   "outputs": [
    {
     "data": {
      "text/plain": [
       "array([1, 2, 3, 4, 5, 6])"
      ]
     },
     "execution_count": 235,
     "metadata": {},
     "output_type": "execute_result"
    }
   ],
   "source": [
    "arr"
   ]
  },
  {
   "cell_type": "code",
   "execution_count": 236,
   "id": "b9fc1b79-8015-4ed6-b2bc-291918e10eef",
   "metadata": {},
   "outputs": [],
   "source": [
    "a=np.array([[1,2,3],[5,6,7]])\n",
    "b=np.array([[11,12,13],[15,16,17]])"
   ]
  },
  {
   "cell_type": "code",
   "execution_count": 237,
   "id": "479802c2-cd1b-4ce7-b4c5-ec57b64de28e",
   "metadata": {},
   "outputs": [],
   "source": [
    "arr=np.concatenate((a,b))"
   ]
  },
  {
   "cell_type": "code",
   "execution_count": 238,
   "id": "a6b3fa2f-8ea5-4857-9672-efdabdf8c158",
   "metadata": {},
   "outputs": [
    {
     "data": {
      "text/plain": [
       "array([[ 1,  2,  3],\n",
       "       [ 5,  6,  7],\n",
       "       [11, 12, 13],\n",
       "       [15, 16, 17]])"
      ]
     },
     "execution_count": 238,
     "metadata": {},
     "output_type": "execute_result"
    }
   ],
   "source": [
    "arr"
   ]
  },
  {
   "cell_type": "code",
   "execution_count": 239,
   "id": "9d90d552-0235-49cf-b5e8-6835f0c56d72",
   "metadata": {},
   "outputs": [],
   "source": [
    "arr1=np.concatenate((a,b),axis=1)"
   ]
  },
  {
   "cell_type": "code",
   "execution_count": 240,
   "id": "5f38178e-ecee-4bd5-bb9e-6f3ce5bbe866",
   "metadata": {},
   "outputs": [
    {
     "data": {
      "text/plain": [
       "array([[ 1,  2,  3, 11, 12, 13],\n",
       "       [ 5,  6,  7, 15, 16, 17]])"
      ]
     },
     "execution_count": 240,
     "metadata": {},
     "output_type": "execute_result"
    }
   ],
   "source": [
    "arr1"
   ]
  },
  {
   "cell_type": "markdown",
   "id": "4f2556ee-79ec-4b1e-b96d-00bd145a91e0",
   "metadata": {},
   "source": [
    "## Join two 2-D arrays along rows (axis=0)"
   ]
  },
  {
   "cell_type": "code",
   "execution_count": 241,
   "id": "b3bf704f-8232-40f7-a3ff-2bb57ab9a227",
   "metadata": {},
   "outputs": [],
   "source": [
    "arr1 = np.array([[2, 5,9], [4,1,3]])\n",
    "arr2 = np.array([[5,8,3], [4,6, 1]])"
   ]
  },
  {
   "cell_type": "code",
   "execution_count": 242,
   "id": "ed2d819e-0b63-4dcb-a80c-2b7d7fd5b3dd",
   "metadata": {},
   "outputs": [
    {
     "data": {
      "text/plain": [
       "array([[2, 5, 9],\n",
       "       [4, 1, 3],\n",
       "       [5, 8, 3],\n",
       "       [4, 6, 1]])"
      ]
     },
     "execution_count": 242,
     "metadata": {},
     "output_type": "execute_result"
    }
   ],
   "source": [
    "arr=np.concatenate((arr1, arr2))\n",
    "arr"
   ]
  },
  {
   "cell_type": "markdown",
   "id": "45e3bf0e-39bb-47f6-a300-7353c66273ce",
   "metadata": {},
   "source": [
    "## Join two 2-D arrays along columns (axis=1)"
   ]
  },
  {
   "cell_type": "code",
   "execution_count": 243,
   "id": "582c6a9b-f3d2-4990-9603-b25cd708fb5c",
   "metadata": {},
   "outputs": [],
   "source": [
    "arr1 = np.array([[0,1, 3], [5,7, 9]])\n",
    "arr2 = np.array([[0,2, 4], [6,8, 10]])"
   ]
  },
  {
   "cell_type": "code",
   "execution_count": 244,
   "id": "c561b27c-9afa-4a5a-8545-622635278bce",
   "metadata": {},
   "outputs": [
    {
     "name": "stdout",
     "output_type": "stream",
     "text": [
      "[[ 0  1  3  0  2  4]\n",
      " [ 5  7  9  6  8 10]]\n"
     ]
    }
   ],
   "source": [
    "arr = np.concatenate((arr1, arr2),axis=1)\n",
    "print(arr)"
   ]
  },
  {
   "cell_type": "code",
   "execution_count": 245,
   "id": "4f2c73f9-2f30-42cf-bc9b-7f71864e3fa8",
   "metadata": {},
   "outputs": [],
   "source": [
    "three=np.arange(0,20)"
   ]
  },
  {
   "cell_type": "code",
   "execution_count": 246,
   "id": "cfe622f2-924c-40fa-a0b8-eead94df4f4e",
   "metadata": {},
   "outputs": [],
   "source": [
    "three1=three.reshape(2,2,5)"
   ]
  },
  {
   "cell_type": "code",
   "execution_count": 247,
   "id": "be9c6d78-6c8a-4885-a987-8febb936d269",
   "metadata": {},
   "outputs": [
    {
     "data": {
      "text/plain": [
       "array([[[ 0,  1,  2,  3,  4],\n",
       "        [ 5,  6,  7,  8,  9]],\n",
       "\n",
       "       [[10, 11, 12, 13, 14],\n",
       "        [15, 16, 17, 18, 19]]])"
      ]
     },
     "execution_count": 247,
     "metadata": {},
     "output_type": "execute_result"
    }
   ],
   "source": [
    "three1"
   ]
  },
  {
   "cell_type": "code",
   "execution_count": 248,
   "id": "5deef531-cfe7-4ad5-8ae8-4b8d49b20908",
   "metadata": {},
   "outputs": [],
   "source": [
    "threee=np.arange(10,30)"
   ]
  },
  {
   "cell_type": "code",
   "execution_count": 249,
   "id": "59fb378b-79a8-47ca-a2c1-1edb6aab003a",
   "metadata": {},
   "outputs": [],
   "source": [
    "three2=threee.reshape(2,2,5)"
   ]
  },
  {
   "cell_type": "code",
   "execution_count": 250,
   "id": "58301a75-d850-4c91-b407-70d321da994c",
   "metadata": {},
   "outputs": [
    {
     "data": {
      "text/plain": [
       "array([[[10, 11, 12, 13, 14],\n",
       "        [15, 16, 17, 18, 19]],\n",
       "\n",
       "       [[20, 21, 22, 23, 24],\n",
       "        [25, 26, 27, 28, 29]]])"
      ]
     },
     "execution_count": 250,
     "metadata": {},
     "output_type": "execute_result"
    }
   ],
   "source": [
    "three2"
   ]
  },
  {
   "cell_type": "markdown",
   "id": "4047bb08-d094-4275-8b62-095a1b99593d",
   "metadata": {},
   "source": [
    "## Join two 3-D arrays along rows (axis=0)"
   ]
  },
  {
   "cell_type": "code",
   "execution_count": 251,
   "id": "f5a9c2b7-44b1-43ea-a017-70e5c45df6c3",
   "metadata": {},
   "outputs": [],
   "source": [
    "con=np.concatenate((three1,three2))"
   ]
  },
  {
   "cell_type": "code",
   "execution_count": 252,
   "id": "3bcc0530-a149-4e9c-a371-c0c1531d1ea3",
   "metadata": {},
   "outputs": [
    {
     "data": {
      "text/plain": [
       "array([[[ 0,  1,  2,  3,  4],\n",
       "        [ 5,  6,  7,  8,  9]],\n",
       "\n",
       "       [[10, 11, 12, 13, 14],\n",
       "        [15, 16, 17, 18, 19]],\n",
       "\n",
       "       [[10, 11, 12, 13, 14],\n",
       "        [15, 16, 17, 18, 19]],\n",
       "\n",
       "       [[20, 21, 22, 23, 24],\n",
       "        [25, 26, 27, 28, 29]]])"
      ]
     },
     "execution_count": 252,
     "metadata": {},
     "output_type": "execute_result"
    }
   ],
   "source": [
    "con"
   ]
  },
  {
   "cell_type": "markdown",
   "id": "99531f5d-9d5a-4eb8-8eec-8b76f4491dc3",
   "metadata": {},
   "source": [
    "## Join two 3-D arrays along columns (axis=1)"
   ]
  },
  {
   "cell_type": "code",
   "execution_count": 253,
   "id": "e4f1d234-7f54-4577-8042-af194048d574",
   "metadata": {},
   "outputs": [],
   "source": [
    "con1=np.concatenate((three1,three2),axis=1)"
   ]
  },
  {
   "cell_type": "code",
   "execution_count": 254,
   "id": "457ca21d-eba2-43b6-9420-2ce5d1467015",
   "metadata": {},
   "outputs": [
    {
     "data": {
      "text/plain": [
       "array([[[ 0,  1,  2,  3,  4],\n",
       "        [ 5,  6,  7,  8,  9],\n",
       "        [10, 11, 12, 13, 14],\n",
       "        [15, 16, 17, 18, 19]],\n",
       "\n",
       "       [[10, 11, 12, 13, 14],\n",
       "        [15, 16, 17, 18, 19],\n",
       "        [20, 21, 22, 23, 24],\n",
       "        [25, 26, 27, 28, 29]]])"
      ]
     },
     "execution_count": 254,
     "metadata": {},
     "output_type": "execute_result"
    }
   ],
   "source": [
    "con1"
   ]
  },
  {
   "cell_type": "markdown",
   "id": "4bb39e4d-97e1-42eb-b492-8eaa32133ac0",
   "metadata": {},
   "source": [
    "# Joining Arrays Using Stack Functions\n",
    "\n",
    "* ## Stacking is same as concatenation, the only difference is that stacking is done along a new axis.\n",
    "  \n",
    "* ## Unlike the concatenate() function, the stack() function joins 1D arrays to be one 2D array and joins 2D arrays to be one 3D array.\n",
    "  \n",
    "* ## We can concatenate two 1-D arrays along the second axis which would result in putting them one over the other, ie. stacking.\n",
    "  \n",
    "* ## We pass a sequence of arrays that we want to join to the stack() method along with the axis. If axis is not explicitly passed it is taken as 0.\n",
    "\n",
    "\n",
    "\n",
    "# CHOOSING BETWEEN STACK AND CONCATENATION:\n",
    "\n",
    "## The choice depends on your desired outcome:\n",
    "\n",
    "* ## If you want to combine arrays with a new level of organization, use stack.\n",
    "  \n",
    "* ## If you simply want to join arrays along an existing dimension, use concatenate. "
   ]
  },
  {
   "cell_type": "code",
   "execution_count": 255,
   "id": "5099bf71-f025-497a-9c6a-51d2b21e8ff9",
   "metadata": {},
   "outputs": [],
   "source": [
    "arr1=np.array([1,2,3,4])\n",
    "arr2=np.array([6,7,8,9])"
   ]
  },
  {
   "cell_type": "code",
   "execution_count": 256,
   "id": "f0efadab-17ea-4df2-a429-6e1796023221",
   "metadata": {},
   "outputs": [
    {
     "data": {
      "text/plain": [
       "array([[1, 2, 3, 4],\n",
       "       [6, 7, 8, 9]])"
      ]
     },
     "execution_count": 256,
     "metadata": {},
     "output_type": "execute_result"
    }
   ],
   "source": [
    "# Row wise stack\n",
    "stack=np.stack((arr1,arr2))\n",
    "stack"
   ]
  },
  {
   "cell_type": "code",
   "execution_count": 257,
   "id": "cbd8ee53-b128-4441-ba1a-e2796f6c1861",
   "metadata": {},
   "outputs": [
    {
     "data": {
      "text/plain": [
       "array([[1, 6],\n",
       "       [2, 7],\n",
       "       [3, 8],\n",
       "       [4, 9]])"
      ]
     },
     "execution_count": 257,
     "metadata": {},
     "output_type": "execute_result"
    }
   ],
   "source": [
    "# Column wise stack\n",
    "stackc=np.stack((arr1,arr2),axis=1)\n",
    "stackc"
   ]
  },
  {
   "cell_type": "markdown",
   "id": "b3c7d6ee-4428-4e73-962f-c313359eddf3",
   "metadata": {},
   "source": [
    "# Stacking Along Rows (hstack)\n",
    "\n",
    "* ## NumPy provides a helper function: hstack() to stack along rows.\n",
    "  \n",
    "* ## Stacks arrays along the horizontal axis (column-wise)\n",
    "  \n",
    "* ## 1-D Arrays: The output is a 1-D array formed by concatenating the input arrays.\n",
    "  \n",
    "* ## 2-D Arrays: The output is a 2-D array where the input arrays are concatenated along the columns.\n",
    "  \n",
    "* ## Higher-Dimensional Arrays: The output has the same number of dimensions as the input arrays, but the second axis is increased to accommodate all input arrays.\n",
    "\n",
    "\tIf Axis is 0, then it will join by first dimension\n",
    "\tIf Axis is 1, the it will join by second dimension\n"
   ]
  },
  {
   "cell_type": "code",
   "execution_count": 258,
   "id": "f8e1ad40-cfa3-4f46-ab3d-d3d916f2bff8",
   "metadata": {},
   "outputs": [],
   "source": [
    "hstack=np.hstack((arr1,arr2))"
   ]
  },
  {
   "cell_type": "code",
   "execution_count": 259,
   "id": "6d782b20-0863-4e2e-8d6c-5dd5548783e6",
   "metadata": {},
   "outputs": [
    {
     "data": {
      "text/plain": [
       "array([1, 2, 3, 4, 6, 7, 8, 9])"
      ]
     },
     "execution_count": 259,
     "metadata": {},
     "output_type": "execute_result"
    }
   ],
   "source": [
    "hstack"
   ]
  },
  {
   "cell_type": "code",
   "execution_count": 260,
   "id": "9900a340-5419-4d64-aa91-6a6c324c9d77",
   "metadata": {},
   "outputs": [],
   "source": [
    "s1=np.array([[1,2,3],[5,6,7]])"
   ]
  },
  {
   "cell_type": "code",
   "execution_count": 261,
   "id": "aac801f3-6151-46d2-8903-a5db7f882b11",
   "metadata": {},
   "outputs": [],
   "source": [
    "s2=np.array([[11,12,13],[14,15,16]])"
   ]
  },
  {
   "cell_type": "code",
   "execution_count": 262,
   "id": "f0c99637-0994-4f1f-9cba-475a309b7f2d",
   "metadata": {},
   "outputs": [],
   "source": [
    "s=np.hstack((s1,s2))"
   ]
  },
  {
   "cell_type": "code",
   "execution_count": 263,
   "id": "71bc764b-9374-497b-95a6-9139409ea074",
   "metadata": {},
   "outputs": [
    {
     "data": {
      "text/plain": [
       "array([[ 1,  2,  3, 11, 12, 13],\n",
       "       [ 5,  6,  7, 14, 15, 16]])"
      ]
     },
     "execution_count": 263,
     "metadata": {},
     "output_type": "execute_result"
    }
   ],
   "source": [
    "s"
   ]
  },
  {
   "cell_type": "code",
   "execution_count": 264,
   "id": "b047b473-16cd-4bc0-92ad-9e346b157b2e",
   "metadata": {},
   "outputs": [
    {
     "data": {
      "text/plain": [
       "array([ 0,  1,  2,  3,  4,  5,  6,  7,  8,  9, 10, 11, 12, 13, 14, 15, 16,\n",
       "       17, 18, 19, 20, 21, 22, 23, 24, 25, 26, 27, 28, 29, 30, 31, 32, 33,\n",
       "       34, 35])"
      ]
     },
     "execution_count": 264,
     "metadata": {},
     "output_type": "execute_result"
    }
   ],
   "source": [
    "t=np.arange(0,36)\n",
    "t"
   ]
  },
  {
   "cell_type": "code",
   "execution_count": 265,
   "id": "d5a2114a-5d64-4e36-90e5-4aa67b08488f",
   "metadata": {},
   "outputs": [
    {
     "data": {
      "text/plain": [
       "array([[[ 0,  1,  2],\n",
       "        [ 3,  4,  5],\n",
       "        [ 6,  7,  8],\n",
       "        [ 9, 10, 11]],\n",
       "\n",
       "       [[12, 13, 14],\n",
       "        [15, 16, 17],\n",
       "        [18, 19, 20],\n",
       "        [21, 22, 23]],\n",
       "\n",
       "       [[24, 25, 26],\n",
       "        [27, 28, 29],\n",
       "        [30, 31, 32],\n",
       "        [33, 34, 35]]])"
      ]
     },
     "execution_count": 265,
     "metadata": {},
     "output_type": "execute_result"
    }
   ],
   "source": [
    "threeft=t.reshape(3,4,3)\n",
    "threeft"
   ]
  },
  {
   "cell_type": "code",
   "execution_count": 266,
   "id": "1f8f5dd5-ade1-4539-a5e1-875a0a5cf18c",
   "metadata": {},
   "outputs": [
    {
     "data": {
      "text/plain": [
       "(3, 4, 3)"
      ]
     },
     "execution_count": 266,
     "metadata": {},
     "output_type": "execute_result"
    }
   ],
   "source": [
    "threeft.shape"
   ]
  },
  {
   "cell_type": "code",
   "execution_count": 267,
   "id": "34e97f9c-be0b-44f0-85b9-e91b1eab8670",
   "metadata": {},
   "outputs": [
    {
     "data": {
      "text/plain": [
       "array([[12, 13, 14],\n",
       "       [15, 16, 17],\n",
       "       [18, 19, 20],\n",
       "       [21, 22, 23]])"
      ]
     },
     "execution_count": 267,
     "metadata": {},
     "output_type": "execute_result"
    }
   ],
   "source": [
    "threeft[1]"
   ]
  },
  {
   "cell_type": "code",
   "execution_count": 268,
   "id": "88985272-4647-44f5-9109-72a1f7ab4750",
   "metadata": {},
   "outputs": [
    {
     "data": {
      "text/plain": [
       "array([[12, 13, 14],\n",
       "       [15, 16, 17],\n",
       "       [18, 19, 20],\n",
       "       [21, 22, 23]])"
      ]
     },
     "execution_count": 268,
     "metadata": {},
     "output_type": "execute_result"
    }
   ],
   "source": [
    "threeft[1,::]"
   ]
  },
  {
   "cell_type": "code",
   "execution_count": 269,
   "id": "f7ba45ff-807d-4fe4-9c60-571a9e6c93b5",
   "metadata": {},
   "outputs": [
    {
     "data": {
      "text/plain": [
       "array([[12, 13, 14],\n",
       "       [18, 19, 20]])"
      ]
     },
     "execution_count": 269,
     "metadata": {},
     "output_type": "execute_result"
    }
   ],
   "source": [
    "threeft[1,::2]"
   ]
  },
  {
   "cell_type": "code",
   "execution_count": 270,
   "id": "74bbd6fa-683a-42b1-a7c2-0e615721048a",
   "metadata": {},
   "outputs": [
    {
     "data": {
      "text/plain": [
       "array([[12, 14],\n",
       "       [15, 17],\n",
       "       [18, 20],\n",
       "       [21, 23]])"
      ]
     },
     "execution_count": 270,
     "metadata": {},
     "output_type": "execute_result"
    }
   ],
   "source": [
    "threeft[1,:,::2]"
   ]
  },
  {
   "cell_type": "code",
   "execution_count": 271,
   "id": "74058e16-bdc2-4f04-94e5-531499048c28",
   "metadata": {},
   "outputs": [
    {
     "data": {
      "text/plain": [
       "array([[13],\n",
       "       [16],\n",
       "       [19],\n",
       "       [22]])"
      ]
     },
     "execution_count": 271,
     "metadata": {},
     "output_type": "execute_result"
    }
   ],
   "source": [
    "threeft[1,:,1::2]"
   ]
  },
  {
   "cell_type": "code",
   "execution_count": 272,
   "id": "d36e5375-e39f-4e9d-af03-096cb1e2c6e4",
   "metadata": {},
   "outputs": [],
   "source": [
    "two=np.array([0,1,2,3,4,5,6,7,8,9,10],ndmin=2)"
   ]
  },
  {
   "cell_type": "code",
   "execution_count": 273,
   "id": "31ba2960-4cd7-402c-bab2-03153c16486a",
   "metadata": {},
   "outputs": [
    {
     "data": {
      "text/plain": [
       "array([[ 0,  1,  2,  3,  4,  5,  6,  7,  8,  9, 10]])"
      ]
     },
     "execution_count": 273,
     "metadata": {},
     "output_type": "execute_result"
    }
   ],
   "source": [
    "two"
   ]
  },
  {
   "cell_type": "code",
   "execution_count": 274,
   "id": "37e83827-9329-4f27-802a-563c8449fdb0",
   "metadata": {},
   "outputs": [],
   "source": [
    "six=np.array([[ 0,  1,  2,  3,  4,  5,  6,  7,  8,  9, 10]],ndmin=6)"
   ]
  },
  {
   "cell_type": "code",
   "execution_count": 275,
   "id": "2c0ec2ed-4884-4f27-8b30-1ae768938efd",
   "metadata": {},
   "outputs": [
    {
     "data": {
      "text/plain": [
       "array([[[[[[ 0,  1,  2,  3,  4,  5,  6,  7,  8,  9, 10]]]]]])"
      ]
     },
     "execution_count": 275,
     "metadata": {},
     "output_type": "execute_result"
    }
   ],
   "source": [
    "six"
   ]
  },
  {
   "cell_type": "code",
   "execution_count": 276,
   "id": "ab7a4039-d3d3-4562-947e-4006f72d5fcd",
   "metadata": {},
   "outputs": [
    {
     "name": "stdout",
     "output_type": "stream",
     "text": [
      "0\n",
      "1\n",
      "2\n",
      "3\n",
      "4\n",
      "5\n",
      "6\n",
      "7\n",
      "8\n",
      "9\n",
      "10\n"
     ]
    }
   ],
   "source": [
    "for i in np.nditer(six):\n",
    "    print(i)"
   ]
  },
  {
   "cell_type": "code",
   "execution_count": 277,
   "id": "45f8bd9f-7e02-40dd-be16-64077f1e41e3",
   "metadata": {},
   "outputs": [
    {
     "name": "stdout",
     "output_type": "stream",
     "text": [
      "(0, 0, 0, 0, 0, 0) 0\n",
      "(0, 0, 0, 0, 0, 1) 1\n",
      "(0, 0, 0, 0, 0, 2) 2\n",
      "(0, 0, 0, 0, 0, 3) 3\n",
      "(0, 0, 0, 0, 0, 4) 4\n",
      "(0, 0, 0, 0, 0, 5) 5\n",
      "(0, 0, 0, 0, 0, 6) 6\n",
      "(0, 0, 0, 0, 0, 7) 7\n",
      "(0, 0, 0, 0, 0, 8) 8\n",
      "(0, 0, 0, 0, 0, 9) 9\n",
      "(0, 0, 0, 0, 0, 10) 10\n"
     ]
    }
   ],
   "source": [
    "for index,i in np.ndenumerate(six):\n",
    "    print(index,i)"
   ]
  },
  {
   "cell_type": "code",
   "execution_count": 278,
   "id": "d88f89b0-2870-4ece-869c-ad46c191052e",
   "metadata": {},
   "outputs": [],
   "source": [
    "max=np.max(six)\n",
    "min=np.min(six)\n",
    "std=np.std(six)\n",
    "var=np.var(six)\n",
    "mean=np.mean(six)\n",
    "sum=np.sum(six)"
   ]
  },
  {
   "cell_type": "code",
   "execution_count": 279,
   "id": "f1085a70-60ce-4630-a4f1-18482de7ee54",
   "metadata": {},
   "outputs": [
    {
     "data": {
      "text/plain": [
       "10"
      ]
     },
     "execution_count": 279,
     "metadata": {},
     "output_type": "execute_result"
    }
   ],
   "source": [
    "max"
   ]
  },
  {
   "cell_type": "code",
   "execution_count": 280,
   "id": "67a194e6-6d08-4420-9e79-6a7f5763fab9",
   "metadata": {},
   "outputs": [
    {
     "data": {
      "text/plain": [
       "0"
      ]
     },
     "execution_count": 280,
     "metadata": {},
     "output_type": "execute_result"
    }
   ],
   "source": [
    "min"
   ]
  },
  {
   "cell_type": "code",
   "execution_count": 281,
   "id": "39a67c09-06cd-4fb4-ae3e-3cdfceb279b8",
   "metadata": {},
   "outputs": [
    {
     "data": {
      "text/plain": [
       "3.1622776601683795"
      ]
     },
     "execution_count": 281,
     "metadata": {},
     "output_type": "execute_result"
    }
   ],
   "source": [
    "std"
   ]
  },
  {
   "cell_type": "code",
   "execution_count": 282,
   "id": "76527ad9-4a08-4854-9685-49ff821add92",
   "metadata": {},
   "outputs": [
    {
     "data": {
      "text/plain": [
       "10.0"
      ]
     },
     "execution_count": 282,
     "metadata": {},
     "output_type": "execute_result"
    }
   ],
   "source": [
    "var"
   ]
  },
  {
   "cell_type": "code",
   "execution_count": 283,
   "id": "6f50e4fd-d522-44bc-95d1-ddf636512a03",
   "metadata": {},
   "outputs": [
    {
     "data": {
      "text/plain": [
       "5.0"
      ]
     },
     "execution_count": 283,
     "metadata": {},
     "output_type": "execute_result"
    }
   ],
   "source": [
    "mean"
   ]
  },
  {
   "cell_type": "code",
   "execution_count": 284,
   "id": "182cd3a1-4628-4c1c-9a83-9ec95cb866ec",
   "metadata": {},
   "outputs": [
    {
     "data": {
      "text/plain": [
       "55"
      ]
     },
     "execution_count": 284,
     "metadata": {},
     "output_type": "execute_result"
    }
   ],
   "source": [
    "sum"
   ]
  },
  {
   "cell_type": "code",
   "execution_count": 285,
   "id": "5fd1fb19-3197-49ea-a67e-3fe40e9224e6",
   "metadata": {},
   "outputs": [],
   "source": [
    "two=np.array([[1,2,3,4],[5,6,7,8]])"
   ]
  },
  {
   "cell_type": "code",
   "execution_count": 286,
   "id": "2ae8d83c-6049-4049-84e8-4f19f72765b2",
   "metadata": {},
   "outputs": [],
   "source": [
    "tt=np.array([[1,5,6,7],[15,16,17,18]])"
   ]
  },
  {
   "cell_type": "code",
   "execution_count": 287,
   "id": "668086e4-58bf-437f-a290-22bf13e0d7a9",
   "metadata": {},
   "outputs": [
    {
     "data": {
      "text/plain": [
       "array([[1, 2, 3, 4],\n",
       "       [5, 6, 7, 8]])"
      ]
     },
     "execution_count": 287,
     "metadata": {},
     "output_type": "execute_result"
    }
   ],
   "source": [
    "two"
   ]
  },
  {
   "cell_type": "code",
   "execution_count": 288,
   "id": "cc2159e9-0d67-4d85-a241-3ccf0c669e7b",
   "metadata": {},
   "outputs": [
    {
     "data": {
      "text/plain": [
       "array([[ 1,  5,  6,  7],\n",
       "       [15, 16, 17, 18]])"
      ]
     },
     "execution_count": 288,
     "metadata": {},
     "output_type": "execute_result"
    }
   ],
   "source": [
    "tt"
   ]
  },
  {
   "cell_type": "code",
   "execution_count": 289,
   "id": "4ff81e50-847f-4148-92b9-2537937d872a",
   "metadata": {},
   "outputs": [
    {
     "data": {
      "text/plain": [
       "array([[ 1,  2,  3,  4],\n",
       "       [ 5,  6,  7,  8],\n",
       "       [ 1,  5,  6,  7],\n",
       "       [15, 16, 17, 18]])"
      ]
     },
     "execution_count": 289,
     "metadata": {},
     "output_type": "execute_result"
    }
   ],
   "source": [
    "arr=np.concatenate((two,tt),axis=0)\n",
    "arr"
   ]
  },
  {
   "cell_type": "code",
   "execution_count": 290,
   "id": "ec9ae5da-d3dd-4038-ad4e-02f3688aa07d",
   "metadata": {},
   "outputs": [
    {
     "data": {
      "text/plain": [
       "array([[ 1,  2,  3,  4,  1,  5,  6,  7],\n",
       "       [ 5,  6,  7,  8, 15, 16, 17, 18]])"
      ]
     },
     "execution_count": 290,
     "metadata": {},
     "output_type": "execute_result"
    }
   ],
   "source": [
    "arr=np.concatenate((two,tt),axis=1)\n",
    "arr"
   ]
  },
  {
   "cell_type": "code",
   "execution_count": 291,
   "id": "ba3d1ecc-0dcd-4045-9010-16953ae4c289",
   "metadata": {},
   "outputs": [
    {
     "data": {
      "text/plain": [
       "array([[[ 1,  2,  3,  4],\n",
       "        [ 5,  6,  7,  8]],\n",
       "\n",
       "       [[ 1,  5,  6,  7],\n",
       "        [15, 16, 17, 18]]])"
      ]
     },
     "execution_count": 291,
     "metadata": {},
     "output_type": "execute_result"
    }
   ],
   "source": [
    "arr1=np.stack((two,tt),axis=0)\n",
    "arr1"
   ]
  },
  {
   "cell_type": "code",
   "execution_count": 292,
   "id": "ede76e5c-b30b-4869-86eb-ab5ef6cde80b",
   "metadata": {},
   "outputs": [
    {
     "data": {
      "text/plain": [
       "array([[[ 1,  2,  3,  4],\n",
       "        [ 1,  5,  6,  7]],\n",
       "\n",
       "       [[ 5,  6,  7,  8],\n",
       "        [15, 16, 17, 18]]])"
      ]
     },
     "execution_count": 292,
     "metadata": {},
     "output_type": "execute_result"
    }
   ],
   "source": [
    "arr1=np.stack((two,tt),axis=1)\n",
    "arr1"
   ]
  },
  {
   "cell_type": "code",
   "execution_count": 293,
   "id": "e7d02acd-80fe-47f7-9bf6-581de4abc969",
   "metadata": {},
   "outputs": [
    {
     "data": {
      "text/plain": [
       "array([[ 1,  2,  3,  4,  1,  5,  6,  7],\n",
       "       [ 5,  6,  7,  8, 15, 16, 17, 18]])"
      ]
     },
     "execution_count": 293,
     "metadata": {},
     "output_type": "execute_result"
    }
   ],
   "source": [
    "arr3=np.hstack((two,tt))\n",
    "arr3"
   ]
  },
  {
   "cell_type": "markdown",
   "id": "ab44371e-06f0-4ae8-a828-21101231281a",
   "metadata": {},
   "source": [
    "# V Stack"
   ]
  },
  {
   "cell_type": "code",
   "execution_count": 294,
   "id": "24e79901-e142-485b-8296-7d35cc179a11",
   "metadata": {},
   "outputs": [
    {
     "data": {
      "text/plain": [
       "array([[ 1,  2,  3,  4],\n",
       "       [ 5,  6,  7,  8],\n",
       "       [ 1,  5,  6,  7],\n",
       "       [15, 16, 17, 18]])"
      ]
     },
     "execution_count": 294,
     "metadata": {},
     "output_type": "execute_result"
    }
   ],
   "source": [
    "arr3=np.vstack((two,tt))\n",
    "arr3"
   ]
  },
  {
   "cell_type": "markdown",
   "id": "aa7ba205-51ee-4b10-ba7e-ef4c182f49bb",
   "metadata": {},
   "source": [
    "# Splitting NumPy Arrays\n",
    "•\tSplitting is reverse operation of Joining.\n",
    "\n",
    "•\tJoining merges multiple arrays into one and Splitting breaks one array into multiple.\n",
    "\n",
    "•\tWe use array_split() for splitting arrays, we pass it the array we want to split and the number of splits.\n",
    "\n",
    "•\tIf the array has less elements than required, it will adjust from the end accordingly.\n"
   ]
  },
  {
   "cell_type": "markdown",
   "id": "893aaa83-6463-4d06-bf99-7d74446e5f5f",
   "metadata": {},
   "source": [
    "# Array_Split"
   ]
  },
  {
   "cell_type": "code",
   "execution_count": 295,
   "id": "ef13fa21-d109-46bb-973c-153f3e3e2f31",
   "metadata": {},
   "outputs": [
    {
     "data": {
      "text/plain": [
       "array([1, 2, 3, 4, 5, 6])"
      ]
     },
     "execution_count": 295,
     "metadata": {},
     "output_type": "execute_result"
    }
   ],
   "source": [
    "arr=np.array([1,2,3,4,5,6])\n",
    "arr"
   ]
  },
  {
   "cell_type": "code",
   "execution_count": 296,
   "id": "efd7fbaf-e3b9-40d4-bc89-06603760cd52",
   "metadata": {},
   "outputs": [],
   "source": [
    "new=np.array_split(arr,2)"
   ]
  },
  {
   "cell_type": "code",
   "execution_count": 297,
   "id": "e253783b-cd14-4853-9f5f-dcadac8475d5",
   "metadata": {},
   "outputs": [
    {
     "data": {
      "text/plain": [
       "[array([1, 2, 3]), array([4, 5, 6])]"
      ]
     },
     "execution_count": 297,
     "metadata": {},
     "output_type": "execute_result"
    }
   ],
   "source": [
    "new"
   ]
  },
  {
   "cell_type": "code",
   "execution_count": 298,
   "id": "883cd698-17fd-4efd-9c14-5f8a77fd6b24",
   "metadata": {},
   "outputs": [
    {
     "data": {
      "text/plain": [
       "[array([1, 2]), array([3, 4]), array([5, 6])]"
      ]
     },
     "execution_count": 298,
     "metadata": {},
     "output_type": "execute_result"
    }
   ],
   "source": [
    "new1=np.array_split(arr,3)\n",
    "new1"
   ]
  },
  {
   "cell_type": "code",
   "execution_count": 299,
   "id": "68a7fa13-b416-4e57-9212-6a56a6869f10",
   "metadata": {},
   "outputs": [
    {
     "data": {
      "text/plain": [
       "[array([1, 2]), array([3, 4]), array([5]), array([6])]"
      ]
     },
     "execution_count": 299,
     "metadata": {},
     "output_type": "execute_result"
    }
   ],
   "source": [
    "new2=np.array_split(arr,4)\n",
    "new2"
   ]
  },
  {
   "cell_type": "markdown",
   "id": "33f967ad-d143-4fd6-89e6-3a2c76b661f7",
   "metadata": {},
   "source": [
    "# Split"
   ]
  },
  {
   "cell_type": "code",
   "execution_count": 300,
   "id": "c0a82126-427a-46b4-afa0-a7e357b0faa9",
   "metadata": {},
   "outputs": [
    {
     "data": {
      "text/plain": [
       "array([1, 2, 3, 4, 5, 6, 7, 8])"
      ]
     },
     "execution_count": 300,
     "metadata": {},
     "output_type": "execute_result"
    }
   ],
   "source": [
    "arr=np.array([1,2,3,4,5,6,7,8])\n",
    "arr"
   ]
  },
  {
   "cell_type": "code",
   "execution_count": 301,
   "id": "9dd88494-38da-483c-beab-20a43ecc378f",
   "metadata": {},
   "outputs": [
    {
     "data": {
      "text/plain": [
       "[array([1, 2, 3, 4]), array([5, 6, 7, 8])]"
      ]
     },
     "execution_count": 301,
     "metadata": {},
     "output_type": "execute_result"
    }
   ],
   "source": [
    "a=np.split(arr,2)\n",
    "a"
   ]
  },
  {
   "cell_type": "code",
   "execution_count": 302,
   "id": "b4f9fd1c-8ab2-40bd-b175-c860fcb18752",
   "metadata": {},
   "outputs": [
    {
     "data": {
      "text/plain": [
       "[array([1, 2]), array([3, 4]), array([5, 6]), array([7, 8])]"
      ]
     },
     "execution_count": 302,
     "metadata": {},
     "output_type": "execute_result"
    }
   ],
   "source": [
    "b=np.split(arr,4)\n",
    "b"
   ]
  },
  {
   "cell_type": "markdown",
   "id": "9649ff5d-382a-4539-bf07-be870611da10",
   "metadata": {},
   "source": [
    "## We also have the method split() available but it will not adjust the elements when elements are less in source array for splitting like in example above, array_split() worked properly but split() would fail."
   ]
  },
  {
   "cell_type": "code",
   "execution_count": 303,
   "id": "a14b7874-b58e-425e-8e0d-e73f0631f0c1",
   "metadata": {},
   "outputs": [],
   "source": [
    "tf=np.array([[1,2,3,4],[5,6,7,8],[9,10,11,12]])"
   ]
  },
  {
   "cell_type": "code",
   "execution_count": 304,
   "id": "2e6bde1a-2b17-4321-9016-d38ca2275c6d",
   "metadata": {},
   "outputs": [
    {
     "data": {
      "text/plain": [
       "array([[ 1,  2,  3,  4],\n",
       "       [ 5,  6,  7,  8],\n",
       "       [ 9, 10, 11, 12]])"
      ]
     },
     "execution_count": 304,
     "metadata": {},
     "output_type": "execute_result"
    }
   ],
   "source": [
    "tf"
   ]
  },
  {
   "cell_type": "code",
   "execution_count": 305,
   "id": "ea972544-a04c-4a4c-91d8-f9d7caac5dee",
   "metadata": {},
   "outputs": [
    {
     "data": {
      "text/plain": [
       "[array([[1, 2, 3, 4],\n",
       "        [5, 6, 7, 8]]),\n",
       " array([[ 9, 10, 11, 12]])]"
      ]
     },
     "execution_count": 305,
     "metadata": {},
     "output_type": "execute_result"
    }
   ],
   "source": [
    "#axis=0,row wise array split\n",
    "two=np.array_split(tf,2)\n",
    "two"
   ]
  },
  {
   "cell_type": "code",
   "execution_count": 306,
   "id": "8a75d0df-4eb0-43ca-a64f-2bb44d06bbeb",
   "metadata": {},
   "outputs": [
    {
     "data": {
      "text/plain": [
       "[array([[ 1,  2],\n",
       "        [ 5,  6],\n",
       "        [ 9, 10]]),\n",
       " array([[ 3,  4],\n",
       "        [ 7,  8],\n",
       "        [11, 12]])]"
      ]
     },
     "execution_count": 306,
     "metadata": {},
     "output_type": "execute_result"
    }
   ],
   "source": [
    "two=np.array_split(tf,2,axis=1)\n",
    "two"
   ]
  },
  {
   "cell_type": "code",
   "execution_count": 307,
   "id": "5093c36e-9377-4de3-9852-2551b97710c5",
   "metadata": {},
   "outputs": [
    {
     "data": {
      "text/plain": [
       "[array([[ 1,  5],\n",
       "        [15, 16]]),\n",
       " array([[ 6,  7],\n",
       "        [17, 18]])]"
      ]
     },
     "execution_count": 307,
     "metadata": {},
     "output_type": "execute_result"
    }
   ],
   "source": [
    "split=np.split(tt,2,axis=1)\n",
    "split"
   ]
  },
  {
   "cell_type": "markdown",
   "id": "894a471b-40cb-4fe9-8369-afd9527987eb",
   "metadata": {},
   "source": [
    "# Searching Arrays\n",
    "•\tYou can search an array for a certain value, and return the indexes that get a match.\n",
    "\n",
    "•\tTo search an array, use the where() method.\n",
    "\n",
    "•\tFor replacing a value in a array using where()\n",
    "\n",
    "•\tnp.where(condition, x, y)\n",
    "\n",
    "•\tcondition: An array-like structure that contains boolean values (True or False).\n",
    "\r\n",
    "•\tx: The values to place in the output array where the condition is True\n",
    ".\r\n",
    "•\ty: The values to place in the output array where the condition is False.\r\n"
   ]
  },
  {
   "cell_type": "code",
   "execution_count": 308,
   "id": "95bb89f7-fe8b-452a-96dc-7fb3b4e0fc5f",
   "metadata": {},
   "outputs": [
    {
     "data": {
      "text/plain": [
       "array([ 1,  2,  3,  4,  5,  6,  7,  8,  9, 10, 11, 12, 13, 14, 15, 16, 12])"
      ]
     },
     "execution_count": 308,
     "metadata": {},
     "output_type": "execute_result"
    }
   ],
   "source": [
    "arr=np.array([1,2,3,4,5,6,7,8,9,10,11,12,13,14,15,16,12])\n",
    "arr"
   ]
  },
  {
   "cell_type": "code",
   "execution_count": 309,
   "id": "e900f0bb-ddea-4f5d-850a-d4568a4bed5c",
   "metadata": {},
   "outputs": [
    {
     "data": {
      "text/plain": [
       "(array([8], dtype=int64),)"
      ]
     },
     "execution_count": 309,
     "metadata": {},
     "output_type": "execute_result"
    }
   ],
   "source": [
    "x=np.where(arr==9)\n",
    "x"
   ]
  },
  {
   "cell_type": "code",
   "execution_count": 310,
   "id": "70c9a2ea-c01b-4625-a350-3bd131469651",
   "metadata": {},
   "outputs": [
    {
     "data": {
      "text/plain": [
       "(array([11, 16], dtype=int64),)"
      ]
     },
     "execution_count": 310,
     "metadata": {},
     "output_type": "execute_result"
    }
   ],
   "source": [
    "x=np.where(arr==12)\n",
    "x"
   ]
  },
  {
   "cell_type": "code",
   "execution_count": 311,
   "id": "be64b368-07f4-43c2-9eb4-ae16a0e85476",
   "metadata": {},
   "outputs": [
    {
     "data": {
      "text/plain": [
       "(array([ 0,  2,  4,  6,  8, 10, 12, 14], dtype=int64),)"
      ]
     },
     "execution_count": 311,
     "metadata": {},
     "output_type": "execute_result"
    }
   ],
   "source": [
    "x=np.where(arr%2!=0)\n",
    "x\n"
   ]
  },
  {
   "cell_type": "markdown",
   "id": "f986db2a-55b1-4a5e-b1bd-cecebf4f5004",
   "metadata": {},
   "source": [
    "# replace elements in a list where values lessthan 5 with zero?"
   ]
  },
  {
   "cell_type": "code",
   "execution_count": 312,
   "id": "43099e45-fff0-4a4f-9323-eae4f34a0688",
   "metadata": {},
   "outputs": [
    {
     "data": {
      "text/plain": [
       "array([ 1,  2,  3,  4,  5, 10, 11, 12, 13, 14])"
      ]
     },
     "execution_count": 312,
     "metadata": {},
     "output_type": "execute_result"
    }
   ],
   "source": [
    "arr=np.array([1,2,3,4,5,10,11,12,13,14])\n",
    "arr"
   ]
  },
  {
   "cell_type": "code",
   "execution_count": 313,
   "id": "87084599-3f64-443f-a174-27f51d91ab58",
   "metadata": {},
   "outputs": [
    {
     "data": {
      "text/plain": [
       "array([ 0,  0,  0,  0,  5, 10, 11, 12, 13, 14])"
      ]
     },
     "execution_count": 313,
     "metadata": {},
     "output_type": "execute_result"
    }
   ],
   "source": [
    "\n",
    "x=np.where(arr<5,0,arr)\n",
    "x"
   ]
  },
  {
   "cell_type": "code",
   "execution_count": 314,
   "id": "b405ef96-20ff-4ab2-95c1-8fae70c418e5",
   "metadata": {},
   "outputs": [
    {
     "data": {
      "text/plain": [
       "array([[ 1,  2,  3],\n",
       "       [ 4,  5,  6],\n",
       "       [ 7,  8,  9],\n",
       "       [10, 11, 12]])"
      ]
     },
     "execution_count": 314,
     "metadata": {},
     "output_type": "execute_result"
    }
   ],
   "source": [
    "a=np.array([[1,2,3],[4,5,6],[7,8,9],[10,11,12]])\n",
    "a"
   ]
  },
  {
   "cell_type": "code",
   "execution_count": 315,
   "id": "1e86e259-742b-4d23-b6a3-00f4aa306868",
   "metadata": {},
   "outputs": [
    {
     "data": {
      "text/plain": [
       "(array([1], dtype=int64), array([1], dtype=int64))"
      ]
     },
     "execution_count": 315,
     "metadata": {},
     "output_type": "execute_result"
    }
   ],
   "source": [
    "x=np.where(a==5)\n",
    "x"
   ]
  },
  {
   "cell_type": "code",
   "execution_count": 316,
   "id": "292d3ca0-98b2-4ed2-8747-83725da58b9b",
   "metadata": {},
   "outputs": [
    {
     "data": {
      "text/plain": [
       "(array([3], dtype=int64), array([2], dtype=int64))"
      ]
     },
     "execution_count": 316,
     "metadata": {},
     "output_type": "execute_result"
    }
   ],
   "source": [
    "y=np.where(a==12)\n",
    "y\n"
   ]
  },
  {
   "cell_type": "code",
   "execution_count": 317,
   "id": "6a351529-8f0e-489d-a23a-4e3df3ab7632",
   "metadata": {},
   "outputs": [
    {
     "data": {
      "text/plain": [
       "array([[ 1,  2,  4],\n",
       "       [ 4,  5,  7],\n",
       "       [ 7,  8, 10],\n",
       "       [10, 11, 13]])"
      ]
     },
     "execution_count": 317,
     "metadata": {},
     "output_type": "execute_result"
    }
   ],
   "source": [
    "z=np.where(a%3==0,a+1,a)\n",
    "z"
   ]
  },
  {
   "cell_type": "code",
   "execution_count": 318,
   "id": "f3df84a6-ad46-44e0-84db-b332dd7b4cf3",
   "metadata": {},
   "outputs": [
    {
     "data": {
      "text/plain": [
       "array([ 0,  1,  2,  3,  4,  5,  6,  7,  8,  9, 10, 11, 12, 13, 14, 15, 16,\n",
       "       17, 18, 19])"
      ]
     },
     "execution_count": 318,
     "metadata": {},
     "output_type": "execute_result"
    }
   ],
   "source": [
    "arr=np.arange(0,20)\n",
    "arr"
   ]
  },
  {
   "cell_type": "code",
   "execution_count": 319,
   "id": "8ef8eb42-eb2f-4d25-83a3-37ab3e4deeb1",
   "metadata": {},
   "outputs": [
    {
     "data": {
      "text/plain": [
       "array([[ 0,  1,  2,  3,  4],\n",
       "       [ 5,  6,  7,  8,  9],\n",
       "       [10, 11, 12, 13, 14],\n",
       "       [15, 16, 17, 18, 19]])"
      ]
     },
     "execution_count": 319,
     "metadata": {},
     "output_type": "execute_result"
    }
   ],
   "source": [
    "x=arr.reshape(4,5)\n",
    "x"
   ]
  },
  {
   "cell_type": "code",
   "execution_count": 320,
   "id": "1e19fdc7-03bc-49c8-9e45-2b2828529cfe",
   "metadata": {},
   "outputs": [
    {
     "data": {
      "text/plain": [
       "array([[ 0, -1, -2,  3,  4],\n",
       "       [ 5,  6,  7,  8,  9],\n",
       "       [10, 11, 12, 13, 14],\n",
       "       [15, 16, 17, 18, 19]])"
      ]
     },
     "execution_count": 320,
     "metadata": {},
     "output_type": "execute_result"
    }
   ],
   "source": [
    "z=np.where(x<3,x*-1,x)\n",
    "z"
   ]
  },
  {
   "cell_type": "markdown",
   "id": "9b9de903-c201-409a-ab3f-009f1c4662ec",
   "metadata": {},
   "source": [
    "# Sorting Arrays\n",
    "\n",
    "•\tSorting means putting elements in an ordered sequence.\n",
    "    \n",
    "•\tOrdered sequence is any sequence that has an order corresponding to elements, like numeric or alphabetical, ascending or descending.\n",
    "\n",
    "•\tThe NumPy ndarray object has a function called sort(), that will sort a specified array.\n"
   ]
  },
  {
   "cell_type": "code",
   "execution_count": 321,
   "id": "a53b88c7-639c-4ecf-afd6-fdf6f84770ed",
   "metadata": {},
   "outputs": [],
   "source": [
    "arr=np.array([1,4,3,76,93,102,11,142])"
   ]
  },
  {
   "cell_type": "code",
   "execution_count": 322,
   "id": "237563fb-60f0-4796-812f-e4f24787a5ac",
   "metadata": {},
   "outputs": [
    {
     "data": {
      "text/plain": [
       "array([  1,   3,   4,  11,  76,  93, 102, 142])"
      ]
     },
     "execution_count": 322,
     "metadata": {},
     "output_type": "execute_result"
    }
   ],
   "source": [
    "x=np.sort(arr)\n",
    "x"
   ]
  },
  {
   "cell_type": "code",
   "execution_count": 323,
   "id": "968414e8-3096-4fc0-8988-fbc5ce3049b4",
   "metadata": {},
   "outputs": [
    {
     "data": {
      "text/plain": [
       "array([142, 102,  93,  76,  11,   4,   3,   1])"
      ]
     },
     "execution_count": 323,
     "metadata": {},
     "output_type": "execute_result"
    }
   ],
   "source": [
    "x=np.sort(arr)[::-1]\n",
    "x"
   ]
  },
  {
   "cell_type": "code",
   "execution_count": 324,
   "id": "fe9b3122-5601-4e8b-8d44-64b92ae670ce",
   "metadata": {},
   "outputs": [
    {
     "data": {
      "text/plain": [
       "array([[  1,   4,   3,  76],\n",
       "       [ 93, 102,  11, 142]])"
      ]
     },
     "execution_count": 324,
     "metadata": {},
     "output_type": "execute_result"
    }
   ],
   "source": [
    "arr2=arr.reshape(2,4)\n",
    "arr2"
   ]
  },
  {
   "cell_type": "code",
   "execution_count": 325,
   "id": "1f1c412d-842c-4de1-945b-cc2515060d9a",
   "metadata": {},
   "outputs": [
    {
     "data": {
      "text/plain": [
       "array([[  1,   3,   4,  76],\n",
       "       [ 11,  93, 102, 142]])"
      ]
     },
     "execution_count": 325,
     "metadata": {},
     "output_type": "execute_result"
    }
   ],
   "source": [
    "z=np.sort(arr2)\n",
    "z"
   ]
  },
  {
   "cell_type": "code",
   "execution_count": 326,
   "id": "2694c385-3af1-4ed9-acf0-3209572ec760",
   "metadata": {},
   "outputs": [],
   "source": [
    "y=np.sort(arr2)[::-1]"
   ]
  },
  {
   "cell_type": "code",
   "execution_count": 327,
   "id": "7f431830-d4ae-487c-b758-40bb7b967dca",
   "metadata": {},
   "outputs": [
    {
     "data": {
      "text/plain": [
       "array([[ 11,  93, 102, 142],\n",
       "       [  1,   3,   4,  76]])"
      ]
     },
     "execution_count": 327,
     "metadata": {},
     "output_type": "execute_result"
    }
   ],
   "source": [
    "y"
   ]
  },
  {
   "cell_type": "code",
   "execution_count": 328,
   "id": "0d042bb0-9b64-4e47-b6b1-90dd667787cc",
   "metadata": {},
   "outputs": [
    {
     "data": {
      "text/plain": [
       "array([[142, 102,  93,  11],\n",
       "       [ 76,   4,   3,   1]])"
      ]
     },
     "execution_count": 328,
     "metadata": {},
     "output_type": "execute_result"
    }
   ],
   "source": [
    "q=np.sort(arr2)[::-1,::-1]\n",
    "q"
   ]
  },
  {
   "cell_type": "markdown",
   "id": "c656657c-7126-4f30-97c4-2bbaeba41af3",
   "metadata": {},
   "source": [
    "# Search Sorted (Optional)\n",
    "\n",
    "•\tThere is a method called searchsorted() which performs a binary search in the array, and returns the index where the specified value would be inserted to maintain the search order.\n",
    "\n",
    "•\tThe searchsorted() method is assumed to be used on sorted arrays.\n",
    "\n",
    "•\tThe method starts the search from the left and returns the first index where the number 7 is no longer larger than the next value.\n"
   ]
  },
  {
   "cell_type": "code",
   "execution_count": 329,
   "id": "335366bf-b4f4-4c24-b6d0-092c3bff083a",
   "metadata": {},
   "outputs": [
    {
     "data": {
      "text/plain": [
       "array([4, 5, 6, 7, 8, 9])"
      ]
     },
     "execution_count": 329,
     "metadata": {},
     "output_type": "execute_result"
    }
   ],
   "source": [
    "arr=np.array([4,5,6,7,8,9])\n",
    "arr"
   ]
  },
  {
   "cell_type": "code",
   "execution_count": 330,
   "id": "0a228d5e-bb0c-48d3-b0c1-6feb812e5389",
   "metadata": {},
   "outputs": [
    {
     "data": {
      "text/plain": [
       "3"
      ]
     },
     "execution_count": 330,
     "metadata": {},
     "output_type": "execute_result"
    }
   ],
   "source": [
    "ss=np.searchsorted(arr,7)\n",
    "ss"
   ]
  },
  {
   "cell_type": "markdown",
   "id": "e96e69fc-8fff-4e89-b198-7bcaa1d6b52e",
   "metadata": {},
   "source": [
    "## Search From the Right Side\n",
    "\n",
    "•\tBy default the left most index is returned, but we can give side='right' to return the right most index instead.\n"
   ]
  },
  {
   "cell_type": "code",
   "execution_count": 331,
   "id": "3cd2b36a-7ae9-4c63-95a1-72e58e709a01",
   "metadata": {},
   "outputs": [
    {
     "data": {
      "text/plain": [
       "array([4, 5, 6, 7, 8, 9])"
      ]
     },
     "execution_count": 331,
     "metadata": {},
     "output_type": "execute_result"
    }
   ],
   "source": [
    "arr=np.array([4,5,6,7,8,9])\n",
    "arr"
   ]
  },
  {
   "cell_type": "code",
   "execution_count": 332,
   "id": "264353a9-89d4-4ab2-80ca-abe4acca23e9",
   "metadata": {},
   "outputs": [
    {
     "data": {
      "text/plain": [
       "array([4, 5, 6, 7, 8, 9])"
      ]
     },
     "execution_count": 332,
     "metadata": {},
     "output_type": "execute_result"
    }
   ],
   "source": [
    "np.sort(arr)"
   ]
  },
  {
   "cell_type": "code",
   "execution_count": 333,
   "id": "fadb206b-3ee0-4c1b-81a5-62299cb0320b",
   "metadata": {},
   "outputs": [
    {
     "data": {
      "text/plain": [
       "4"
      ]
     },
     "execution_count": 333,
     "metadata": {},
     "output_type": "execute_result"
    }
   ],
   "source": [
    "ss=np.searchsorted(arr,7,side=\"right\")\n",
    "ss"
   ]
  },
  {
   "cell_type": "code",
   "execution_count": 334,
   "id": "c2658019-d550-44d3-ad87-781f34b42bf6",
   "metadata": {},
   "outputs": [
    {
     "data": {
      "text/plain": [
       "3"
      ]
     },
     "execution_count": 334,
     "metadata": {},
     "output_type": "execute_result"
    }
   ],
   "source": [
    "ss=np.searchsorted(arr,7,side=\"left\")\n",
    "ss"
   ]
  },
  {
   "cell_type": "markdown",
   "id": "5ae99511-ad0c-4c78-bfbb-fc8872add57f",
   "metadata": {},
   "source": [
    "# Filtering Arrays\n",
    "\n",
    "•\tGetting some elements out of an existing array and creating a new array out of them is called filtering.\n",
    "\n",
    "•\tIn NumPy, you filter an array using a boolean index list.\n",
    "\n",
    "•\tA boolean index list is a list of booleans corresponding to indexes in the array.\n",
    "\n",
    "•\tIf the value at an index is True that element is contained in the filtered array, if the value at that index is False that element is excluded from the filtered array.\n"
   ]
  },
  {
   "cell_type": "code",
   "execution_count": 335,
   "id": "8dee3c5a-9221-40cf-b096-592207c6416f",
   "metadata": {},
   "outputs": [
    {
     "data": {
      "text/plain": [
       "array([41, 42, 43, 44])"
      ]
     },
     "execution_count": 335,
     "metadata": {},
     "output_type": "execute_result"
    }
   ],
   "source": [
    "a=np.array([41,42,43,44])\n",
    "a"
   ]
  },
  {
   "cell_type": "code",
   "execution_count": 336,
   "id": "3f30e689-734b-4243-b494-91f574175db9",
   "metadata": {},
   "outputs": [],
   "source": [
    "x=[True,False,True,False]\n"
   ]
  },
  {
   "cell_type": "code",
   "execution_count": 337,
   "id": "16157101-85e2-4bb6-a663-c212e4f4ef83",
   "metadata": {},
   "outputs": [],
   "source": [
    "newarr=a[x]"
   ]
  },
  {
   "cell_type": "code",
   "execution_count": 338,
   "id": "33b20a27-5163-4a82-a1de-c74cb4ed4a39",
   "metadata": {},
   "outputs": [
    {
     "data": {
      "text/plain": [
       "array([41, 43])"
      ]
     },
     "execution_count": 338,
     "metadata": {},
     "output_type": "execute_result"
    }
   ],
   "source": [
    "newarr"
   ]
  },
  {
   "cell_type": "code",
   "execution_count": 339,
   "id": "74b184e7-9b4a-4270-ac02-b2e14e792da2",
   "metadata": {},
   "outputs": [
    {
     "data": {
      "text/plain": [
       "array([41, 42, 43, 44, 45, 46])"
      ]
     },
     "execution_count": 339,
     "metadata": {},
     "output_type": "execute_result"
    }
   ],
   "source": [
    "b=np.array([41,42,43,44,45,46])\n",
    "b"
   ]
  },
  {
   "cell_type": "code",
   "execution_count": 340,
   "id": "6ebcf3e3-a50f-4f38-85a3-8e6517a5f93b",
   "metadata": {},
   "outputs": [],
   "source": [
    "filter_array=[]"
   ]
  },
  {
   "cell_type": "code",
   "execution_count": 341,
   "id": "bed80815-7696-49eb-9c0e-30ce7662c0f3",
   "metadata": {},
   "outputs": [],
   "source": [
    "for i in b:\n",
    "    if i>44:\n",
    "        filter_array.append(True)\n",
    "    else:\n",
    "        filter_array.append(False)\n",
    "        \n",
    "newarr=b[filter_array]        "
   ]
  },
  {
   "cell_type": "code",
   "execution_count": 342,
   "id": "eb248093-a8f5-4da0-b349-10312dfa2971",
   "metadata": {},
   "outputs": [
    {
     "data": {
      "text/plain": [
       "[False, False, False, False, True, True]"
      ]
     },
     "execution_count": 342,
     "metadata": {},
     "output_type": "execute_result"
    }
   ],
   "source": [
    "filter_array"
   ]
  },
  {
   "cell_type": "code",
   "execution_count": 343,
   "id": "9473ba06-6db5-4941-b327-47f631117853",
   "metadata": {},
   "outputs": [
    {
     "data": {
      "text/plain": [
       "array([45, 46])"
      ]
     },
     "execution_count": 343,
     "metadata": {},
     "output_type": "execute_result"
    }
   ],
   "source": [
    "newarr"
   ]
  },
  {
   "cell_type": "markdown",
   "id": "bfdbc031-0433-4ced-a037-f00eda978eba",
   "metadata": {},
   "source": [
    "# Creating Filter Directly From Array\n",
    "\n",
    "•\tWe can directly substitute the array instead of the iterable variable in our condition and it will work just as we expect it to.\n",
    "    \n",
    "•\tCreate a filter array that will return only values higher than 42:\n",
    "\n",
    "•\timport numpy as np\n"
   ]
  },
  {
   "cell_type": "code",
   "execution_count": 344,
   "id": "f87c6d4c-fb00-4d46-94f3-f0a1104f8d09",
   "metadata": {},
   "outputs": [],
   "source": [
    "arr = np.array([41, 42, 43, 44])"
   ]
  },
  {
   "cell_type": "code",
   "execution_count": 345,
   "id": "b34bb56c-1ed8-4022-ab24-b5d3311db005",
   "metadata": {},
   "outputs": [],
   "source": [
    "filter_arr=arr>42"
   ]
  },
  {
   "cell_type": "code",
   "execution_count": 346,
   "id": "22d59572-46aa-4569-bf1d-6a12520f8b3b",
   "metadata": {},
   "outputs": [
    {
     "data": {
      "text/plain": [
       "array([False, False,  True,  True])"
      ]
     },
     "execution_count": 346,
     "metadata": {},
     "output_type": "execute_result"
    }
   ],
   "source": [
    "filter_arr"
   ]
  },
  {
   "cell_type": "code",
   "execution_count": 347,
   "id": "2a0bd270-0d7e-4d23-a0fa-a2a3897e6347",
   "metadata": {},
   "outputs": [],
   "source": [
    "newarr=arr[filter_arr]"
   ]
  },
  {
   "cell_type": "code",
   "execution_count": 348,
   "id": "8804ba76-7125-4d2a-882a-aa8b1457d878",
   "metadata": {},
   "outputs": [
    {
     "data": {
      "text/plain": [
       "array([43, 44])"
      ]
     },
     "execution_count": 348,
     "metadata": {},
     "output_type": "execute_result"
    }
   ],
   "source": [
    "newarr"
   ]
  },
  {
   "cell_type": "markdown",
   "id": "1f56a93c-8085-4367-a64e-9d6f6e590424",
   "metadata": {},
   "source": [
    "# Random Numbers\n",
    "\n",
    "* ### Random numbers are numbers that are generated in such a way that each number has an equal probability of being chosen within a specified range.\n",
    "\n",
    "* ### Random Numbers are used in a wide range of applications, from scientific simulations to cryptography (including key generation, encryption, digital signatures, and secure communication protocols) and gaming (\n",
    "  ### * Random Events (The locations and times at which enemies appear can be controlled by random numbers to keep gameplay unpredictable and engaging)\n",
    "  ### * Randomized Outcomes (Shuffling a deck of cards in digital card games relies on random numbers to ensure fair play and unpredictability).)\n",
    "* ### However, not all random numbers are created equal. They can be broadly categorized into two types:\n",
    " \t### * pseudo-random numbers \n",
    " \t### * True random numbers.\n",
    "\n"
   ]
  },
  {
   "cell_type": "markdown",
   "id": "d5ae6bc1-7420-4c87-9444-3b70c6d84df4",
   "metadata": {},
   "source": [
    "# True Random Numbers\n",
    "#### True Random Numbers are generated from physical processes that are inherently unpredictable, like radioactive decay or atmospheric noise.\n",
    "#### •\tUnpredictable: Their next value can't be guessed.\n",
    "\n",
    "#### •\tExamples: Flipping a coin, rolling a dice, measuring radioactive decay.\n"
   ]
  },
  {
   "cell_type": "markdown",
   "id": "4395e18b-80e0-4286-b75c-edabf982c064",
   "metadata": {},
   "source": [
    "# Pseudo-Random Numbers\n",
    "\n",
    "#### Pseudo-Random Numbers are generated using algorithms and a starting value called a seed. They appear random, but are actually predictable if you know the seed.\n",
    "#### •\tDeterministic: If you start with the same seed, you get the same sequence of numbers.\n",
    "#### •\tExamples: Random numbers generated by computer algorithms like the Linear Congruential Generator (LCG).\n",
    "\n"
   ]
  },
  {
   "cell_type": "markdown",
   "id": "be9b64af-53ad-4f68-aacf-f6a0836366e9",
   "metadata": {},
   "source": [
    "###  True Random Numbers: Best for cryptographic applications because they are truly unpredictable.\n",
    "\r",
    "###  Pseudo-Random Numbers: Suitable for non-cryptographic applications where high speed and reproducibility are important.."
   ]
  },
  {
   "cell_type": "markdown",
   "id": "8e90c30e-24ad-4f03-96db-5ce4a7727cf6",
   "metadata": {},
   "source": [
    "# Random Number Generation in NumPy\n",
    "\n",
    "### •\tPython defines a set of functions that are used to generate or manipulate random numbers through the random module. \n",
    "### •\tFunctions in the random module rely on a pseudo-random number generator function random(), which generates a random float number between 0.0 and 1.0.\n",
    "### •\tThis particular type of functions is used in a lot of games, lotteries, or any application requiring a random number generation.\n"
   ]
  },
  {
   "cell_type": "markdown",
   "id": "f28de0c5-b190-47d4-aa25-ea0bb8865d70",
   "metadata": {},
   "source": [
    "## Basic Random Number Generation"
   ]
  },
  {
   "cell_type": "code",
   "execution_count": 362,
   "id": "bc5299fa-b62a-4ba8-bac2-f27ef5d6ddb8",
   "metadata": {},
   "outputs": [
    {
     "data": {
      "text/plain": [
       "0.864093407726774"
      ]
     },
     "execution_count": 362,
     "metadata": {},
     "output_type": "execute_result"
    }
   ],
   "source": [
    "# 1.Single Random Float\n",
    "\n",
    "random_float = np.random.rand()\n",
    "random_float # Generates a random float between 0 and 1\n"
   ]
  },
  {
   "cell_type": "code",
   "execution_count": 359,
   "id": "ea27e972-9a6e-487f-81ca-11a1ff1991ea",
   "metadata": {},
   "outputs": [
    {
     "data": {
      "text/plain": [
       "array([23, 18, 13, 59, 51, 43, 59, 29, 48, 39])"
      ]
     },
     "execution_count": 359,
     "metadata": {},
     "output_type": "execute_result"
    }
   ],
   "source": [
    "# 2.Array of Random Integers:\n",
    "\n",
    "random_integers = np.random.randint(10, 60, size=10)\n",
    "random_integers\n",
    "         # Generates an array of 10 random integers between 10 and 60"
   ]
  },
  {
   "cell_type": "code",
   "execution_count": 367,
   "id": "d379bb3b-7b59-4379-93e0-a6cc54d53cf7",
   "metadata": {},
   "outputs": [
    {
     "data": {
      "text/plain": [
       "11"
      ]
     },
     "execution_count": 367,
     "metadata": {},
     "output_type": "execute_result"
    }
   ],
   "source": [
    "random_integers = np.random.randint(10, 60)\n",
    "random_integers"
   ]
  },
  {
   "cell_type": "markdown",
   "id": "0b66a8ba-a8d0-4011-8919-79bcac7cf513",
   "metadata": {},
   "source": [
    "# Random Arrays"
   ]
  },
  {
   "cell_type": "markdown",
   "id": "0d4d7857-18bd-4fc2-83c6-0d8f94dbdd31",
   "metadata": {},
   "source": [
    "# 2D Array of Random Floats:"
   ]
  },
  {
   "cell_type": "code",
   "execution_count": 368,
   "id": "229a70bd-f4e1-4679-b2d9-eb9de4739d9f",
   "metadata": {},
   "outputs": [
    {
     "name": "stdout",
     "output_type": "stream",
     "text": [
      "[[0.56991204 0.94771142 0.49286874]\n",
      " [0.23905897 0.43137553 0.39273553]\n",
      " [0.4964024  0.78811272 0.12895477]]\n"
     ]
    }
   ],
   "source": [
    "random_2d_array = np.random.rand(3,3)\n",
    "print(random_2d_array)  \n",
    "# Generates a 3x3 array of random floats between 0 and 1\n"
   ]
  },
  {
   "cell_type": "code",
   "execution_count": 369,
   "id": "3b496b22-7f8e-4699-94fd-b0565d40637c",
   "metadata": {},
   "outputs": [
    {
     "data": {
      "text/plain": [
       "array([[0.43198762, 0.72808377, 0.19282012, 0.88659212, 0.71387661],\n",
       "       [0.41949739, 0.48466426, 0.468095  , 0.6166853 , 0.23904374]])"
      ]
     },
     "execution_count": 369,
     "metadata": {},
     "output_type": "execute_result"
    }
   ],
   "source": [
    "random_float = np.random.rand(2,5)\n",
    "random_float"
   ]
  },
  {
   "cell_type": "markdown",
   "id": "8d076d36-1a63-4f58-a788-7aafd9db92f6",
   "metadata": {},
   "source": [
    "# Using random.uniform"
   ]
  },
  {
   "cell_type": "code",
   "execution_count": 380,
   "id": "0510a325-3b5e-45de-81bf-84a154e0b1fa",
   "metadata": {},
   "outputs": [
    {
     "data": {
      "text/plain": [
       "5.800636403428497"
      ]
     },
     "execution_count": 380,
     "metadata": {},
     "output_type": "execute_result"
    }
   ],
   "source": [
    "# Generate a single random float between 5 and 10 \n",
    "\n",
    "random_float_uniform = np.random.uniform(5, 10)\n",
    "random_float_uniform"
   ]
  },
  {
   "cell_type": "code",
   "execution_count": 376,
   "id": "b06d3cf3-dd45-4dab-b121-9ad0a36f5b38",
   "metadata": {},
   "outputs": [
    {
     "data": {
      "text/plain": [
       "9.096925578931096"
      ]
     },
     "execution_count": 376,
     "metadata": {},
     "output_type": "execute_result"
    }
   ],
   "source": [
    "float=np.random.uniform(1,10)\n",
    "float"
   ]
  },
  {
   "cell_type": "code",
   "execution_count": 377,
   "id": "72a5ba96-c0c5-41af-ad24-960f003e24fe",
   "metadata": {},
   "outputs": [
    {
     "data": {
      "text/plain": [
       "array([6.45081126, 5.73168839, 6.09835954, 7.45922638, 6.84696044])"
      ]
     },
     "execution_count": 377,
     "metadata": {},
     "output_type": "execute_result"
    }
   ],
   "source": [
    "# Generate an array of 5 random floats between 5 and 10 \n",
    "\n",
    "random_floats_uniform = np.random.uniform(5, 10, 5) \n",
    "random_floats_uniform"
   ]
  },
  {
   "cell_type": "code",
   "execution_count": 378,
   "id": "1fa3a0b9-f00c-468d-a2ce-026ce0f4f77d",
   "metadata": {},
   "outputs": [
    {
     "data": {
      "text/plain": [
       "array([34.34542689, 22.94558576, 22.02170401, 38.46794234])"
      ]
     },
     "execution_count": 378,
     "metadata": {},
     "output_type": "execute_result"
    }
   ],
   "source": [
    "random_float=np.random.uniform(20,50,4)\n",
    "random_float"
   ]
  },
  {
   "cell_type": "markdown",
   "id": "53bb0642-d344-4374-a0e9-527772df2700",
   "metadata": {},
   "source": [
    "# 1D Array from Normal Distribution:"
   ]
  },
  {
   "cell_type": "code",
   "execution_count": 384,
   "id": "593bd53b-4b8a-45c3-8154-81cf236e9f28",
   "metadata": {},
   "outputs": [
    {
     "data": {
      "text/plain": [
       "array([ 1.63740273, -0.15326932,  0.34700227,  0.02556823,  0.3370685 ,\n",
       "        0.14395074, -0.26988823, -0.05595809,  2.4889588 , -1.13099525])"
      ]
     },
     "execution_count": 384,
     "metadata": {},
     "output_type": "execute_result"
    }
   ],
   "source": [
    "random_normal = np.random.randn(10)\n",
    "random_normal  \n",
    "# Generates a 1D array of 10 random numbers from a standard normal distribution\n"
   ]
  },
  {
   "cell_type": "markdown",
   "id": "c079a4d9-6ec5-44fc-a557-8f9edaf614b1",
   "metadata": {},
   "source": [
    "# Random Choice"
   ]
  },
  {
   "cell_type": "markdown",
   "id": "2b364c90-396d-4ae6-9094-7dad7aa93f0f",
   "metadata": {},
   "source": [
    "## 1.Without Replacement:"
   ]
  },
  {
   "cell_type": "code",
   "execution_count": 388,
   "id": "ce3d42cf-78a9-4f98-b1a8-7abc2bee3cd8",
   "metadata": {},
   "outputs": [
    {
     "data": {
      "text/plain": [
       "array([5, 3, 2])"
      ]
     },
     "execution_count": 388,
     "metadata": {},
     "output_type": "execute_result"
    }
   ],
   "source": [
    "# Generates a random sample of 3 elements without replacement\n",
    "random_sample =np.random.choice([1,2,3,4,5,6], size=3, replace=False)\n",
    "random_sample"
   ]
  },
  {
   "cell_type": "code",
   "execution_count": 389,
   "id": "2325a87e-1ec2-428b-bd8b-e7d069b7d058",
   "metadata": {},
   "outputs": [
    {
     "data": {
      "text/plain": [
       "array([3, 1, 4])"
      ]
     },
     "execution_count": 389,
     "metadata": {},
     "output_type": "execute_result"
    }
   ],
   "source": [
    "random_sample =np.random.choice([1,2,3,4,5,6], size=3, replace=False)\n",
    "random_sample"
   ]
  },
  {
   "cell_type": "markdown",
   "id": "158ffe4c-b575-435a-bbb2-17e0e98c6a5d",
   "metadata": {},
   "source": [
    "## 2.With Replacement:"
   ]
  },
  {
   "cell_type": "code",
   "execution_count": 391,
   "id": "5157f790-fb6a-4957-8300-56c3de20ad35",
   "metadata": {},
   "outputs": [
    {
     "data": {
      "text/plain": [
       "array([10, 20, 10])"
      ]
     },
     "execution_count": 391,
     "metadata": {},
     "output_type": "execute_result"
    }
   ],
   "source": [
    "# Generates a random sample of 3 elements with replacement\n",
    "random_sample_with_replacement = np.random.choice([10, 20, 30, 40, 50], size=3, replace=True)\n",
    "random_sample_with_replacement"
   ]
  },
  {
   "cell_type": "markdown",
   "id": "8f7e7b74-5b65-4c92-8cbf-ea1733c5a503",
   "metadata": {},
   "source": [
    "# Setting a Seed\n",
    "* ### Setting a seed ensures reproducibility of random number sequences:\n"
   ]
  },
  {
   "cell_type": "code",
   "execution_count": 397,
   "id": "5c3b941a-eec5-4ad0-b07b-90de278b11eb",
   "metadata": {},
   "outputs": [
    {
     "data": {
      "text/plain": [
       "array([0.37454012, 0.95071431, 0.73199394, 0.59865848, 0.15601864])"
      ]
     },
     "execution_count": 397,
     "metadata": {},
     "output_type": "execute_result"
    }
   ],
   "source": [
    "# The same array will be generated every time this code is run\n",
    "np.random.seed(42)\n",
    "array = np.random.rand(5)\n",
    "array "
   ]
  },
  {
   "cell_type": "code",
   "execution_count": 398,
   "id": "fc6b2b28-77cc-418a-b6fa-8f3804ecfccd",
   "metadata": {},
   "outputs": [
    {
     "data": {
      "text/plain": [
       "array([0.03856168, 0.78010046, 0.09270376, 0.63289269])"
      ]
     },
     "execution_count": 398,
     "metadata": {},
     "output_type": "execute_result"
    }
   ],
   "source": [
    "np.random.seed(34)\n",
    "array = np.random.rand(4)\n",
    "array "
   ]
  },
  {
   "cell_type": "markdown",
   "id": "74066a38-5434-46fc-a8b0-3777d4acf732",
   "metadata": {},
   "source": [
    "# Shuffling"
   ]
  },
  {
   "cell_type": "markdown",
   "id": "48c866fb-490e-430f-9ea9-ebb13c5b5f9c",
   "metadata": {},
   "source": [
    "## 1.Shuffle Array Elements:"
   ]
  },
  {
   "cell_type": "code",
   "execution_count": 399,
   "id": "b518053c-d70b-4429-9ed6-6917bd4134c7",
   "metadata": {},
   "outputs": [
    {
     "name": "stdout",
     "output_type": "stream",
     "text": [
      "[1 2 5 3 4]\n"
     ]
    }
   ],
   "source": [
    "array= np.array([1, 2, 3, 4, 5])\n",
    "np.random.shuffle(array)\n",
    "print(array) \n",
    "          # Shuffles the elements of the array in-place\n"
   ]
  },
  {
   "cell_type": "code",
   "execution_count": 402,
   "id": "3e6600d4-e763-4d08-96d3-f1bd503ed61a",
   "metadata": {},
   "outputs": [
    {
     "name": "stdout",
     "output_type": "stream",
     "text": [
      "[100 102 101 103 104 105]\n"
     ]
    }
   ],
   "source": [
    "array= np.array([100,101,102,103,104,105])\n",
    "np.random.shuffle(array)\n",
    "print(array) \n"
   ]
  },
  {
   "cell_type": "markdown",
   "id": "6cb7ce6c-31b8-45c3-8eec-4e9653817e43",
   "metadata": {},
   "source": [
    "# 2.Shuffle Rows of a 2D Array:"
   ]
  },
  {
   "cell_type": "code",
   "execution_count": 403,
   "id": "5418b315-d84b-4354-9976-8afd4b006a52",
   "metadata": {},
   "outputs": [
    {
     "name": "stdout",
     "output_type": "stream",
     "text": [
      "[[3 4]\n",
      " [5 6]\n",
      " [1 2]]\n"
     ]
    }
   ],
   "source": [
    "# Shuffles the rows of the 2D array\n",
    "array_2d = np.array([[1, 2], [3, 4], [5, 6]])\n",
    "np.random.shuffle(array_2d)\n",
    "print(array_2d)  "
   ]
  },
  {
   "cell_type": "markdown",
   "id": "d90e955b-1544-40da-a35c-c49f05f7aab5",
   "metadata": {},
   "source": [
    "# Statistical Distributions"
   ]
  },
  {
   "cell_type": "markdown",
   "id": "bdc8ee14-2f16-45c9-8fdf-7e04ceaf47f1",
   "metadata": {},
   "source": [
    "## 1.Uniform Distribution:\n",
    "### Uniform Distribution is a type of probability distribution where all outcomes are equally likely. Each value within a specified range has an equal probability of occurring. This distribution is often used when there is no reason to prefer one outcome over another.\n"
   ]
  },
  {
   "cell_type": "code",
   "execution_count": 408,
   "id": "770b671c-7c04-404f-82ec-beeff31d92a6",
   "metadata": {},
   "outputs": [
    {
     "data": {
      "text/plain": [
       "array([ 0.98910838,  0.83136379,  0.16540432, -0.94227985,  0.39016405,\n",
       "       -0.0160459 ,  0.22250362, -0.18025103, -0.28315918,  0.90689567])"
      ]
     },
     "execution_count": 408,
     "metadata": {},
     "output_type": "execute_result"
    }
   ],
   "source": [
    "# Generate 10 random floats between -1 and 1\n",
    "uniform_random_numbers = np.random.uniform(-1, 1, size=10)\n",
    "uniform_random_numbers"
   ]
  },
  {
   "cell_type": "markdown",
   "id": "85f8a90e-6234-4f89-92fb-168ae6c3fc4b",
   "metadata": {},
   "source": [
    "# 2.Poisson Distribution:\n",
    "\n",
    "### Poisson Distribution is a probability distribution that models the number of events occurring within a fixed interval of time or space, given the events happen with a known constant rate and are independent of the time since the last event. It is often used to model rare events.\n"
   ]
  },
  {
   "cell_type": "code",
   "execution_count": 412,
   "id": "80da9965-c40c-433e-b3d8-830333a36852",
   "metadata": {},
   "outputs": [
    {
     "data": {
      "text/plain": [
       "array([ 7,  4,  2,  6,  4,  6,  5,  6, 10,  7])"
      ]
     },
     "execution_count": 412,
     "metadata": {},
     "output_type": "execute_result"
    }
   ],
   "source": [
    "# Generate 10 random numbers from a Poisson distribution with lambda = 3\n",
    "poisson_random_numbers = np.random.poisson(lam=5, size=10)\n",
    "poisson_random_numbers"
   ]
  },
  {
   "cell_type": "code",
   "execution_count": null,
   "id": "2a7e7388-8c07-4c7c-969b-8ce19879caba",
   "metadata": {},
   "outputs": [],
   "source": []
  }
 ],
 "metadata": {
  "kernelspec": {
   "display_name": "Python 3 (ipykernel)",
   "language": "python",
   "name": "python3"
  },
  "language_info": {
   "codemirror_mode": {
    "name": "ipython",
    "version": 3
   },
   "file_extension": ".py",
   "mimetype": "text/x-python",
   "name": "python",
   "nbconvert_exporter": "python",
   "pygments_lexer": "ipython3",
   "version": "3.12.4"
  }
 },
 "nbformat": 4,
 "nbformat_minor": 5
}
